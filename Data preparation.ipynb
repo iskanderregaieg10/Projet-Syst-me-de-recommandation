{
 "cells": [
  {
   "cell_type": "code",
   "execution_count": 1,
   "metadata": {},
   "outputs": [],
   "source": [
    "import pandas as pd\n",
    "client=pd.read_csv('client.csv',sep=',',encoding=\"latin8\")"
   ]
  },
  {
   "cell_type": "markdown",
   "metadata": {},
   "source": [
    "# DataSet transaction"
   ]
  },
  {
   "cell_type": "code",
   "execution_count": 2,
   "metadata": {},
   "outputs": [
    {
     "data": {
      "text/html": [
       "<div>\n",
       "<style scoped>\n",
       "    .dataframe tbody tr th:only-of-type {\n",
       "        vertical-align: middle;\n",
       "    }\n",
       "\n",
       "    .dataframe tbody tr th {\n",
       "        vertical-align: top;\n",
       "    }\n",
       "\n",
       "    .dataframe thead th {\n",
       "        text-align: right;\n",
       "    }\n",
       "</style>\n",
       "<table border=\"1\" class=\"dataframe\">\n",
       "  <thead>\n",
       "    <tr style=\"text-align: right;\">\n",
       "      <th></th>\n",
       "      <th>Code_article</th>\n",
       "      <th>Collection</th>\n",
       "      <th>LibellÃ©_article</th>\n",
       "      <th>GROUP ligne doc</th>\n",
       "      <th>MARKET ligne doc</th>\n",
       "      <th>DEPARTEMENT ligne doc</th>\n",
       "      <th>DÃ©signation ligne</th>\n",
       "      <th>Client</th>\n",
       "      <th>Etablissement de creation carte</th>\n",
       "      <th>Ville</th>\n",
       "      <th>...</th>\n",
       "      <th>Mois de naissance</th>\n",
       "      <th>AnnÃ©e de naissance</th>\n",
       "      <th>Etablissement passage</th>\n",
       "      <th>NumÃ©ro_ticket</th>\n",
       "      <th>DateAchat</th>\n",
       "      <th>QuantitÃ©</th>\n",
       "      <th>prix_unit</th>\n",
       "      <th>Total_TTC</th>\n",
       "      <th>Etablissement passage.1</th>\n",
       "      <th>Zone commerciale</th>\n",
       "    </tr>\n",
       "  </thead>\n",
       "  <tbody>\n",
       "    <tr>\n",
       "      <th>0</th>\n",
       "      <td>XN354</td>\n",
       "      <td>H20</td>\n",
       "      <td>T-SHIRT</td>\n",
       "      <td>GRKIDS</td>\n",
       "      <td>KIDSBOY</td>\n",
       "      <td>KIBTSHLS</td>\n",
       "      <td>T-SHIRT 8A - 8A GREY DINO - 38072</td>\n",
       "      <td>M7300729</td>\n",
       "      <td>(M73)TUNISCITY</td>\n",
       "      <td>HAMMAMET</td>\n",
       "      <td>...</td>\n",
       "      <td>4</td>\n",
       "      <td>1986</td>\n",
       "      <td>(M70) KIABISOUKRA</td>\n",
       "      <td>70769212</td>\n",
       "      <td>2020-11-01</td>\n",
       "      <td>1</td>\n",
       "      <td>22.0</td>\n",
       "      <td>22.0</td>\n",
       "      <td>(M70) KIABISOUKRA</td>\n",
       "      <td>HAMMAMET</td>\n",
       "    </tr>\n",
       "    <tr>\n",
       "      <th>1</th>\n",
       "      <td>XO790</td>\n",
       "      <td>H20</td>\n",
       "      <td>SOUS PULL</td>\n",
       "      <td>GRBABY</td>\n",
       "      <td>BABIES</td>\n",
       "      <td>BTSHIRTLS</td>\n",
       "      <td>SOUS PULL 18M - 18M REAL BLACK - 15701</td>\n",
       "      <td>M7300729</td>\n",
       "      <td>(M73)TUNISCITY</td>\n",
       "      <td>HAMMAMET</td>\n",
       "      <td>...</td>\n",
       "      <td>4</td>\n",
       "      <td>1986</td>\n",
       "      <td>(M70) KIABISOUKRA</td>\n",
       "      <td>70769212</td>\n",
       "      <td>2020-11-01</td>\n",
       "      <td>1</td>\n",
       "      <td>12.0</td>\n",
       "      <td>12.0</td>\n",
       "      <td>(M70) KIABISOUKRA</td>\n",
       "      <td>HAMMAMET</td>\n",
       "    </tr>\n",
       "    <tr>\n",
       "      <th>2</th>\n",
       "      <td>XL400</td>\n",
       "      <td>H20</td>\n",
       "      <td>T-SHIRT</td>\n",
       "      <td>GRBABY</td>\n",
       "      <td>BABIES</td>\n",
       "      <td>BTSHIRTLS</td>\n",
       "      <td>T-SHIRT 18M - 18M RED VIE - 54140</td>\n",
       "      <td>M7300729</td>\n",
       "      <td>(M73)TUNISCITY</td>\n",
       "      <td>HAMMAMET</td>\n",
       "      <td>...</td>\n",
       "      <td>4</td>\n",
       "      <td>1986</td>\n",
       "      <td>(M70) KIABISOUKRA</td>\n",
       "      <td>70769212</td>\n",
       "      <td>2020-11-01</td>\n",
       "      <td>1</td>\n",
       "      <td>9.0</td>\n",
       "      <td>9.0</td>\n",
       "      <td>(M70) KIABISOUKRA</td>\n",
       "      <td>HAMMAMET</td>\n",
       "    </tr>\n",
       "    <tr>\n",
       "      <th>3</th>\n",
       "      <td>XL409</td>\n",
       "      <td>H20</td>\n",
       "      <td>T-SHIRT</td>\n",
       "      <td>GRBABY</td>\n",
       "      <td>BABIES</td>\n",
       "      <td>BTSHIRTLS</td>\n",
       "      <td>T-SHIRT 18M - 18M PINK ETOIL - 53707</td>\n",
       "      <td>M7300729</td>\n",
       "      <td>(M73)TUNISCITY</td>\n",
       "      <td>HAMMAMET</td>\n",
       "      <td>...</td>\n",
       "      <td>4</td>\n",
       "      <td>1986</td>\n",
       "      <td>(M70) KIABISOUKRA</td>\n",
       "      <td>70769212</td>\n",
       "      <td>2020-11-01</td>\n",
       "      <td>1</td>\n",
       "      <td>22.0</td>\n",
       "      <td>22.0</td>\n",
       "      <td>(M70) KIABISOUKRA</td>\n",
       "      <td>HAMMAMET</td>\n",
       "    </tr>\n",
       "    <tr>\n",
       "      <th>4</th>\n",
       "      <td>XL409</td>\n",
       "      <td>H20</td>\n",
       "      <td>T-SHIRT</td>\n",
       "      <td>GRBABY</td>\n",
       "      <td>BABIES</td>\n",
       "      <td>BTSHIRTLS</td>\n",
       "      <td>T-SHIRT 18M - 18M ORANG ETOI - 53706</td>\n",
       "      <td>M7300729</td>\n",
       "      <td>(M73)TUNISCITY</td>\n",
       "      <td>HAMMAMET</td>\n",
       "      <td>...</td>\n",
       "      <td>4</td>\n",
       "      <td>1986</td>\n",
       "      <td>(M70) KIABISOUKRA</td>\n",
       "      <td>70769212</td>\n",
       "      <td>2020-11-01</td>\n",
       "      <td>1</td>\n",
       "      <td>22.0</td>\n",
       "      <td>22.0</td>\n",
       "      <td>(M70) KIABISOUKRA</td>\n",
       "      <td>HAMMAMET</td>\n",
       "    </tr>\n",
       "    <tr>\n",
       "      <th>...</th>\n",
       "      <td>...</td>\n",
       "      <td>...</td>\n",
       "      <td>...</td>\n",
       "      <td>...</td>\n",
       "      <td>...</td>\n",
       "      <td>...</td>\n",
       "      <td>...</td>\n",
       "      <td>...</td>\n",
       "      <td>...</td>\n",
       "      <td>...</td>\n",
       "      <td>...</td>\n",
       "      <td>...</td>\n",
       "      <td>...</td>\n",
       "      <td>...</td>\n",
       "      <td>...</td>\n",
       "      <td>...</td>\n",
       "      <td>...</td>\n",
       "      <td>...</td>\n",
       "      <td>...</td>\n",
       "      <td>...</td>\n",
       "      <td>...</td>\n",
       "    </tr>\n",
       "    <tr>\n",
       "      <th>154661</th>\n",
       "      <td>XP868</td>\n",
       "      <td>H20</td>\n",
       "      <td>PULL</td>\n",
       "      <td>GRMEN</td>\n",
       "      <td>MSTANDARD</td>\n",
       "      <td>MSTJUMPER</td>\n",
       "      <td>PULL XL - XL MEDIUM_GRE - 39027</td>\n",
       "      <td>74019819</td>\n",
       "      <td>(M74)AZURCITY</td>\n",
       "      <td>BEN AROUSÂ</td>\n",
       "      <td>...</td>\n",
       "      <td>1</td>\n",
       "      <td>2000</td>\n",
       "      <td>(M74)AZURCITY</td>\n",
       "      <td>74066723</td>\n",
       "      <td>2020-12-15</td>\n",
       "      <td>1</td>\n",
       "      <td>55.0</td>\n",
       "      <td>55.0</td>\n",
       "      <td>(M74)AZURCITY</td>\n",
       "      <td>BEN AROUSÂ</td>\n",
       "    </tr>\n",
       "    <tr>\n",
       "      <th>154662</th>\n",
       "      <td>XP868</td>\n",
       "      <td>H20</td>\n",
       "      <td>PULL</td>\n",
       "      <td>GRMEN</td>\n",
       "      <td>MSTANDARD</td>\n",
       "      <td>MSTJUMPER</td>\n",
       "      <td>PULL XL - XL CIEL_CAP - 39598</td>\n",
       "      <td>74019819</td>\n",
       "      <td>(M74)AZURCITY</td>\n",
       "      <td>BEN AROUSÂ</td>\n",
       "      <td>...</td>\n",
       "      <td>1</td>\n",
       "      <td>2000</td>\n",
       "      <td>(M74)AZURCITY</td>\n",
       "      <td>74066723</td>\n",
       "      <td>2020-12-15</td>\n",
       "      <td>1</td>\n",
       "      <td>55.0</td>\n",
       "      <td>55.0</td>\n",
       "      <td>(M74)AZURCITY</td>\n",
       "      <td>BEN AROUSÂ</td>\n",
       "    </tr>\n",
       "    <tr>\n",
       "      <th>154663</th>\n",
       "      <td>XP868</td>\n",
       "      <td>H20</td>\n",
       "      <td>PULL</td>\n",
       "      <td>GRMEN</td>\n",
       "      <td>MSTANDARD</td>\n",
       "      <td>MSTJUMPER</td>\n",
       "      <td>PULL XL - XL BEIGE CH - 998</td>\n",
       "      <td>74019819</td>\n",
       "      <td>(M74)AZURCITY</td>\n",
       "      <td>BEN AROUSÂ</td>\n",
       "      <td>...</td>\n",
       "      <td>1</td>\n",
       "      <td>2000</td>\n",
       "      <td>(M74)AZURCITY</td>\n",
       "      <td>74066723</td>\n",
       "      <td>2020-12-15</td>\n",
       "      <td>1</td>\n",
       "      <td>55.0</td>\n",
       "      <td>55.0</td>\n",
       "      <td>(M74)AZURCITY</td>\n",
       "      <td>BEN AROUSÂ</td>\n",
       "    </tr>\n",
       "    <tr>\n",
       "      <th>154664</th>\n",
       "      <td>XP615</td>\n",
       "      <td>H20</td>\n",
       "      <td>PANTALON DENIM</td>\n",
       "      <td>GRMEN</td>\n",
       "      <td>MSTANDARD</td>\n",
       "      <td>MSTTROUSER</td>\n",
       "      <td>PANTALON DENIM 46 - 46 BRUT USED - 2199</td>\n",
       "      <td>74019819</td>\n",
       "      <td>(M74)AZURCITY</td>\n",
       "      <td>BEN AROUSÂ</td>\n",
       "      <td>...</td>\n",
       "      <td>1</td>\n",
       "      <td>2000</td>\n",
       "      <td>(M74)AZURCITY</td>\n",
       "      <td>74066723</td>\n",
       "      <td>2020-12-15</td>\n",
       "      <td>1</td>\n",
       "      <td>95.0</td>\n",
       "      <td>95.0</td>\n",
       "      <td>(M74)AZURCITY</td>\n",
       "      <td>BEN AROUSÂ</td>\n",
       "    </tr>\n",
       "    <tr>\n",
       "      <th>154665</th>\n",
       "      <td>XG462</td>\n",
       "      <td>H20</td>\n",
       "      <td>PANTALON</td>\n",
       "      <td>GRMEN</td>\n",
       "      <td>MSTANDARD</td>\n",
       "      <td>MSTTROUSER</td>\n",
       "      <td>PANTALON 46 - 46 SNOW_BLUE - 39314</td>\n",
       "      <td>74019819</td>\n",
       "      <td>(M74)AZURCITY</td>\n",
       "      <td>BEN AROUSÂ</td>\n",
       "      <td>...</td>\n",
       "      <td>1</td>\n",
       "      <td>2000</td>\n",
       "      <td>(M74)AZURCITY</td>\n",
       "      <td>74066723</td>\n",
       "      <td>2020-12-15</td>\n",
       "      <td>1</td>\n",
       "      <td>95.0</td>\n",
       "      <td>95.0</td>\n",
       "      <td>(M74)AZURCITY</td>\n",
       "      <td>BEN AROUSÂ</td>\n",
       "    </tr>\n",
       "  </tbody>\n",
       "</table>\n",
       "<p>154666 rows × 22 columns</p>\n",
       "</div>"
      ],
      "text/plain": [
       "       Code_article Collection LibellÃ©_article GROUP ligne doc  \\\n",
       "0             XN354        H20          T-SHIRT          GRKIDS   \n",
       "1             XO790        H20        SOUS PULL          GRBABY   \n",
       "2             XL400        H20          T-SHIRT          GRBABY   \n",
       "3             XL409        H20          T-SHIRT          GRBABY   \n",
       "4             XL409        H20          T-SHIRT          GRBABY   \n",
       "...             ...        ...              ...             ...   \n",
       "154661        XP868        H20             PULL           GRMEN   \n",
       "154662        XP868        H20             PULL           GRMEN   \n",
       "154663        XP868        H20             PULL           GRMEN   \n",
       "154664        XP615        H20   PANTALON DENIM           GRMEN   \n",
       "154665        XG462        H20         PANTALON           GRMEN   \n",
       "\n",
       "       MARKET ligne doc DEPARTEMENT ligne doc  \\\n",
       "0               KIDSBOY              KIBTSHLS   \n",
       "1                BABIES             BTSHIRTLS   \n",
       "2                BABIES             BTSHIRTLS   \n",
       "3                BABIES             BTSHIRTLS   \n",
       "4                BABIES             BTSHIRTLS   \n",
       "...                 ...                   ...   \n",
       "154661        MSTANDARD             MSTJUMPER   \n",
       "154662        MSTANDARD             MSTJUMPER   \n",
       "154663        MSTANDARD             MSTJUMPER   \n",
       "154664        MSTANDARD            MSTTROUSER   \n",
       "154665        MSTANDARD            MSTTROUSER   \n",
       "\n",
       "                             DÃ©signation ligne    Client  \\\n",
       "0             T-SHIRT 8A - 8A GREY DINO - 38072  M7300729   \n",
       "1        SOUS PULL 18M - 18M REAL BLACK - 15701  M7300729   \n",
       "2             T-SHIRT 18M - 18M RED VIE - 54140  M7300729   \n",
       "3          T-SHIRT 18M - 18M PINK ETOIL - 53707  M7300729   \n",
       "4          T-SHIRT 18M - 18M ORANG ETOI - 53706  M7300729   \n",
       "...                                         ...       ...   \n",
       "154661          PULL XL - XL MEDIUM_GRE - 39027  74019819   \n",
       "154662            PULL XL - XL CIEL_CAP - 39598  74019819   \n",
       "154663              PULL XL - XL BEIGE CH - 998  74019819   \n",
       "154664  PANTALON DENIM 46 - 46 BRUT USED - 2199  74019819   \n",
       "154665       PANTALON 46 - 46 SNOW_BLUE - 39314  74019819   \n",
       "\n",
       "       Etablissement de creation carte        Ville  ... Mois de naissance  \\\n",
       "0                       (M73)TUNISCITY     HAMMAMET  ...                 4   \n",
       "1                       (M73)TUNISCITY     HAMMAMET  ...                 4   \n",
       "2                       (M73)TUNISCITY     HAMMAMET  ...                 4   \n",
       "3                       (M73)TUNISCITY     HAMMAMET  ...                 4   \n",
       "4                       (M73)TUNISCITY     HAMMAMET  ...                 4   \n",
       "...                                ...          ...  ...               ...   \n",
       "154661                   (M74)AZURCITY  BEN AROUSÂ   ...                 1   \n",
       "154662                   (M74)AZURCITY  BEN AROUSÂ   ...                 1   \n",
       "154663                   (M74)AZURCITY  BEN AROUSÂ   ...                 1   \n",
       "154664                   (M74)AZURCITY  BEN AROUSÂ   ...                 1   \n",
       "154665                   (M74)AZURCITY  BEN AROUSÂ   ...                 1   \n",
       "\n",
       "        AnnÃ©e de naissance  Etablissement passage  NumÃ©ro_ticket  \\\n",
       "0                      1986      (M70) KIABISOUKRA        70769212   \n",
       "1                      1986      (M70) KIABISOUKRA        70769212   \n",
       "2                      1986      (M70) KIABISOUKRA        70769212   \n",
       "3                      1986      (M70) KIABISOUKRA        70769212   \n",
       "4                      1986      (M70) KIABISOUKRA        70769212   \n",
       "...                     ...                    ...             ...   \n",
       "154661                 2000          (M74)AZURCITY        74066723   \n",
       "154662                 2000          (M74)AZURCITY        74066723   \n",
       "154663                 2000          (M74)AZURCITY        74066723   \n",
       "154664                 2000          (M74)AZURCITY        74066723   \n",
       "154665                 2000          (M74)AZURCITY        74066723   \n",
       "\n",
       "         DateAchat  QuantitÃ© prix_unit  Total_TTC  Etablissement passage.1  \\\n",
       "0       2020-11-01          1      22.0       22.0        (M70) KIABISOUKRA   \n",
       "1       2020-11-01          1      12.0       12.0        (M70) KIABISOUKRA   \n",
       "2       2020-11-01          1       9.0        9.0        (M70) KIABISOUKRA   \n",
       "3       2020-11-01          1      22.0       22.0        (M70) KIABISOUKRA   \n",
       "4       2020-11-01          1      22.0       22.0        (M70) KIABISOUKRA   \n",
       "...            ...        ...       ...        ...                      ...   \n",
       "154661  2020-12-15          1      55.0       55.0            (M74)AZURCITY   \n",
       "154662  2020-12-15          1      55.0       55.0            (M74)AZURCITY   \n",
       "154663  2020-12-15          1      55.0       55.0            (M74)AZURCITY   \n",
       "154664  2020-12-15          1      95.0       95.0            (M74)AZURCITY   \n",
       "154665  2020-12-15          1      95.0       95.0            (M74)AZURCITY   \n",
       "\n",
       "        Zone commerciale  \n",
       "0               HAMMAMET  \n",
       "1               HAMMAMET  \n",
       "2               HAMMAMET  \n",
       "3               HAMMAMET  \n",
       "4               HAMMAMET  \n",
       "...                  ...  \n",
       "154661       BEN AROUSÂ   \n",
       "154662       BEN AROUSÂ   \n",
       "154663       BEN AROUSÂ   \n",
       "154664       BEN AROUSÂ   \n",
       "154665       BEN AROUSÂ   \n",
       "\n",
       "[154666 rows x 22 columns]"
      ]
     },
     "execution_count": 2,
     "metadata": {},
     "output_type": "execute_result"
    }
   ],
   "source": [
    "import pandas as pd\n",
    "transaction=pd.read_csv('transaction.csv',sep=',',encoding=\"latin8\")\n",
    "transaction"
   ]
  },
  {
   "cell_type": "code",
   "execution_count": 325,
   "metadata": {},
   "outputs": [
    {
     "data": {
      "text/plain": [
       "(154666, 22)"
      ]
     },
     "execution_count": 325,
     "metadata": {},
     "output_type": "execute_result"
    }
   ],
   "source": [
    "transaction.shape"
   ]
  },
  {
   "cell_type": "markdown",
   "metadata": {},
   "source": [
    "# DataSet Client"
   ]
  },
  {
   "cell_type": "code",
   "execution_count": 3,
   "metadata": {},
   "outputs": [
    {
     "data": {
      "text/html": [
       "<div>\n",
       "<style scoped>\n",
       "    .dataframe tbody tr th:only-of-type {\n",
       "        vertical-align: middle;\n",
       "    }\n",
       "\n",
       "    .dataframe tbody tr th {\n",
       "        vertical-align: top;\n",
       "    }\n",
       "\n",
       "    .dataframe thead th {\n",
       "        text-align: right;\n",
       "    }\n",
       "</style>\n",
       "<table border=\"1\" class=\"dataframe\">\n",
       "  <thead>\n",
       "    <tr style=\"text-align: right;\">\n",
       "      <th></th>\n",
       "      <th>Client</th>\n",
       "      <th>Etablissement de creation carte</th>\n",
       "      <th>Ville</th>\n",
       "      <th>Sexe</th>\n",
       "      <th>Jour de naissance</th>\n",
       "      <th>Mois de naissance</th>\n",
       "      <th>AnnÃ©e de naissance</th>\n",
       "      <th>Etablissement passage</th>\n",
       "    </tr>\n",
       "  </thead>\n",
       "  <tbody>\n",
       "    <tr>\n",
       "      <th>0</th>\n",
       "      <td>M7300729</td>\n",
       "      <td>(M73)TUNISCITY</td>\n",
       "      <td>HAMMAMET</td>\n",
       "      <td>Homme</td>\n",
       "      <td>18</td>\n",
       "      <td>4</td>\n",
       "      <td>1986</td>\n",
       "      <td>(M70) KIABISOUKRA</td>\n",
       "    </tr>\n",
       "    <tr>\n",
       "      <th>1</th>\n",
       "      <td>M7300729</td>\n",
       "      <td>(M73)TUNISCITY</td>\n",
       "      <td>HAMMAMET</td>\n",
       "      <td>Homme</td>\n",
       "      <td>18</td>\n",
       "      <td>4</td>\n",
       "      <td>1986</td>\n",
       "      <td>(M70) KIABISOUKRA</td>\n",
       "    </tr>\n",
       "    <tr>\n",
       "      <th>2</th>\n",
       "      <td>M7300729</td>\n",
       "      <td>(M73)TUNISCITY</td>\n",
       "      <td>HAMMAMET</td>\n",
       "      <td>Homme</td>\n",
       "      <td>18</td>\n",
       "      <td>4</td>\n",
       "      <td>1986</td>\n",
       "      <td>(M70) KIABISOUKRA</td>\n",
       "    </tr>\n",
       "    <tr>\n",
       "      <th>3</th>\n",
       "      <td>M7300729</td>\n",
       "      <td>(M73)TUNISCITY</td>\n",
       "      <td>HAMMAMET</td>\n",
       "      <td>Homme</td>\n",
       "      <td>18</td>\n",
       "      <td>4</td>\n",
       "      <td>1986</td>\n",
       "      <td>(M70) KIABISOUKRA</td>\n",
       "    </tr>\n",
       "    <tr>\n",
       "      <th>4</th>\n",
       "      <td>M7300729</td>\n",
       "      <td>(M73)TUNISCITY</td>\n",
       "      <td>HAMMAMET</td>\n",
       "      <td>Homme</td>\n",
       "      <td>18</td>\n",
       "      <td>4</td>\n",
       "      <td>1986</td>\n",
       "      <td>(M70) KIABISOUKRA</td>\n",
       "    </tr>\n",
       "    <tr>\n",
       "      <th>...</th>\n",
       "      <td>...</td>\n",
       "      <td>...</td>\n",
       "      <td>...</td>\n",
       "      <td>...</td>\n",
       "      <td>...</td>\n",
       "      <td>...</td>\n",
       "      <td>...</td>\n",
       "      <td>...</td>\n",
       "    </tr>\n",
       "    <tr>\n",
       "      <th>154661</th>\n",
       "      <td>74019819</td>\n",
       "      <td>(M74)AZURCITY</td>\n",
       "      <td>BEN AROUSÂ</td>\n",
       "      <td>Homme</td>\n",
       "      <td>7</td>\n",
       "      <td>1</td>\n",
       "      <td>2000</td>\n",
       "      <td>(M74)AZURCITY</td>\n",
       "    </tr>\n",
       "    <tr>\n",
       "      <th>154662</th>\n",
       "      <td>74019819</td>\n",
       "      <td>(M74)AZURCITY</td>\n",
       "      <td>BEN AROUSÂ</td>\n",
       "      <td>Homme</td>\n",
       "      <td>7</td>\n",
       "      <td>1</td>\n",
       "      <td>2000</td>\n",
       "      <td>(M74)AZURCITY</td>\n",
       "    </tr>\n",
       "    <tr>\n",
       "      <th>154663</th>\n",
       "      <td>74019819</td>\n",
       "      <td>(M74)AZURCITY</td>\n",
       "      <td>BEN AROUSÂ</td>\n",
       "      <td>Homme</td>\n",
       "      <td>7</td>\n",
       "      <td>1</td>\n",
       "      <td>2000</td>\n",
       "      <td>(M74)AZURCITY</td>\n",
       "    </tr>\n",
       "    <tr>\n",
       "      <th>154664</th>\n",
       "      <td>74019819</td>\n",
       "      <td>(M74)AZURCITY</td>\n",
       "      <td>BEN AROUSÂ</td>\n",
       "      <td>Homme</td>\n",
       "      <td>7</td>\n",
       "      <td>1</td>\n",
       "      <td>2000</td>\n",
       "      <td>(M74)AZURCITY</td>\n",
       "    </tr>\n",
       "    <tr>\n",
       "      <th>154665</th>\n",
       "      <td>74019819</td>\n",
       "      <td>(M74)AZURCITY</td>\n",
       "      <td>BEN AROUSÂ</td>\n",
       "      <td>Homme</td>\n",
       "      <td>7</td>\n",
       "      <td>1</td>\n",
       "      <td>2000</td>\n",
       "      <td>(M74)AZURCITY</td>\n",
       "    </tr>\n",
       "  </tbody>\n",
       "</table>\n",
       "<p>154666 rows × 8 columns</p>\n",
       "</div>"
      ],
      "text/plain": [
       "          Client Etablissement de creation carte        Ville   Sexe  \\\n",
       "0       M7300729                  (M73)TUNISCITY     HAMMAMET  Homme   \n",
       "1       M7300729                  (M73)TUNISCITY     HAMMAMET  Homme   \n",
       "2       M7300729                  (M73)TUNISCITY     HAMMAMET  Homme   \n",
       "3       M7300729                  (M73)TUNISCITY     HAMMAMET  Homme   \n",
       "4       M7300729                  (M73)TUNISCITY     HAMMAMET  Homme   \n",
       "...          ...                             ...          ...    ...   \n",
       "154661  74019819                   (M74)AZURCITY  BEN AROUSÂ   Homme   \n",
       "154662  74019819                   (M74)AZURCITY  BEN AROUSÂ   Homme   \n",
       "154663  74019819                   (M74)AZURCITY  BEN AROUSÂ   Homme   \n",
       "154664  74019819                   (M74)AZURCITY  BEN AROUSÂ   Homme   \n",
       "154665  74019819                   (M74)AZURCITY  BEN AROUSÂ   Homme   \n",
       "\n",
       "        Jour de naissance  Mois de naissance  AnnÃ©e de naissance  \\\n",
       "0                      18                  4                 1986   \n",
       "1                      18                  4                 1986   \n",
       "2                      18                  4                 1986   \n",
       "3                      18                  4                 1986   \n",
       "4                      18                  4                 1986   \n",
       "...                   ...                ...                  ...   \n",
       "154661                  7                  1                 2000   \n",
       "154662                  7                  1                 2000   \n",
       "154663                  7                  1                 2000   \n",
       "154664                  7                  1                 2000   \n",
       "154665                  7                  1                 2000   \n",
       "\n",
       "       Etablissement passage  \n",
       "0          (M70) KIABISOUKRA  \n",
       "1          (M70) KIABISOUKRA  \n",
       "2          (M70) KIABISOUKRA  \n",
       "3          (M70) KIABISOUKRA  \n",
       "4          (M70) KIABISOUKRA  \n",
       "...                      ...  \n",
       "154661         (M74)AZURCITY  \n",
       "154662         (M74)AZURCITY  \n",
       "154663         (M74)AZURCITY  \n",
       "154664         (M74)AZURCITY  \n",
       "154665         (M74)AZURCITY  \n",
       "\n",
       "[154666 rows x 8 columns]"
      ]
     },
     "execution_count": 3,
     "metadata": {},
     "output_type": "execute_result"
    }
   ],
   "source": [
    "client"
   ]
  },
  {
   "cell_type": "code",
   "execution_count": 4,
   "metadata": {},
   "outputs": [
    {
     "data": {
      "text/plain": [
       "Client                                0\n",
       "Etablissement de creation carte       0\n",
       "Ville                              2137\n",
       "Sexe                                  0\n",
       "Jour de naissance                     0\n",
       "Mois de naissance                     0\n",
       "AnnÃ©e de naissance                   0\n",
       "Etablissement passage                 0\n",
       "dtype: int64"
      ]
     },
     "execution_count": 4,
     "metadata": {},
     "output_type": "execute_result"
    }
   ],
   "source": [
    "client.isnull().sum()"
   ]
  },
  {
   "cell_type": "code",
   "execution_count": 5,
   "metadata": {},
   "outputs": [
    {
     "data": {
      "text/plain": [
       "array(['Homme', 'Femme'], dtype=object)"
      ]
     },
     "execution_count": 5,
     "metadata": {},
     "output_type": "execute_result"
    }
   ],
   "source": [
    "client[\"Sexe\"].unique()"
   ]
  },
  {
   "cell_type": "code",
   "execution_count": 6,
   "metadata": {},
   "outputs": [
    {
     "data": {
      "text/plain": [
       "Femme    115665\n",
       "Homme     39001\n",
       "Name: Sexe, dtype: int64"
      ]
     },
     "execution_count": 6,
     "metadata": {},
     "output_type": "execute_result"
    }
   ],
   "source": [
    "client[\"Sexe\"].value_counts()"
   ]
  },
  {
   "cell_type": "code",
   "execution_count": 7,
   "metadata": {},
   "outputs": [
    {
     "data": {
      "text/plain": [
       "([<matplotlib.patches.Wedge at 0x295c91c4be0>,\n",
       "  <matplotlib.patches.Wedge at 0x295c91d90d0>],\n",
       " [Text(-0.7725148167699405, 0.7830841959016319, 'Femme'),\n",
       "  Text(0.7725148900875711, -0.7830841235735713, 'Homme')],\n",
       " [Text(-0.4213717182381493, 0.42713683412816283, '74.8%'),\n",
       "  Text(0.4213717582295842, -0.42713679467649335, '25.2%')])"
      ]
     },
     "execution_count": 7,
     "metadata": {},
     "output_type": "execute_result"
    },
    {
     "data": {
      "image/png": "[encoded data removed]",
      "text/plain": [
       "<Figure size 432x288 with 1 Axes>"
      ]
     },
     "metadata": {},
     "output_type": "display_data"
    }
   ],
   "source": [
    "import matplotlib.pyplot as plt\n",
    "modalites = client['Sexe'].value_counts(normalize=True) * 100\n",
    "plt.pie(modalites, labels=modalites.index, autopct='%1.1f%%')"
   ]
  },
  {
   "cell_type": "code",
   "execution_count": 8,
   "metadata": {},
   "outputs": [
    {
     "data": {
      "text/plain": [
       "array(['(M73)TUNISCITY', '(M70) KIABISOUKRA', '(M74)AZURCITY',\n",
       "       '(M72)KIABI MANAR', '(M71)KIABIBARDO', '(FTN) SiÃẀge KIABI'],\n",
       "      dtype=object)"
      ]
     },
     "execution_count": 8,
     "metadata": {},
     "output_type": "execute_result"
    }
   ],
   "source": [
    "client[\"Etablissement de creation carte\"].unique()"
   ]
  },
  {
   "cell_type": "code",
   "execution_count": 9,
   "metadata": {},
   "outputs": [
    {
     "data": {
      "text/plain": [
       "(M70) KIABISOUKRA     45071\n",
       "(M72)KIABI MANAR      38472\n",
       "(M73)TUNISCITY        30199\n",
       "(M71)KIABIBARDO       23478\n",
       "(M74)AZURCITY         17077\n",
       "(FTN) SiÃẀge KIABI      369\n",
       "Name: Etablissement de creation carte, dtype: int64"
      ]
     },
     "execution_count": 9,
     "metadata": {},
     "output_type": "execute_result"
    }
   ],
   "source": [
    "client[\"Etablissement de creation carte\"].value_counts()"
   ]
  },
  {
   "cell_type": "code",
   "execution_count": 10,
   "metadata": {},
   "outputs": [
    {
     "data": {
      "text/plain": [
       "Text(0.5, 1.0, 'Etablissement de creation cartes')"
      ]
     },
     "execution_count": 10,
     "metadata": {},
     "output_type": "execute_result"
    },
    {
     "data": {
      "image/png": "[encoded data removed]",
      "text/plain": [
       "<Figure size 864x432 with 1 Axes>"
      ]
     },
     "metadata": {
      "needs_background": "light"
     },
     "output_type": "display_data"
    }
   ],
   "source": [
    "import numpy as np\n",
    "modalites = client['Etablissement de creation carte'].value_counts()\n",
    "\n",
    "# Créer l'histogramme\n",
    "\n",
    "couleurs = ['blue', 'green', 'red', 'yellow', 'purple', 'orange']\n",
    "\n",
    "# Créer une liste de positions pour les barres\n",
    "positions = np.arange(len(modalites))\n",
    "\n",
    "plt.figure(figsize=(12, 6))\n",
    "\n",
    "# Créer l'histogramme en personnalisant les couleurs et l'espacement entre les barres\n",
    "plt.bar(positions, modalites, color=couleurs,width=0.6)\n",
    "plt.xticks(positions, modalites.index)\n",
    "\n",
    "# Ajouter un titre et des étiquettes aux axes\n",
    "plt.title('Etablissement de creation cartes')\n"
   ]
  },
  {
   "cell_type": "code",
   "execution_count": 11,
   "metadata": {},
   "outputs": [
    {
     "data": {
      "text/plain": [
       "array(['(M70) KIABISOUKRA', '(M72)KIABI MANAR', '(M74)AZURCITY',\n",
       "       '(M73)TUNISCITY', '(M71)KIABIBARDO'], dtype=object)"
      ]
     },
     "execution_count": 11,
     "metadata": {},
     "output_type": "execute_result"
    }
   ],
   "source": [
    "client[\"Etablissement passage\"].unique()"
   ]
  },
  {
   "cell_type": "code",
   "execution_count": 12,
   "metadata": {},
   "outputs": [
    {
     "data": {
      "text/plain": [
       "(M72)KIABI MANAR     35009\n",
       "(M74)AZURCITY        34208\n",
       "(M70) KIABISOUKRA    32654\n",
       "(M73)TUNISCITY       31765\n",
       "(M71)KIABIBARDO      21030\n",
       "Name: Etablissement passage, dtype: int64"
      ]
     },
     "execution_count": 12,
     "metadata": {},
     "output_type": "execute_result"
    }
   ],
   "source": [
    "client[\"Etablissement passage\"].value_counts()"
   ]
  },
  {
   "cell_type": "code",
   "execution_count": 13,
   "metadata": {},
   "outputs": [
    {
     "data": {
      "text/plain": [
       "Text(0.5, 1.0, 'Etablissement passage')"
      ]
     },
     "execution_count": 13,
     "metadata": {},
     "output_type": "execute_result"
    },
    {
     "data": {
      "image/png": "[encoded data removed]",
      "text/plain": [
       "<Figure size 864x432 with 1 Axes>"
      ]
     },
     "metadata": {
      "needs_background": "light"
     },
     "output_type": "display_data"
    }
   ],
   "source": [
    "modalites = client['Etablissement passage'].value_counts()\n",
    "\n",
    "# Créer l'histogramme\n",
    "\n",
    "couleurs = ['blue', 'green', 'red', 'yellow', 'purple']\n",
    "\n",
    "# Créer une liste de positions pour les barres\n",
    "positions = np.arange(len(modalites))\n",
    "\n",
    "plt.figure(figsize=(12, 6))\n",
    "\n",
    "# Créer l'histogramme en personnalisant les couleurs et l'espacement entre les barres\n",
    "plt.bar(positions, modalites, color=couleurs,width=0.6)\n",
    "plt.xticks(positions, modalites.index)\n",
    "\n",
    "# Ajouter un titre et des étiquettes aux axes\n",
    "plt.title('Etablissement passage')"
   ]
  },
  {
   "cell_type": "markdown",
   "metadata": {},
   "source": [
    "# DataSet Article"
   ]
  },
  {
   "cell_type": "code",
   "execution_count": 142,
   "metadata": {},
   "outputs": [],
   "source": [
    "article=pd.read_csv('article.csv',sep=',',encoding=\"latin8\")"
   ]
  },
  {
   "cell_type": "code",
   "execution_count": 143,
   "metadata": {},
   "outputs": [
    {
     "data": {
      "text/html": [
       "<div>\n",
       "<style scoped>\n",
       "    .dataframe tbody tr th:only-of-type {\n",
       "        vertical-align: middle;\n",
       "    }\n",
       "\n",
       "    .dataframe tbody tr th {\n",
       "        vertical-align: top;\n",
       "    }\n",
       "\n",
       "    .dataframe thead th {\n",
       "        text-align: right;\n",
       "    }\n",
       "</style>\n",
       "<table border=\"1\" class=\"dataframe\">\n",
       "  <thead>\n",
       "    <tr style=\"text-align: right;\">\n",
       "      <th></th>\n",
       "      <th>Code_article</th>\n",
       "      <th>Collection</th>\n",
       "      <th>LibellÃ©_article</th>\n",
       "      <th>GROUP ligne doc</th>\n",
       "      <th>MARKET ligne doc</th>\n",
       "      <th>DEPARTEMENT ligne doc</th>\n",
       "      <th>DÃ©signation ligne</th>\n",
       "    </tr>\n",
       "  </thead>\n",
       "  <tbody>\n",
       "    <tr>\n",
       "      <th>0</th>\n",
       "      <td>XN354</td>\n",
       "      <td>H20</td>\n",
       "      <td>T-SHIRT</td>\n",
       "      <td>GRKIDS</td>\n",
       "      <td>KIDSBOY</td>\n",
       "      <td>KIBTSHLS</td>\n",
       "      <td>T-SHIRT 8A - 8A GREY DINO - 38072</td>\n",
       "    </tr>\n",
       "    <tr>\n",
       "      <th>1</th>\n",
       "      <td>XO790</td>\n",
       "      <td>H20</td>\n",
       "      <td>SOUS PULL</td>\n",
       "      <td>GRBABY</td>\n",
       "      <td>BABIES</td>\n",
       "      <td>BTSHIRTLS</td>\n",
       "      <td>SOUS PULL 18M - 18M REAL BLACK - 15701</td>\n",
       "    </tr>\n",
       "    <tr>\n",
       "      <th>2</th>\n",
       "      <td>XL400</td>\n",
       "      <td>H20</td>\n",
       "      <td>T-SHIRT</td>\n",
       "      <td>GRBABY</td>\n",
       "      <td>BABIES</td>\n",
       "      <td>BTSHIRTLS</td>\n",
       "      <td>T-SHIRT 18M - 18M RED VIE - 54140</td>\n",
       "    </tr>\n",
       "    <tr>\n",
       "      <th>3</th>\n",
       "      <td>XL409</td>\n",
       "      <td>H20</td>\n",
       "      <td>T-SHIRT</td>\n",
       "      <td>GRBABY</td>\n",
       "      <td>BABIES</td>\n",
       "      <td>BTSHIRTLS</td>\n",
       "      <td>T-SHIRT 18M - 18M PINK ETOIL - 53707</td>\n",
       "    </tr>\n",
       "    <tr>\n",
       "      <th>4</th>\n",
       "      <td>XL409</td>\n",
       "      <td>H20</td>\n",
       "      <td>T-SHIRT</td>\n",
       "      <td>GRBABY</td>\n",
       "      <td>BABIES</td>\n",
       "      <td>BTSHIRTLS</td>\n",
       "      <td>T-SHIRT 18M - 18M ORANG ETOI - 53706</td>\n",
       "    </tr>\n",
       "    <tr>\n",
       "      <th>...</th>\n",
       "      <td>...</td>\n",
       "      <td>...</td>\n",
       "      <td>...</td>\n",
       "      <td>...</td>\n",
       "      <td>...</td>\n",
       "      <td>...</td>\n",
       "      <td>...</td>\n",
       "    </tr>\n",
       "    <tr>\n",
       "      <th>154661</th>\n",
       "      <td>XP868</td>\n",
       "      <td>H20</td>\n",
       "      <td>PULL</td>\n",
       "      <td>GRMEN</td>\n",
       "      <td>MSTANDARD</td>\n",
       "      <td>MSTJUMPER</td>\n",
       "      <td>PULL XL - XL MEDIUM_GRE - 39027</td>\n",
       "    </tr>\n",
       "    <tr>\n",
       "      <th>154662</th>\n",
       "      <td>XP868</td>\n",
       "      <td>H20</td>\n",
       "      <td>PULL</td>\n",
       "      <td>GRMEN</td>\n",
       "      <td>MSTANDARD</td>\n",
       "      <td>MSTJUMPER</td>\n",
       "      <td>PULL XL - XL CIEL_CAP - 39598</td>\n",
       "    </tr>\n",
       "    <tr>\n",
       "      <th>154663</th>\n",
       "      <td>XP868</td>\n",
       "      <td>H20</td>\n",
       "      <td>PULL</td>\n",
       "      <td>GRMEN</td>\n",
       "      <td>MSTANDARD</td>\n",
       "      <td>MSTJUMPER</td>\n",
       "      <td>PULL XL - XL BEIGE CH - 998</td>\n",
       "    </tr>\n",
       "    <tr>\n",
       "      <th>154664</th>\n",
       "      <td>XP615</td>\n",
       "      <td>H20</td>\n",
       "      <td>PANTALON DENIM</td>\n",
       "      <td>GRMEN</td>\n",
       "      <td>MSTANDARD</td>\n",
       "      <td>MSTTROUSER</td>\n",
       "      <td>PANTALON DENIM 46 - 46 BRUT USED - 2199</td>\n",
       "    </tr>\n",
       "    <tr>\n",
       "      <th>154665</th>\n",
       "      <td>XG462</td>\n",
       "      <td>H20</td>\n",
       "      <td>PANTALON</td>\n",
       "      <td>GRMEN</td>\n",
       "      <td>MSTANDARD</td>\n",
       "      <td>MSTTROUSER</td>\n",
       "      <td>PANTALON 46 - 46 SNOW_BLUE - 39314</td>\n",
       "    </tr>\n",
       "  </tbody>\n",
       "</table>\n",
       "<p>154666 rows × 7 columns</p>\n",
       "</div>"
      ],
      "text/plain": [
       "       Code_article Collection LibellÃ©_article GROUP ligne doc  \\\n",
       "0             XN354        H20          T-SHIRT          GRKIDS   \n",
       "1             XO790        H20        SOUS PULL          GRBABY   \n",
       "2             XL400        H20          T-SHIRT          GRBABY   \n",
       "3             XL409        H20          T-SHIRT          GRBABY   \n",
       "4             XL409        H20          T-SHIRT          GRBABY   \n",
       "...             ...        ...              ...             ...   \n",
       "154661        XP868        H20             PULL           GRMEN   \n",
       "154662        XP868        H20             PULL           GRMEN   \n",
       "154663        XP868        H20             PULL           GRMEN   \n",
       "154664        XP615        H20   PANTALON DENIM           GRMEN   \n",
       "154665        XG462        H20         PANTALON           GRMEN   \n",
       "\n",
       "       MARKET ligne doc DEPARTEMENT ligne doc  \\\n",
       "0               KIDSBOY              KIBTSHLS   \n",
       "1                BABIES             BTSHIRTLS   \n",
       "2                BABIES             BTSHIRTLS   \n",
       "3                BABIES             BTSHIRTLS   \n",
       "4                BABIES             BTSHIRTLS   \n",
       "...                 ...                   ...   \n",
       "154661        MSTANDARD             MSTJUMPER   \n",
       "154662        MSTANDARD             MSTJUMPER   \n",
       "154663        MSTANDARD             MSTJUMPER   \n",
       "154664        MSTANDARD            MSTTROUSER   \n",
       "154665        MSTANDARD            MSTTROUSER   \n",
       "\n",
       "                             DÃ©signation ligne  \n",
       "0             T-SHIRT 8A - 8A GREY DINO - 38072  \n",
       "1        SOUS PULL 18M - 18M REAL BLACK - 15701  \n",
       "2             T-SHIRT 18M - 18M RED VIE - 54140  \n",
       "3          T-SHIRT 18M - 18M PINK ETOIL - 53707  \n",
       "4          T-SHIRT 18M - 18M ORANG ETOI - 53706  \n",
       "...                                         ...  \n",
       "154661          PULL XL - XL MEDIUM_GRE - 39027  \n",
       "154662            PULL XL - XL CIEL_CAP - 39598  \n",
       "154663              PULL XL - XL BEIGE CH - 998  \n",
       "154664  PANTALON DENIM 46 - 46 BRUT USED - 2199  \n",
       "154665       PANTALON 46 - 46 SNOW_BLUE - 39314  \n",
       "\n",
       "[154666 rows x 7 columns]"
      ]
     },
     "execution_count": 143,
     "metadata": {},
     "output_type": "execute_result"
    }
   ],
   "source": [
    "article"
   ]
  },
  {
   "cell_type": "code",
   "execution_count": 144,
   "metadata": {},
   "outputs": [
    {
     "data": {
      "text/plain": [
       "Code_article              0\n",
       "Collection               63\n",
       "LibellÃ©_article          1\n",
       "GROUP ligne doc          63\n",
       "MARKET ligne doc         78\n",
       "DEPARTEMENT ligne doc    78\n",
       "DÃ©signation ligne        0\n",
       "dtype: int64"
      ]
     },
     "execution_count": 144,
     "metadata": {},
     "output_type": "execute_result"
    }
   ],
   "source": [
    "article.isnull().sum()"
   ]
  },
  {
   "cell_type": "code",
   "execution_count": 145,
   "metadata": {},
   "outputs": [
    {
     "data": {
      "text/plain": [
       "array(['H20', 'E20', 'E19', 'E18', 'H18', 'H19', nan, 'E21'], dtype=object)"
      ]
     },
     "execution_count": 145,
     "metadata": {},
     "output_type": "execute_result"
    }
   ],
   "source": [
    "article[\"Collection\"].unique()"
   ]
  },
  {
   "cell_type": "code",
   "execution_count": 146,
   "metadata": {},
   "outputs": [
    {
     "data": {
      "text/plain": [
       "count       154665\n",
       "unique         179\n",
       "top       PANTALON\n",
       "freq         18160\n",
       "Name: LibellÃ©_article, dtype: object"
      ]
     },
     "execution_count": 146,
     "metadata": {},
     "output_type": "execute_result"
    }
   ],
   "source": [
    "article[\"LibellÃ©_article\"].describe()"
   ]
  },
  {
   "cell_type": "code",
   "execution_count": 147,
   "metadata": {},
   "outputs": [
    {
     "data": {
      "text/plain": [
       "array(['GRKIDS', 'GRBABY', 'GRUNDERW', 'GRWOMEN', 'GRMEN', 'GRACCESS',\n",
       "       'GRSHOES', nan, 'GREXCLUWEB'], dtype=object)"
      ]
     },
     "execution_count": 147,
     "metadata": {},
     "output_type": "execute_result"
    }
   ],
   "source": [
    "article[\"GROUP ligne doc\"].unique()"
   ]
  },
  {
   "cell_type": "code",
   "execution_count": 148,
   "metadata": {},
   "outputs": [
    {
     "data": {
      "text/plain": [
       "count     154603\n",
       "unique         8\n",
       "top       GRKIDS\n",
       "freq       46452\n",
       "Name: GROUP ligne doc, dtype: object"
      ]
     },
     "execution_count": 148,
     "metadata": {},
     "output_type": "execute_result"
    }
   ],
   "source": [
    "article[\"GROUP ligne doc\"].describe()"
   ]
  },
  {
   "cell_type": "code",
   "execution_count": 149,
   "metadata": {},
   "outputs": [
    {
     "data": {
      "text/plain": [
       "array(['KIDSBOY', 'BABIES', 'BABYUW', 'WSTANDARD', 'KIDSUW', 'KIDSGIRL',\n",
       "       'LHOMEWEAR', 'MSTANDARD', 'LSOCKS', 'JUNIORBOY', 'FRONTACCES',\n",
       "       'LLINGERIE', 'MUNDERWEAR', 'WSIZEPLUS', 'BABYBOY', 'NURSERY',\n",
       "       'WACCESSO', 'WMATERNITY', 'BABYGIRL', 'BACCESSO', 'JUNIORUW',\n",
       "       'MSHOES', 'JUNIORGIRL', 'GSHOES', 'BSHOES', 'MSIZEPLUS',\n",
       "       'GACCESSO', 'MACCESSO', nan, 'WOMENSHOES', 'EWTEXTILE', 'EWHOME'],\n",
       "      dtype=object)"
      ]
     },
     "execution_count": 149,
     "metadata": {},
     "output_type": "execute_result"
    }
   ],
   "source": [
    "article[\"MARKET ligne doc\"].unique()"
   ]
  },
  {
   "cell_type": "code",
   "execution_count": 150,
   "metadata": {},
   "outputs": [
    {
     "data": {
      "text/plain": [
       "count        154588\n",
       "unique           31\n",
       "top       WSTANDARD\n",
       "freq          21394\n",
       "Name: MARKET ligne doc, dtype: object"
      ]
     },
     "execution_count": 150,
     "metadata": {},
     "output_type": "execute_result"
    }
   ],
   "source": [
    "article[\"MARKET ligne doc\"].describe()"
   ]
  },
  {
   "cell_type": "code",
   "execution_count": 151,
   "metadata": {},
   "outputs": [
    {
     "data": {
      "text/plain": [
       "array(['KIBTSHLS', 'BTSHIRTLS', 'BJUMPER', 'BSOCKS', 'BDRESS',\n",
       "       'BTROUSERS', 'BSET', 'BROMPERWAR', 'BSHORT', 'WSTTROUSDE',\n",
       "       'KIGSOCKS', 'KIGDRESS', 'KIGCOAT', 'KIGJUMPER', 'LINHOME',\n",
       "       'WSTJUMPER', 'KIBJUMPER', 'KIBLICENCE', 'KIBTROUSER', 'WSTDRESS',\n",
       "       'MSTJUMPER', 'KIGSKIRT', 'KIGNIGHT', 'KIGTSHLS', 'LINTIGHTS',\n",
       "       'WSTSHIRT', 'JUBJUMPER', 'BTSHIRTSS', 'BROMPERLIG', 'BUNDERWEAR',\n",
       "       'KIBSOCKS', 'BCOAT', 'KIGTROUSER', 'WSTSKIRT', 'KIBCOAT',\n",
       "       'WSTCOAT', 'KIBNIGHT', 'OTHERACC', 'JUBTSHLS', 'LINBOTT',\n",
       "       'MUNDERWEAR', 'MSTTROUSER', 'MSTSHIRT', 'MSTJACKET', 'MSTCOAT',\n",
       "       'WSTTROUSER', 'WZPTROUSER', 'BBLICENC', 'BNURSERY', 'BBACCES',\n",
       "       'WACCESWINT', 'JUBTROUSER', 'MNIGHT', 'WMTSHIRT', 'WZPTROUSDE',\n",
       "       'MSOCKS', 'KIBUNDERW', 'WSTTSHIRLS', 'WSTTSHIRSS', 'HAIRACCESS',\n",
       "       'BGACCES', 'BACCESPERM', 'KIBSHIRT', 'BPYJAMAS', 'KIBTSHSS',\n",
       "       'JUBCOAT', 'WACCESPERM', 'JUBUNDERW', 'LINSOCK', 'MSTTROUSOT',\n",
       "       'MSTTSHIRLS', 'JUBNIGHT', 'MSHOES', 'JUGSHIRT', 'GSHOES',\n",
       "       'JUGCOAT', 'LINTOP', 'WMTTROUSER', 'MSTTSHIRSS', 'BGLICENC',\n",
       "       'COSMETIC', 'JUGJUMPER', 'WZPJUMPER', 'KIGUNDERW', 'WZPTSHIRLS',\n",
       "       'WZPCOAT', 'WZPSHIRT', 'BSHOES', 'WSTJACKET', 'MZPTSHIRSS',\n",
       "       'MZPJUMPER', 'JUGTSHLS', 'WMTDRESS', 'KIGLICENCE', 'GACCESWINT',\n",
       "       'GACCESPERM', 'WZPDRESS', 'WMTSHORT', 'JUGTROUSER', 'WMTTROUSDE',\n",
       "       'JUGUNDERW', 'MACCESWINT', 'WZPTSHIRSS', 'MZPTROUSDE',\n",
       "       'MZPTROUSER', 'MACCESSUN', 'JUGDRESS', 'WMTTSHIRLS', 'WZPSKIRT',\n",
       "       'JUGTSHSS', nan, 'KIGSHIRT', 'WMTJUMPER', 'JUGNIGHT', 'BSHIRT',\n",
       "       'MZPTROUSOT', 'BACCESSUN', 'JEWELS', 'WZPJACKET', 'JUGSHORT',\n",
       "       'MZPJACKET', 'JUBTSHSS', 'WMTTSHIRSS', 'KIBSHORT', 'WSHOES',\n",
       "       'MACCESPERM', 'JUGSKIRT', 'MZPSHIRT', 'BACCESWINT', 'KIGTSHSS',\n",
       "       'KIBSWIM', 'BTOY', 'MZPCOAT', 'KIGSHORT', 'LINSET', 'MSTSHORT',\n",
       "       'GACCESSUN', 'JUBSOCKS', 'WMTSKIRT', 'JUGSOCKS', 'EWWOMTEXT',\n",
       "       'EWPARTY', 'WSTSHORT', 'BNIGHT', 'BSANDALS', 'WACCESSUN'],\n",
       "      dtype=object)"
      ]
     },
     "execution_count": 151,
     "metadata": {},
     "output_type": "execute_result"
    }
   ],
   "source": [
    "article[\"DEPARTEMENT ligne doc\"].unique()"
   ]
  },
  {
   "cell_type": "code",
   "execution_count": 152,
   "metadata": {},
   "outputs": [
    {
     "data": {
      "text/plain": [
       "count         154588\n",
       "unique           145\n",
       "top       KIBTROUSER\n",
       "freq            6504\n",
       "Name: DEPARTEMENT ligne doc, dtype: object"
      ]
     },
     "execution_count": 152,
     "metadata": {},
     "output_type": "execute_result"
    }
   ],
   "source": [
    "article[\"DEPARTEMENT ligne doc\"].describe()"
   ]
  },
  {
   "cell_type": "code",
   "execution_count": 153,
   "metadata": {},
   "outputs": [
    {
     "data": {
      "text/plain": [
       "array(['T-SHIRT 8A - 8A GREY DINO - 38072',\n",
       "       'SOUS PULL 18M - 18M REAL BLACK - 15701',\n",
       "       'T-SHIRT 18M - 18M RED VIE - 54140', ...,\n",
       "       'T-SHIRT 3XL - 3XL RED LUREX - 48693',\n",
       "       'PANTALON 44 - 44 BEIGE BIRC - 11794',\n",
       "       'ENSEMBLE 45 - 45 BLEU SAPP - 29419'], dtype=object)"
      ]
     },
     "execution_count": 153,
     "metadata": {},
     "output_type": "execute_result"
    }
   ],
   "source": [
    "article[\"DÃ©signation ligne\"].unique()"
   ]
  },
  {
   "cell_type": "code",
   "execution_count": 154,
   "metadata": {},
   "outputs": [
    {
     "data": {
      "text/plain": [
       "count                                154666\n",
       "unique                                19050\n",
       "top       PANTALON M - M REAL BLACK - 15701\n",
       "freq                                    317\n",
       "Name: DÃ©signation ligne, dtype: object"
      ]
     },
     "execution_count": 154,
     "metadata": {},
     "output_type": "execute_result"
    }
   ],
   "source": [
    "article[\"DÃ©signation ligne\"].describe()"
   ]
  },
  {
   "cell_type": "markdown",
   "metadata": {},
   "source": [
    "# DataSet détail_transaction"
   ]
  },
  {
   "cell_type": "code",
   "execution_count": 27,
   "metadata": {},
   "outputs": [],
   "source": [
    "détail_transaction=pd.read_csv('Détail_transaction.csv',sep=',',encoding=\"latin8\")"
   ]
  },
  {
   "cell_type": "code",
   "execution_count": 28,
   "metadata": {},
   "outputs": [
    {
     "data": {
      "text/html": [
       "<div>\n",
       "<style scoped>\n",
       "    .dataframe tbody tr th:only-of-type {\n",
       "        vertical-align: middle;\n",
       "    }\n",
       "\n",
       "    .dataframe tbody tr th {\n",
       "        vertical-align: top;\n",
       "    }\n",
       "\n",
       "    .dataframe thead th {\n",
       "        text-align: right;\n",
       "    }\n",
       "</style>\n",
       "<table border=\"1\" class=\"dataframe\">\n",
       "  <thead>\n",
       "    <tr style=\"text-align: right;\">\n",
       "      <th></th>\n",
       "      <th>NumÃ©ro_ticket</th>\n",
       "      <th>DateAchat</th>\n",
       "      <th>QuantitÃ©</th>\n",
       "      <th>prix_unit</th>\n",
       "      <th>Total_TTC</th>\n",
       "      <th>Etablissement passage</th>\n",
       "      <th>Zone commerciale</th>\n",
       "    </tr>\n",
       "  </thead>\n",
       "  <tbody>\n",
       "    <tr>\n",
       "      <th>0</th>\n",
       "      <td>70769212</td>\n",
       "      <td>2020-11-01</td>\n",
       "      <td>1</td>\n",
       "      <td>22.0</td>\n",
       "      <td>22.0</td>\n",
       "      <td>(M70) KIABISOUKRA</td>\n",
       "      <td>HAMMAMET</td>\n",
       "    </tr>\n",
       "    <tr>\n",
       "      <th>1</th>\n",
       "      <td>70769212</td>\n",
       "      <td>2020-11-01</td>\n",
       "      <td>1</td>\n",
       "      <td>12.0</td>\n",
       "      <td>12.0</td>\n",
       "      <td>(M70) KIABISOUKRA</td>\n",
       "      <td>HAMMAMET</td>\n",
       "    </tr>\n",
       "    <tr>\n",
       "      <th>2</th>\n",
       "      <td>70769212</td>\n",
       "      <td>2020-11-01</td>\n",
       "      <td>1</td>\n",
       "      <td>9.0</td>\n",
       "      <td>9.0</td>\n",
       "      <td>(M70) KIABISOUKRA</td>\n",
       "      <td>HAMMAMET</td>\n",
       "    </tr>\n",
       "    <tr>\n",
       "      <th>3</th>\n",
       "      <td>70769212</td>\n",
       "      <td>2020-11-01</td>\n",
       "      <td>1</td>\n",
       "      <td>22.0</td>\n",
       "      <td>22.0</td>\n",
       "      <td>(M70) KIABISOUKRA</td>\n",
       "      <td>HAMMAMET</td>\n",
       "    </tr>\n",
       "    <tr>\n",
       "      <th>4</th>\n",
       "      <td>70769212</td>\n",
       "      <td>2020-11-01</td>\n",
       "      <td>1</td>\n",
       "      <td>22.0</td>\n",
       "      <td>22.0</td>\n",
       "      <td>(M70) KIABISOUKRA</td>\n",
       "      <td>HAMMAMET</td>\n",
       "    </tr>\n",
       "    <tr>\n",
       "      <th>...</th>\n",
       "      <td>...</td>\n",
       "      <td>...</td>\n",
       "      <td>...</td>\n",
       "      <td>...</td>\n",
       "      <td>...</td>\n",
       "      <td>...</td>\n",
       "      <td>...</td>\n",
       "    </tr>\n",
       "    <tr>\n",
       "      <th>154661</th>\n",
       "      <td>74066723</td>\n",
       "      <td>2020-12-15</td>\n",
       "      <td>1</td>\n",
       "      <td>55.0</td>\n",
       "      <td>55.0</td>\n",
       "      <td>(M74)AZURCITY</td>\n",
       "      <td>BEN AROUSÂ</td>\n",
       "    </tr>\n",
       "    <tr>\n",
       "      <th>154662</th>\n",
       "      <td>74066723</td>\n",
       "      <td>2020-12-15</td>\n",
       "      <td>1</td>\n",
       "      <td>55.0</td>\n",
       "      <td>55.0</td>\n",
       "      <td>(M74)AZURCITY</td>\n",
       "      <td>BEN AROUSÂ</td>\n",
       "    </tr>\n",
       "    <tr>\n",
       "      <th>154663</th>\n",
       "      <td>74066723</td>\n",
       "      <td>2020-12-15</td>\n",
       "      <td>1</td>\n",
       "      <td>55.0</td>\n",
       "      <td>55.0</td>\n",
       "      <td>(M74)AZURCITY</td>\n",
       "      <td>BEN AROUSÂ</td>\n",
       "    </tr>\n",
       "    <tr>\n",
       "      <th>154664</th>\n",
       "      <td>74066723</td>\n",
       "      <td>2020-12-15</td>\n",
       "      <td>1</td>\n",
       "      <td>95.0</td>\n",
       "      <td>95.0</td>\n",
       "      <td>(M74)AZURCITY</td>\n",
       "      <td>BEN AROUSÂ</td>\n",
       "    </tr>\n",
       "    <tr>\n",
       "      <th>154665</th>\n",
       "      <td>74066723</td>\n",
       "      <td>2020-12-15</td>\n",
       "      <td>1</td>\n",
       "      <td>95.0</td>\n",
       "      <td>95.0</td>\n",
       "      <td>(M74)AZURCITY</td>\n",
       "      <td>BEN AROUSÂ</td>\n",
       "    </tr>\n",
       "  </tbody>\n",
       "</table>\n",
       "<p>154666 rows × 7 columns</p>\n",
       "</div>"
      ],
      "text/plain": [
       "        NumÃ©ro_ticket   DateAchat  QuantitÃ©  prix_unit  Total_TTC  \\\n",
       "0             70769212  2020-11-01          1       22.0       22.0   \n",
       "1             70769212  2020-11-01          1       12.0       12.0   \n",
       "2             70769212  2020-11-01          1        9.0        9.0   \n",
       "3             70769212  2020-11-01          1       22.0       22.0   \n",
       "4             70769212  2020-11-01          1       22.0       22.0   \n",
       "...                ...         ...        ...        ...        ...   \n",
       "154661        74066723  2020-12-15          1       55.0       55.0   \n",
       "154662        74066723  2020-12-15          1       55.0       55.0   \n",
       "154663        74066723  2020-12-15          1       55.0       55.0   \n",
       "154664        74066723  2020-12-15          1       95.0       95.0   \n",
       "154665        74066723  2020-12-15          1       95.0       95.0   \n",
       "\n",
       "       Etablissement passage Zone commerciale  \n",
       "0          (M70) KIABISOUKRA         HAMMAMET  \n",
       "1          (M70) KIABISOUKRA         HAMMAMET  \n",
       "2          (M70) KIABISOUKRA         HAMMAMET  \n",
       "3          (M70) KIABISOUKRA         HAMMAMET  \n",
       "4          (M70) KIABISOUKRA         HAMMAMET  \n",
       "...                      ...              ...  \n",
       "154661         (M74)AZURCITY      BEN AROUSÂ   \n",
       "154662         (M74)AZURCITY      BEN AROUSÂ   \n",
       "154663         (M74)AZURCITY      BEN AROUSÂ   \n",
       "154664         (M74)AZURCITY      BEN AROUSÂ   \n",
       "154665         (M74)AZURCITY      BEN AROUSÂ   \n",
       "\n",
       "[154666 rows x 7 columns]"
      ]
     },
     "execution_count": 28,
     "metadata": {},
     "output_type": "execute_result"
    }
   ],
   "source": [
    "détail_transaction"
   ]
  },
  {
   "cell_type": "code",
   "execution_count": 29,
   "metadata": {},
   "outputs": [
    {
     "data": {
      "text/html": [
       "<div>\n",
       "<style scoped>\n",
       "    .dataframe tbody tr th:only-of-type {\n",
       "        vertical-align: middle;\n",
       "    }\n",
       "\n",
       "    .dataframe tbody tr th {\n",
       "        vertical-align: top;\n",
       "    }\n",
       "\n",
       "    .dataframe thead tr th {\n",
       "        text-align: left;\n",
       "    }\n",
       "\n",
       "    .dataframe thead tr:last-of-type th {\n",
       "        text-align: right;\n",
       "    }\n",
       "</style>\n",
       "<table border=\"1\" class=\"dataframe\">\n",
       "  <thead>\n",
       "    <tr>\n",
       "      <th></th>\n",
       "      <th>NumÃ©ro_ticket</th>\n",
       "    </tr>\n",
       "    <tr>\n",
       "      <th></th>\n",
       "      <th>count</th>\n",
       "    </tr>\n",
       "    <tr>\n",
       "      <th>Client</th>\n",
       "      <th></th>\n",
       "    </tr>\n",
       "  </thead>\n",
       "  <tbody>\n",
       "    <tr>\n",
       "      <th>10009606</th>\n",
       "      <td>4</td>\n",
       "    </tr>\n",
       "    <tr>\n",
       "      <th>10014178</th>\n",
       "      <td>4</td>\n",
       "    </tr>\n",
       "    <tr>\n",
       "      <th>10020905</th>\n",
       "      <td>10</td>\n",
       "    </tr>\n",
       "    <tr>\n",
       "      <th>10808222</th>\n",
       "      <td>16</td>\n",
       "    </tr>\n",
       "  </tbody>\n",
       "</table>\n",
       "</div>"
      ],
      "text/plain": [
       "         NumÃ©ro_ticket\n",
       "                  count\n",
       "Client                 \n",
       "10009606              4\n",
       "10014178              4\n",
       "10020905             10\n",
       "10808222             16"
      ]
     },
     "execution_count": 29,
     "metadata": {},
     "output_type": "execute_result"
    }
   ],
   "source": [
    "ticket_client=transaction[['Client','NumÃ©ro_ticket']].groupby(['Client']).agg(['count'])\n",
    "ticket_client.head(4)"
   ]
  },
  {
   "cell_type": "code",
   "execution_count": 30,
   "metadata": {},
   "outputs": [
    {
     "data": {
      "text/html": [
       "<div>\n",
       "<style scoped>\n",
       "    .dataframe tbody tr th:only-of-type {\n",
       "        vertical-align: middle;\n",
       "    }\n",
       "\n",
       "    .dataframe tbody tr th {\n",
       "        vertical-align: top;\n",
       "    }\n",
       "\n",
       "    .dataframe thead tr th {\n",
       "        text-align: left;\n",
       "    }\n",
       "</style>\n",
       "<table border=\"1\" class=\"dataframe\">\n",
       "  <thead>\n",
       "    <tr>\n",
       "      <th></th>\n",
       "      <th>NumÃ©ro_ticket</th>\n",
       "    </tr>\n",
       "    <tr>\n",
       "      <th></th>\n",
       "      <th>count</th>\n",
       "    </tr>\n",
       "  </thead>\n",
       "  <tbody>\n",
       "    <tr>\n",
       "      <th>count</th>\n",
       "      <td>36391.000000</td>\n",
       "    </tr>\n",
       "    <tr>\n",
       "      <th>mean</th>\n",
       "      <td>4.250117</td>\n",
       "    </tr>\n",
       "    <tr>\n",
       "      <th>std</th>\n",
       "      <td>4.977800</td>\n",
       "    </tr>\n",
       "    <tr>\n",
       "      <th>min</th>\n",
       "      <td>1.000000</td>\n",
       "    </tr>\n",
       "    <tr>\n",
       "      <th>25%</th>\n",
       "      <td>1.000000</td>\n",
       "    </tr>\n",
       "    <tr>\n",
       "      <th>50%</th>\n",
       "      <td>3.000000</td>\n",
       "    </tr>\n",
       "    <tr>\n",
       "      <th>75%</th>\n",
       "      <td>5.000000</td>\n",
       "    </tr>\n",
       "    <tr>\n",
       "      <th>max</th>\n",
       "      <td>110.000000</td>\n",
       "    </tr>\n",
       "  </tbody>\n",
       "</table>\n",
       "</div>"
      ],
      "text/plain": [
       "      NumÃ©ro_ticket\n",
       "               count\n",
       "count   36391.000000\n",
       "mean        4.250117\n",
       "std         4.977800\n",
       "min         1.000000\n",
       "25%         1.000000\n",
       "50%         3.000000\n",
       "75%         5.000000\n",
       "max       110.000000"
      ]
     },
     "execution_count": 30,
     "metadata": {},
     "output_type": "execute_result"
    }
   ],
   "source": [
    "ticket_client.describe()"
   ]
  },
  {
   "cell_type": "code",
   "execution_count": 31,
   "metadata": {},
   "outputs": [
    {
     "data": {
      "text/plain": [
       "count    154666.000000\n",
       "mean          1.000019\n",
       "std           0.004404\n",
       "min           1.000000\n",
       "25%           1.000000\n",
       "50%           1.000000\n",
       "75%           1.000000\n",
       "max           2.000000\n",
       "Name: QuantitÃ©, dtype: float64"
      ]
     },
     "execution_count": 31,
     "metadata": {},
     "output_type": "execute_result"
    }
   ],
   "source": [
    "détail_transaction['QuantitÃ©'].describe()"
   ]
  },
  {
   "cell_type": "code",
   "execution_count": 32,
   "metadata": {},
   "outputs": [
    {
     "data": {
      "text/plain": [
       "count    154666.000000\n",
       "mean         39.137697\n",
       "std          27.808696\n",
       "min           1.200000\n",
       "25%          19.000000\n",
       "50%          32.000000\n",
       "75%          52.000000\n",
       "max         299.700000\n",
       "Name: Total_TTC, dtype: float64"
      ]
     },
     "execution_count": 32,
     "metadata": {},
     "output_type": "execute_result"
    }
   ],
   "source": [
    "détail_transaction['Total_TTC'].describe()"
   ]
  },
  {
   "cell_type": "markdown",
   "metadata": {},
   "source": [
    "# Nettoyage des données"
   ]
  },
  {
   "cell_type": "code",
   "execution_count": 33,
   "metadata": {},
   "outputs": [
    {
     "data": {
      "text/plain": [
       "118275"
      ]
     },
     "execution_count": 33,
     "metadata": {},
     "output_type": "execute_result"
    }
   ],
   "source": [
    "client.Client.duplicated().sum()"
   ]
  },
  {
   "cell_type": "code",
   "execution_count": 34,
   "metadata": {},
   "outputs": [
    {
     "data": {
      "text/plain": [
       "(39809, 8)"
      ]
     },
     "execution_count": 34,
     "metadata": {},
     "output_type": "execute_result"
    }
   ],
   "source": [
    "client = client.drop_duplicates(keep='first')\n",
    "client.shape"
   ]
  },
  {
   "cell_type": "code",
   "execution_count": 36,
   "metadata": {},
   "outputs": [
    {
     "data": {
      "text/html": [
       "<div>\n",
       "<style scoped>\n",
       "    .dataframe tbody tr th:only-of-type {\n",
       "        vertical-align: middle;\n",
       "    }\n",
       "\n",
       "    .dataframe tbody tr th {\n",
       "        vertical-align: top;\n",
       "    }\n",
       "\n",
       "    .dataframe thead th {\n",
       "        text-align: right;\n",
       "    }\n",
       "</style>\n",
       "<table border=\"1\" class=\"dataframe\">\n",
       "  <thead>\n",
       "    <tr style=\"text-align: right;\">\n",
       "      <th></th>\n",
       "      <th>Client</th>\n",
       "      <th>Etablissement de creation carte</th>\n",
       "      <th>Ville</th>\n",
       "      <th>Sexe</th>\n",
       "      <th>Jour de naissance</th>\n",
       "      <th>Mois de naissance</th>\n",
       "      <th>AnnÃ©e de naissance</th>\n",
       "      <th>Etablissement passage</th>\n",
       "    </tr>\n",
       "  </thead>\n",
       "  <tbody>\n",
       "    <tr>\n",
       "      <th>0</th>\n",
       "      <td>M7300729</td>\n",
       "      <td>(M73)TUNISCITY</td>\n",
       "      <td>HAMMAMET</td>\n",
       "      <td>Homme</td>\n",
       "      <td>18</td>\n",
       "      <td>4</td>\n",
       "      <td>1986</td>\n",
       "      <td>(M70) KIABISOUKRA</td>\n",
       "    </tr>\n",
       "    <tr>\n",
       "      <th>17</th>\n",
       "      <td>70109180</td>\n",
       "      <td>(M70) KIABISOUKRA</td>\n",
       "      <td>BORJ LOUZIRÂ</td>\n",
       "      <td>Homme</td>\n",
       "      <td>4</td>\n",
       "      <td>6</td>\n",
       "      <td>1984</td>\n",
       "      <td>(M70) KIABISOUKRA</td>\n",
       "    </tr>\n",
       "    <tr>\n",
       "      <th>20</th>\n",
       "      <td>M7003503</td>\n",
       "      <td>(M70) KIABISOUKRA</td>\n",
       "      <td>MUTUELLE VILLEÂ</td>\n",
       "      <td>Femme</td>\n",
       "      <td>11</td>\n",
       "      <td>10</td>\n",
       "      <td>1976</td>\n",
       "      <td>(M72)KIABI MANAR</td>\n",
       "    </tr>\n",
       "    <tr>\n",
       "      <th>28</th>\n",
       "      <td>M7059240</td>\n",
       "      <td>(M70) KIABISOUKRA</td>\n",
       "      <td>MEGRINEÂ</td>\n",
       "      <td>Femme</td>\n",
       "      <td>28</td>\n",
       "      <td>3</td>\n",
       "      <td>1989</td>\n",
       "      <td>(M74)AZURCITY</td>\n",
       "    </tr>\n",
       "    <tr>\n",
       "      <th>30</th>\n",
       "      <td>M7319993</td>\n",
       "      <td>(M73)TUNISCITY</td>\n",
       "      <td>ARIANAÂ</td>\n",
       "      <td>Homme</td>\n",
       "      <td>3</td>\n",
       "      <td>8</td>\n",
       "      <td>1977</td>\n",
       "      <td>(M73)TUNISCITY</td>\n",
       "    </tr>\n",
       "    <tr>\n",
       "      <th>...</th>\n",
       "      <td>...</td>\n",
       "      <td>...</td>\n",
       "      <td>...</td>\n",
       "      <td>...</td>\n",
       "      <td>...</td>\n",
       "      <td>...</td>\n",
       "      <td>...</td>\n",
       "      <td>...</td>\n",
       "    </tr>\n",
       "    <tr>\n",
       "      <th>154639</th>\n",
       "      <td>M7304219</td>\n",
       "      <td>(M73)TUNISCITY</td>\n",
       "      <td>BIZERTEÂ</td>\n",
       "      <td>Femme</td>\n",
       "      <td>16</td>\n",
       "      <td>5</td>\n",
       "      <td>1981</td>\n",
       "      <td>(M73)TUNISCITY</td>\n",
       "    </tr>\n",
       "    <tr>\n",
       "      <th>154646</th>\n",
       "      <td>72105187</td>\n",
       "      <td>(M72)KIABI MANAR</td>\n",
       "      <td>TUNIS</td>\n",
       "      <td>Femme</td>\n",
       "      <td>7</td>\n",
       "      <td>10</td>\n",
       "      <td>1992</td>\n",
       "      <td>(M72)KIABI MANAR</td>\n",
       "    </tr>\n",
       "    <tr>\n",
       "      <th>154655</th>\n",
       "      <td>M7103787</td>\n",
       "      <td>(M71)KIABIBARDO</td>\n",
       "      <td>LE BARDOÂ</td>\n",
       "      <td>Femme</td>\n",
       "      <td>11</td>\n",
       "      <td>10</td>\n",
       "      <td>1965</td>\n",
       "      <td>(M71)KIABIBARDO</td>\n",
       "    </tr>\n",
       "    <tr>\n",
       "      <th>154657</th>\n",
       "      <td>M7076493</td>\n",
       "      <td>(M70) KIABISOUKRA</td>\n",
       "      <td>LA SOUKRAÂ</td>\n",
       "      <td>Femme</td>\n",
       "      <td>23</td>\n",
       "      <td>5</td>\n",
       "      <td>1979</td>\n",
       "      <td>(M70) KIABISOUKRA</td>\n",
       "    </tr>\n",
       "    <tr>\n",
       "      <th>154661</th>\n",
       "      <td>74019819</td>\n",
       "      <td>(M74)AZURCITY</td>\n",
       "      <td>BEN AROUSÂ</td>\n",
       "      <td>Homme</td>\n",
       "      <td>7</td>\n",
       "      <td>1</td>\n",
       "      <td>2000</td>\n",
       "      <td>(M74)AZURCITY</td>\n",
       "    </tr>\n",
       "  </tbody>\n",
       "</table>\n",
       "<p>39809 rows × 8 columns</p>\n",
       "</div>"
      ],
      "text/plain": [
       "          Client Etablissement de creation carte             Ville   Sexe  \\\n",
       "0       M7300729                  (M73)TUNISCITY          HAMMAMET  Homme   \n",
       "17      70109180               (M70) KIABISOUKRA     BORJ LOUZIRÂ   Homme   \n",
       "20      M7003503               (M70) KIABISOUKRA  MUTUELLE VILLEÂ   Femme   \n",
       "28      M7059240               (M70) KIABISOUKRA         MEGRINEÂ   Femme   \n",
       "30      M7319993                  (M73)TUNISCITY          ARIANAÂ   Homme   \n",
       "...          ...                             ...               ...    ...   \n",
       "154639  M7304219                  (M73)TUNISCITY         BIZERTEÂ   Femme   \n",
       "154646  72105187                (M72)KIABI MANAR             TUNIS  Femme   \n",
       "154655  M7103787                 (M71)KIABIBARDO        LE BARDOÂ   Femme   \n",
       "154657  M7076493               (M70) KIABISOUKRA       LA SOUKRAÂ   Femme   \n",
       "154661  74019819                   (M74)AZURCITY       BEN AROUSÂ   Homme   \n",
       "\n",
       "        Jour de naissance  Mois de naissance  AnnÃ©e de naissance  \\\n",
       "0                      18                  4                 1986   \n",
       "17                      4                  6                 1984   \n",
       "20                     11                 10                 1976   \n",
       "28                     28                  3                 1989   \n",
       "30                      3                  8                 1977   \n",
       "...                   ...                ...                  ...   \n",
       "154639                 16                  5                 1981   \n",
       "154646                  7                 10                 1992   \n",
       "154655                 11                 10                 1965   \n",
       "154657                 23                  5                 1979   \n",
       "154661                  7                  1                 2000   \n",
       "\n",
       "       Etablissement passage  \n",
       "0          (M70) KIABISOUKRA  \n",
       "17         (M70) KIABISOUKRA  \n",
       "20          (M72)KIABI MANAR  \n",
       "28             (M74)AZURCITY  \n",
       "30            (M73)TUNISCITY  \n",
       "...                      ...  \n",
       "154639        (M73)TUNISCITY  \n",
       "154646      (M72)KIABI MANAR  \n",
       "154655       (M71)KIABIBARDO  \n",
       "154657     (M70) KIABISOUKRA  \n",
       "154661         (M74)AZURCITY  \n",
       "\n",
       "[39809 rows x 8 columns]"
      ]
     },
     "execution_count": 36,
     "metadata": {},
     "output_type": "execute_result"
    }
   ],
   "source": [
    "client"
   ]
  },
  {
   "cell_type": "code",
   "execution_count": 37,
   "metadata": {},
   "outputs": [
    {
     "data": {
      "text/plain": [
       "array(['(M73)TUNISCITY', '(M70) KIABISOUKRA', '(M74)AZURCITY',\n",
       "       '(M72)KIABI MANAR', '(M71)KIABIBARDO', '(FTN) SiÃẀge KIABI'],\n",
       "      dtype=object)"
      ]
     },
     "execution_count": 37,
     "metadata": {},
     "output_type": "execute_result"
    }
   ],
   "source": [
    "client[\"Etablissement de creation carte\"].unique()"
   ]
  },
  {
   "cell_type": "code",
   "execution_count": 40,
   "metadata": {},
   "outputs": [
    {
     "name": "stderr",
     "output_type": "stream",
     "text": [
      "<ipython-input-40-7b17069d073a>:2: SettingWithCopyWarning: \n",
      "A value is trying to be set on a copy of a slice from a DataFrame.\n",
      "Try using .loc[row_indexer,col_indexer] = value instead\n",
      "\n",
      "See the caveats in the documentation: https://pandas.pydata.org/pandas-docs/stable/user_guide/indexing.html#returning-a-view-versus-a-copy\n",
      "  client['Etablissement de creation carte']=client['Etablissement de creation carte'].replace(c)\n"
     ]
    },
    {
     "data": {
      "text/plain": [
       "array(['TUNISCITY', 'KIABISOUKRA', 'AZURCITY', 'KIABI MANAR',\n",
       "       'KIABIBARDO', 'SiÃẀge KIABI'], dtype=object)"
      ]
     },
     "execution_count": 40,
     "metadata": {},
     "output_type": "execute_result"
    }
   ],
   "source": [
    "c={\"(M73)TUNISCITY\":\"TUNISCITY\",\"(M70) KIABISOUKRA\":\"KIABISOUKRA\",\"(M74)AZURCITY\":\"AZURCITY\",\"(M72)KIABI MANAR\":\"KIABI MANAR\",\"(M71)KIABIBARDO\":\"KIABIBARDO\",\"(FTN) SiÃẀge KIABI\":\"SiÃẀge KIABI\"}\n",
    "client['Etablissement de creation carte']=client['Etablissement de creation carte'].replace(c)\n",
    "client[\"Etablissement de creation carte\"].unique()"
   ]
  },
  {
   "cell_type": "code",
   "execution_count": 42,
   "metadata": {},
   "outputs": [
    {
     "data": {
      "text/plain": [
       "array(['(M70) KIABISOUKRA', '(M72)KIABI MANAR', '(M74)AZURCITY',\n",
       "       '(M73)TUNISCITY', '(M71)KIABIBARDO'], dtype=object)"
      ]
     },
     "execution_count": 42,
     "metadata": {},
     "output_type": "execute_result"
    }
   ],
   "source": [
    "client[\"Etablissement passage\"].unique()"
   ]
  },
  {
   "cell_type": "code",
   "execution_count": 43,
   "metadata": {},
   "outputs": [
    {
     "name": "stderr",
     "output_type": "stream",
     "text": [
      "<ipython-input-43-c6cd98433149>:2: SettingWithCopyWarning: \n",
      "A value is trying to be set on a copy of a slice from a DataFrame.\n",
      "Try using .loc[row_indexer,col_indexer] = value instead\n",
      "\n",
      "See the caveats in the documentation: https://pandas.pydata.org/pandas-docs/stable/user_guide/indexing.html#returning-a-view-versus-a-copy\n",
      "  client['Etablissement passage']=client['Etablissement passage'].replace(p)\n"
     ]
    },
    {
     "data": {
      "text/plain": [
       "array(['KIABISOUKRA', 'KIABI MANAR', 'AZURCITY', 'TUNISCITY',\n",
       "       'KIABIBARDO'], dtype=object)"
      ]
     },
     "execution_count": 43,
     "metadata": {},
     "output_type": "execute_result"
    }
   ],
   "source": [
    "p={\"(M73)TUNISCITY\":\"TUNISCITY\",\"(M70) KIABISOUKRA\":\"KIABISOUKRA\",\"(M74)AZURCITY\":\"AZURCITY\",\"(M72)KIABI MANAR\":\"KIABI MANAR\",\"(M71)KIABIBARDO\":\"KIABIBARDO\"}\n",
    "client['Etablissement passage']=client['Etablissement passage'].replace(p)\n",
    "client[\"Etablissement passage\"].unique()"
   ]
  },
  {
   "cell_type": "code",
   "execution_count": 45,
   "metadata": {},
   "outputs": [
    {
     "data": {
      "text/plain": [
       "array([ 4,  6, 10,  3,  8, 11,  7,  9,  1, 12,  5,  2], dtype=int64)"
      ]
     },
     "execution_count": 45,
     "metadata": {},
     "output_type": "execute_result"
    }
   ],
   "source": [
    "client[\"Mois de naissance\"].unique()"
   ]
  },
  {
   "cell_type": "code",
   "execution_count": 49,
   "metadata": {},
   "outputs": [
    {
     "data": {
      "text/plain": [
       "Index(['Client', 'Etablissement de creation carte', 'Ville', 'Sexe',\n",
       "       'Jour de naissance', 'Mois de naissance', 'AnnÃ©e de naissance',\n",
       "       'Etablissement passage'],\n",
       "      dtype='object')"
      ]
     },
     "execution_count": 49,
     "metadata": {},
     "output_type": "execute_result"
    }
   ],
   "source": [
    "client.columns\n"
   ]
  },
  {
   "cell_type": "code",
   "execution_count": 52,
   "metadata": {},
   "outputs": [
    {
     "data": {
      "text/plain": [
       "Index(['ID_client', 'Etablissement de creation carte', 'Ville', 'Genre',\n",
       "       'Jour', 'Mois', 'Année', 'Etablissement passage'],\n",
       "      dtype='object')"
      ]
     },
     "execution_count": 52,
     "metadata": {},
     "output_type": "execute_result"
    }
   ],
   "source": [
    "client = client.rename(columns={\"Client\":\"ID_client\", \"Sexe\":\"Genre\", \"Jour de naissance\":\"Jour\",\"Mois de naissance\":\"Mois\",\n",
    "                                \"AnnÃ©e de naissance\":\"Année\"})\n",
    "client.columns"
   ]
  },
  {
   "cell_type": "markdown",
   "metadata": {},
   "source": [
    "# Nettoyage Dataset Article"
   ]
  },
  {
   "cell_type": "code",
   "execution_count": 155,
   "metadata": {},
   "outputs": [],
   "source": [
    "article=article.drop_duplicates(keep='first')"
   ]
  },
  {
   "cell_type": "code",
   "execution_count": 156,
   "metadata": {},
   "outputs": [
    {
     "data": {
      "text/plain": [
       "Index(['Code_article', 'Collection', 'LibellÃ©_article', 'GROUP ligne doc',\n",
       "       'MARKET ligne doc', 'DEPARTEMENT ligne doc', 'DÃ©signation ligne'],\n",
       "      dtype='object')"
      ]
     },
     "execution_count": 156,
     "metadata": {},
     "output_type": "execute_result"
    }
   ],
   "source": [
    "article.columns"
   ]
  },
  {
   "cell_type": "code",
   "execution_count": 157,
   "metadata": {},
   "outputs": [
    {
     "data": {
      "text/plain": [
       "Index(['Code_article', 'Collection', 'LibellÃ©_article', 'Groupe_article',\n",
       "       'catégorie_groupe', 'département article', 'DÃ©signation ligne'],\n",
       "      dtype='object')"
      ]
     },
     "execution_count": 157,
     "metadata": {},
     "output_type": "execute_result"
    }
   ],
   "source": [
    "article = article.rename(columns={\"GROUP ligne doc\":\"Groupe_article\",\"MARKET ligne doc\":\"catégorie_groupe\",\n",
    "                                  \"DEPARTEMENT ligne doc\":\"département article\"})\n",
    "article.columns"
   ]
  },
  {
   "cell_type": "markdown",
   "metadata": {},
   "source": [
    "# DataSet détail_transaction"
   ]
  },
  {
   "cell_type": "code",
   "execution_count": 73,
   "metadata": {},
   "outputs": [
    {
     "data": {
      "text/plain": [
       "Index(['NumÃ©ro_ticket', 'DateAchat', 'QuantitÃ©', 'prix_unit', 'Total_TTC',\n",
       "       'Etablissement passage'],\n",
       "      dtype='object')"
      ]
     },
     "execution_count": 73,
     "metadata": {},
     "output_type": "execute_result"
    }
   ],
   "source": [
    "détail_transaction.columns"
   ]
  },
  {
   "cell_type": "code",
   "execution_count": 76,
   "metadata": {},
   "outputs": [
    {
     "data": {
      "text/plain": [
       "Index(['NumÃ©ro_ticket', 'DateAchat', 'QuantitÃ©', 'prix_unit', 'Total_TTC',\n",
       "       'Etablissement passage'],\n",
       "      dtype='object')"
      ]
     },
     "execution_count": 76,
     "metadata": {},
     "output_type": "execute_result"
    }
   ],
   "source": [
    "détail_transaction.drop(['Zone commerciale'],axis='columns',inplace=True)\n",
    "client = client.rename(columns={\"Numéro de ticket\":\"NumÃ©ro_ticket\", \"Date Achat\":\"DateAchat\", \n",
    "                                \"Quantité ligne\":\"Quantité\",\"Total TTC_ligne\":\"Total TTC\"})\n",
    "client.columns"
   ]
  },
  {
   "cell_type": "code",
   "execution_count": 79,
   "metadata": {},
   "outputs": [
    {
     "data": {
      "text/html": [
       "<div>\n",
       "<style scoped>\n",
       "    .dataframe tbody tr th:only-of-type {\n",
       "        vertical-align: middle;\n",
       "    }\n",
       "\n",
       "    .dataframe tbody tr th {\n",
       "        vertical-align: top;\n",
       "    }\n",
       "\n",
       "    .dataframe thead th {\n",
       "        text-align: right;\n",
       "    }\n",
       "</style>\n",
       "<table border=\"1\" class=\"dataframe\">\n",
       "  <thead>\n",
       "    <tr style=\"text-align: right;\">\n",
       "      <th></th>\n",
       "      <th>NumÃ©ro_ticket</th>\n",
       "      <th>DateAchat</th>\n",
       "      <th>QuantitÃ©</th>\n",
       "      <th>prix_unit</th>\n",
       "      <th>Total_TTC</th>\n",
       "      <th>Etablissement passage</th>\n",
       "    </tr>\n",
       "  </thead>\n",
       "  <tbody>\n",
       "    <tr>\n",
       "      <th>0</th>\n",
       "      <td>70769212</td>\n",
       "      <td>2020-11-01</td>\n",
       "      <td>1</td>\n",
       "      <td>22.0</td>\n",
       "      <td>22.0</td>\n",
       "      <td>(M70) KIABISOUKRA</td>\n",
       "    </tr>\n",
       "    <tr>\n",
       "      <th>1</th>\n",
       "      <td>70769212</td>\n",
       "      <td>2020-11-01</td>\n",
       "      <td>1</td>\n",
       "      <td>12.0</td>\n",
       "      <td>12.0</td>\n",
       "      <td>(M70) KIABISOUKRA</td>\n",
       "    </tr>\n",
       "    <tr>\n",
       "      <th>2</th>\n",
       "      <td>70769212</td>\n",
       "      <td>2020-11-01</td>\n",
       "      <td>1</td>\n",
       "      <td>9.0</td>\n",
       "      <td>9.0</td>\n",
       "      <td>(M70) KIABISOUKRA</td>\n",
       "    </tr>\n",
       "    <tr>\n",
       "      <th>3</th>\n",
       "      <td>70769212</td>\n",
       "      <td>2020-11-01</td>\n",
       "      <td>1</td>\n",
       "      <td>22.0</td>\n",
       "      <td>22.0</td>\n",
       "      <td>(M70) KIABISOUKRA</td>\n",
       "    </tr>\n",
       "  </tbody>\n",
       "</table>\n",
       "</div>"
      ],
      "text/plain": [
       "  NumÃ©ro_ticket   DateAchat  QuantitÃ©  prix_unit  Total_TTC  \\\n",
       "0       70769212  2020-11-01          1       22.0       22.0   \n",
       "1       70769212  2020-11-01          1       12.0       12.0   \n",
       "2       70769212  2020-11-01          1        9.0        9.0   \n",
       "3       70769212  2020-11-01          1       22.0       22.0   \n",
       "\n",
       "  Etablissement passage  \n",
       "0     (M70) KIABISOUKRA  \n",
       "1     (M70) KIABISOUKRA  \n",
       "2     (M70) KIABISOUKRA  \n",
       "3     (M70) KIABISOUKRA  "
      ]
     },
     "execution_count": 79,
     "metadata": {},
     "output_type": "execute_result"
    }
   ],
   "source": [
    "détail_transaction['NumÃ©ro_ticket']=détail_transaction['NumÃ©ro_ticket'].apply(str)\n",
    "détail_transaction['DateAchat']=pd.to_datetime(détail_transaction['DateAchat'],format='%d/%m/%Y')\n",
    "détail_transaction.head(4)"
   ]
  },
  {
   "cell_type": "markdown",
   "metadata": {},
   "source": [
    "# Feature engineering "
   ]
  },
  {
   "cell_type": "code",
   "execution_count": 85,
   "metadata": {},
   "outputs": [
    {
     "data": {
      "text/html": [
       "<div>\n",
       "<style scoped>\n",
       "    .dataframe tbody tr th:only-of-type {\n",
       "        vertical-align: middle;\n",
       "    }\n",
       "\n",
       "    .dataframe tbody tr th {\n",
       "        vertical-align: top;\n",
       "    }\n",
       "\n",
       "    .dataframe thead th {\n",
       "        text-align: right;\n",
       "    }\n",
       "</style>\n",
       "<table border=\"1\" class=\"dataframe\">\n",
       "  <thead>\n",
       "    <tr style=\"text-align: right;\">\n",
       "      <th></th>\n",
       "      <th>ID_client</th>\n",
       "      <th>Etablissement de creation carte</th>\n",
       "      <th>Ville</th>\n",
       "      <th>Genre</th>\n",
       "      <th>Jour</th>\n",
       "      <th>Mois</th>\n",
       "      <th>Année</th>\n",
       "      <th>Etablissement passage</th>\n",
       "      <th>DOB</th>\n",
       "    </tr>\n",
       "  </thead>\n",
       "  <tbody>\n",
       "    <tr>\n",
       "      <th>0</th>\n",
       "      <td>M7300729</td>\n",
       "      <td>TUNISCITY</td>\n",
       "      <td>HAMMAMET</td>\n",
       "      <td>Homme</td>\n",
       "      <td>18</td>\n",
       "      <td>4</td>\n",
       "      <td>1986</td>\n",
       "      <td>KIABISOUKRA</td>\n",
       "      <td>1986-04-18</td>\n",
       "    </tr>\n",
       "    <tr>\n",
       "      <th>17</th>\n",
       "      <td>70109180</td>\n",
       "      <td>KIABISOUKRA</td>\n",
       "      <td>BORJ LOUZIRÂ</td>\n",
       "      <td>Homme</td>\n",
       "      <td>4</td>\n",
       "      <td>6</td>\n",
       "      <td>1984</td>\n",
       "      <td>KIABISOUKRA</td>\n",
       "      <td>1984-06-04</td>\n",
       "    </tr>\n",
       "    <tr>\n",
       "      <th>20</th>\n",
       "      <td>M7003503</td>\n",
       "      <td>KIABISOUKRA</td>\n",
       "      <td>MUTUELLE VILLEÂ</td>\n",
       "      <td>Femme</td>\n",
       "      <td>11</td>\n",
       "      <td>10</td>\n",
       "      <td>1976</td>\n",
       "      <td>KIABI MANAR</td>\n",
       "      <td>1976-10-11</td>\n",
       "    </tr>\n",
       "    <tr>\n",
       "      <th>28</th>\n",
       "      <td>M7059240</td>\n",
       "      <td>KIABISOUKRA</td>\n",
       "      <td>MEGRINEÂ</td>\n",
       "      <td>Femme</td>\n",
       "      <td>28</td>\n",
       "      <td>3</td>\n",
       "      <td>1989</td>\n",
       "      <td>AZURCITY</td>\n",
       "      <td>1989-03-28</td>\n",
       "    </tr>\n",
       "    <tr>\n",
       "      <th>30</th>\n",
       "      <td>M7319993</td>\n",
       "      <td>TUNISCITY</td>\n",
       "      <td>ARIANAÂ</td>\n",
       "      <td>Homme</td>\n",
       "      <td>3</td>\n",
       "      <td>8</td>\n",
       "      <td>1977</td>\n",
       "      <td>TUNISCITY</td>\n",
       "      <td>1977-08-03</td>\n",
       "    </tr>\n",
       "  </tbody>\n",
       "</table>\n",
       "</div>"
      ],
      "text/plain": [
       "   ID_client Etablissement de creation carte             Ville  Genre  Jour  \\\n",
       "0   M7300729                       TUNISCITY          HAMMAMET  Homme    18   \n",
       "17  70109180                     KIABISOUKRA     BORJ LOUZIRÂ   Homme     4   \n",
       "20  M7003503                     KIABISOUKRA  MUTUELLE VILLEÂ   Femme    11   \n",
       "28  M7059240                     KIABISOUKRA         MEGRINEÂ   Femme    28   \n",
       "30  M7319993                       TUNISCITY          ARIANAÂ   Homme     3   \n",
       "\n",
       "    Mois  Année Etablissement passage        DOB  \n",
       "0      4   1986           KIABISOUKRA 1986-04-18  \n",
       "17     6   1984           KIABISOUKRA 1984-06-04  \n",
       "20    10   1976           KIABI MANAR 1976-10-11  \n",
       "28     3   1989              AZURCITY 1989-03-28  \n",
       "30     8   1977             TUNISCITY 1977-08-03  "
      ]
     },
     "execution_count": 85,
     "metadata": {},
     "output_type": "execute_result"
    }
   ],
   "source": [
    "from datetime import datetime \n",
    "client['DOB']= client.apply(lambda row: datetime.strptime(f\"{int(row.Année)}-{int(row.Mois)}-{int(row.Jour)}\",'%Y-%m-%d'),axis=1)\n",
    "client.head(5)"
   ]
  },
  {
   "cell_type": "code",
   "execution_count": 92,
   "metadata": {},
   "outputs": [],
   "source": [
    "from datetime import date\n",
    "def age(born) :\n",
    "    today = date.today()\n",
    "    return today.year-born.year-((today.month, today.day)<(born.month,born.day))\n",
    "\n",
    "client['Age']=client['DOB'].apply(lambda x: age(x))"
   ]
  },
  {
   "cell_type": "code",
   "execution_count": 93,
   "metadata": {},
   "outputs": [
    {
     "data": {
      "text/html": [
       "<div>\n",
       "<style scoped>\n",
       "    .dataframe tbody tr th:only-of-type {\n",
       "        vertical-align: middle;\n",
       "    }\n",
       "\n",
       "    .dataframe tbody tr th {\n",
       "        vertical-align: top;\n",
       "    }\n",
       "\n",
       "    .dataframe thead th {\n",
       "        text-align: right;\n",
       "    }\n",
       "</style>\n",
       "<table border=\"1\" class=\"dataframe\">\n",
       "  <thead>\n",
       "    <tr style=\"text-align: right;\">\n",
       "      <th></th>\n",
       "      <th>ID_client</th>\n",
       "      <th>Etablissement de creation carte</th>\n",
       "      <th>Ville</th>\n",
       "      <th>Genre</th>\n",
       "      <th>Jour</th>\n",
       "      <th>Mois</th>\n",
       "      <th>Année</th>\n",
       "      <th>Etablissement passage</th>\n",
       "      <th>DOB</th>\n",
       "      <th>Age</th>\n",
       "    </tr>\n",
       "  </thead>\n",
       "  <tbody>\n",
       "    <tr>\n",
       "      <th>0</th>\n",
       "      <td>M7300729</td>\n",
       "      <td>TUNISCITY</td>\n",
       "      <td>HAMMAMET</td>\n",
       "      <td>Homme</td>\n",
       "      <td>18</td>\n",
       "      <td>4</td>\n",
       "      <td>1986</td>\n",
       "      <td>KIABISOUKRA</td>\n",
       "      <td>1986-04-18</td>\n",
       "      <td>37</td>\n",
       "    </tr>\n",
       "    <tr>\n",
       "      <th>17</th>\n",
       "      <td>70109180</td>\n",
       "      <td>KIABISOUKRA</td>\n",
       "      <td>BORJ LOUZIRÂ</td>\n",
       "      <td>Homme</td>\n",
       "      <td>4</td>\n",
       "      <td>6</td>\n",
       "      <td>1984</td>\n",
       "      <td>KIABISOUKRA</td>\n",
       "      <td>1984-06-04</td>\n",
       "      <td>39</td>\n",
       "    </tr>\n",
       "    <tr>\n",
       "      <th>20</th>\n",
       "      <td>M7003503</td>\n",
       "      <td>KIABISOUKRA</td>\n",
       "      <td>MUTUELLE VILLEÂ</td>\n",
       "      <td>Femme</td>\n",
       "      <td>11</td>\n",
       "      <td>10</td>\n",
       "      <td>1976</td>\n",
       "      <td>KIABI MANAR</td>\n",
       "      <td>1976-10-11</td>\n",
       "      <td>46</td>\n",
       "    </tr>\n",
       "    <tr>\n",
       "      <th>28</th>\n",
       "      <td>M7059240</td>\n",
       "      <td>KIABISOUKRA</td>\n",
       "      <td>MEGRINEÂ</td>\n",
       "      <td>Femme</td>\n",
       "      <td>28</td>\n",
       "      <td>3</td>\n",
       "      <td>1989</td>\n",
       "      <td>AZURCITY</td>\n",
       "      <td>1989-03-28</td>\n",
       "      <td>34</td>\n",
       "    </tr>\n",
       "    <tr>\n",
       "      <th>30</th>\n",
       "      <td>M7319993</td>\n",
       "      <td>TUNISCITY</td>\n",
       "      <td>ARIANAÂ</td>\n",
       "      <td>Homme</td>\n",
       "      <td>3</td>\n",
       "      <td>8</td>\n",
       "      <td>1977</td>\n",
       "      <td>TUNISCITY</td>\n",
       "      <td>1977-08-03</td>\n",
       "      <td>45</td>\n",
       "    </tr>\n",
       "    <tr>\n",
       "      <th>...</th>\n",
       "      <td>...</td>\n",
       "      <td>...</td>\n",
       "      <td>...</td>\n",
       "      <td>...</td>\n",
       "      <td>...</td>\n",
       "      <td>...</td>\n",
       "      <td>...</td>\n",
       "      <td>...</td>\n",
       "      <td>...</td>\n",
       "      <td>...</td>\n",
       "    </tr>\n",
       "    <tr>\n",
       "      <th>154639</th>\n",
       "      <td>M7304219</td>\n",
       "      <td>TUNISCITY</td>\n",
       "      <td>BIZERTEÂ</td>\n",
       "      <td>Femme</td>\n",
       "      <td>16</td>\n",
       "      <td>5</td>\n",
       "      <td>1981</td>\n",
       "      <td>TUNISCITY</td>\n",
       "      <td>1981-05-16</td>\n",
       "      <td>42</td>\n",
       "    </tr>\n",
       "    <tr>\n",
       "      <th>154646</th>\n",
       "      <td>72105187</td>\n",
       "      <td>KIABI MANAR</td>\n",
       "      <td>TUNIS</td>\n",
       "      <td>Femme</td>\n",
       "      <td>7</td>\n",
       "      <td>10</td>\n",
       "      <td>1992</td>\n",
       "      <td>KIABI MANAR</td>\n",
       "      <td>1992-10-07</td>\n",
       "      <td>30</td>\n",
       "    </tr>\n",
       "    <tr>\n",
       "      <th>154655</th>\n",
       "      <td>M7103787</td>\n",
       "      <td>KIABIBARDO</td>\n",
       "      <td>LE BARDOÂ</td>\n",
       "      <td>Femme</td>\n",
       "      <td>11</td>\n",
       "      <td>10</td>\n",
       "      <td>1965</td>\n",
       "      <td>KIABIBARDO</td>\n",
       "      <td>1965-10-11</td>\n",
       "      <td>57</td>\n",
       "    </tr>\n",
       "    <tr>\n",
       "      <th>154657</th>\n",
       "      <td>M7076493</td>\n",
       "      <td>KIABISOUKRA</td>\n",
       "      <td>LA SOUKRAÂ</td>\n",
       "      <td>Femme</td>\n",
       "      <td>23</td>\n",
       "      <td>5</td>\n",
       "      <td>1979</td>\n",
       "      <td>KIABISOUKRA</td>\n",
       "      <td>1979-05-23</td>\n",
       "      <td>44</td>\n",
       "    </tr>\n",
       "    <tr>\n",
       "      <th>154661</th>\n",
       "      <td>74019819</td>\n",
       "      <td>AZURCITY</td>\n",
       "      <td>BEN AROUSÂ</td>\n",
       "      <td>Homme</td>\n",
       "      <td>7</td>\n",
       "      <td>1</td>\n",
       "      <td>2000</td>\n",
       "      <td>AZURCITY</td>\n",
       "      <td>2000-01-07</td>\n",
       "      <td>23</td>\n",
       "    </tr>\n",
       "  </tbody>\n",
       "</table>\n",
       "<p>39809 rows × 10 columns</p>\n",
       "</div>"
      ],
      "text/plain": [
       "       ID_client Etablissement de creation carte             Ville  Genre  \\\n",
       "0       M7300729                       TUNISCITY          HAMMAMET  Homme   \n",
       "17      70109180                     KIABISOUKRA     BORJ LOUZIRÂ   Homme   \n",
       "20      M7003503                     KIABISOUKRA  MUTUELLE VILLEÂ   Femme   \n",
       "28      M7059240                     KIABISOUKRA         MEGRINEÂ   Femme   \n",
       "30      M7319993                       TUNISCITY          ARIANAÂ   Homme   \n",
       "...          ...                             ...               ...    ...   \n",
       "154639  M7304219                       TUNISCITY         BIZERTEÂ   Femme   \n",
       "154646  72105187                     KIABI MANAR             TUNIS  Femme   \n",
       "154655  M7103787                      KIABIBARDO        LE BARDOÂ   Femme   \n",
       "154657  M7076493                     KIABISOUKRA       LA SOUKRAÂ   Femme   \n",
       "154661  74019819                        AZURCITY       BEN AROUSÂ   Homme   \n",
       "\n",
       "        Jour  Mois  Année Etablissement passage        DOB  Age  \n",
       "0         18     4   1986           KIABISOUKRA 1986-04-18   37  \n",
       "17         4     6   1984           KIABISOUKRA 1984-06-04   39  \n",
       "20        11    10   1976           KIABI MANAR 1976-10-11   46  \n",
       "28        28     3   1989              AZURCITY 1989-03-28   34  \n",
       "30         3     8   1977             TUNISCITY 1977-08-03   45  \n",
       "...      ...   ...    ...                   ...        ...  ...  \n",
       "154639    16     5   1981             TUNISCITY 1981-05-16   42  \n",
       "154646     7    10   1992           KIABI MANAR 1992-10-07   30  \n",
       "154655    11    10   1965            KIABIBARDO 1965-10-11   57  \n",
       "154657    23     5   1979           KIABISOUKRA 1979-05-23   44  \n",
       "154661     7     1   2000              AZURCITY 2000-01-07   23  \n",
       "\n",
       "[39809 rows x 10 columns]"
      ]
     },
     "execution_count": 93,
     "metadata": {},
     "output_type": "execute_result"
    }
   ],
   "source": [
    "client"
   ]
  },
  {
   "cell_type": "code",
   "execution_count": 96,
   "metadata": {},
   "outputs": [
    {
     "data": {
      "text/html": [
       "<div>\n",
       "<style scoped>\n",
       "    .dataframe tbody tr th:only-of-type {\n",
       "        vertical-align: middle;\n",
       "    }\n",
       "\n",
       "    .dataframe tbody tr th {\n",
       "        vertical-align: top;\n",
       "    }\n",
       "\n",
       "    .dataframe thead th {\n",
       "        text-align: right;\n",
       "    }\n",
       "</style>\n",
       "<table border=\"1\" class=\"dataframe\">\n",
       "  <thead>\n",
       "    <tr style=\"text-align: right;\">\n",
       "      <th></th>\n",
       "      <th>ID_client</th>\n",
       "      <th>Etablissement de creation carte</th>\n",
       "      <th>Ville</th>\n",
       "      <th>Genre</th>\n",
       "      <th>Jour</th>\n",
       "      <th>Mois</th>\n",
       "      <th>Année</th>\n",
       "      <th>Etablissement passage</th>\n",
       "      <th>DOB</th>\n",
       "      <th>Age</th>\n",
       "      <th>Catégorie d'âge</th>\n",
       "    </tr>\n",
       "  </thead>\n",
       "  <tbody>\n",
       "    <tr>\n",
       "      <th>0</th>\n",
       "      <td>M7300729</td>\n",
       "      <td>TUNISCITY</td>\n",
       "      <td>HAMMAMET</td>\n",
       "      <td>Homme</td>\n",
       "      <td>18</td>\n",
       "      <td>4</td>\n",
       "      <td>1986</td>\n",
       "      <td>KIABISOUKRA</td>\n",
       "      <td>1986-04-18</td>\n",
       "      <td>37</td>\n",
       "      <td>30-39</td>\n",
       "    </tr>\n",
       "    <tr>\n",
       "      <th>17</th>\n",
       "      <td>70109180</td>\n",
       "      <td>KIABISOUKRA</td>\n",
       "      <td>BORJ LOUZIRÂ</td>\n",
       "      <td>Homme</td>\n",
       "      <td>4</td>\n",
       "      <td>6</td>\n",
       "      <td>1984</td>\n",
       "      <td>KIABISOUKRA</td>\n",
       "      <td>1984-06-04</td>\n",
       "      <td>39</td>\n",
       "      <td>30-39</td>\n",
       "    </tr>\n",
       "    <tr>\n",
       "      <th>20</th>\n",
       "      <td>M7003503</td>\n",
       "      <td>KIABISOUKRA</td>\n",
       "      <td>MUTUELLE VILLEÂ</td>\n",
       "      <td>Femme</td>\n",
       "      <td>11</td>\n",
       "      <td>10</td>\n",
       "      <td>1976</td>\n",
       "      <td>KIABI MANAR</td>\n",
       "      <td>1976-10-11</td>\n",
       "      <td>46</td>\n",
       "      <td>40-49</td>\n",
       "    </tr>\n",
       "    <tr>\n",
       "      <th>28</th>\n",
       "      <td>M7059240</td>\n",
       "      <td>KIABISOUKRA</td>\n",
       "      <td>MEGRINEÂ</td>\n",
       "      <td>Femme</td>\n",
       "      <td>28</td>\n",
       "      <td>3</td>\n",
       "      <td>1989</td>\n",
       "      <td>AZURCITY</td>\n",
       "      <td>1989-03-28</td>\n",
       "      <td>34</td>\n",
       "      <td>30-39</td>\n",
       "    </tr>\n",
       "    <tr>\n",
       "      <th>30</th>\n",
       "      <td>M7319993</td>\n",
       "      <td>TUNISCITY</td>\n",
       "      <td>ARIANAÂ</td>\n",
       "      <td>Homme</td>\n",
       "      <td>3</td>\n",
       "      <td>8</td>\n",
       "      <td>1977</td>\n",
       "      <td>TUNISCITY</td>\n",
       "      <td>1977-08-03</td>\n",
       "      <td>45</td>\n",
       "      <td>40-49</td>\n",
       "    </tr>\n",
       "    <tr>\n",
       "      <th>...</th>\n",
       "      <td>...</td>\n",
       "      <td>...</td>\n",
       "      <td>...</td>\n",
       "      <td>...</td>\n",
       "      <td>...</td>\n",
       "      <td>...</td>\n",
       "      <td>...</td>\n",
       "      <td>...</td>\n",
       "      <td>...</td>\n",
       "      <td>...</td>\n",
       "      <td>...</td>\n",
       "    </tr>\n",
       "    <tr>\n",
       "      <th>154639</th>\n",
       "      <td>M7304219</td>\n",
       "      <td>TUNISCITY</td>\n",
       "      <td>BIZERTEÂ</td>\n",
       "      <td>Femme</td>\n",
       "      <td>16</td>\n",
       "      <td>5</td>\n",
       "      <td>1981</td>\n",
       "      <td>TUNISCITY</td>\n",
       "      <td>1981-05-16</td>\n",
       "      <td>42</td>\n",
       "      <td>40-49</td>\n",
       "    </tr>\n",
       "    <tr>\n",
       "      <th>154646</th>\n",
       "      <td>72105187</td>\n",
       "      <td>KIABI MANAR</td>\n",
       "      <td>TUNIS</td>\n",
       "      <td>Femme</td>\n",
       "      <td>7</td>\n",
       "      <td>10</td>\n",
       "      <td>1992</td>\n",
       "      <td>KIABI MANAR</td>\n",
       "      <td>1992-10-07</td>\n",
       "      <td>30</td>\n",
       "      <td>30-39</td>\n",
       "    </tr>\n",
       "    <tr>\n",
       "      <th>154655</th>\n",
       "      <td>M7103787</td>\n",
       "      <td>KIABIBARDO</td>\n",
       "      <td>LE BARDOÂ</td>\n",
       "      <td>Femme</td>\n",
       "      <td>11</td>\n",
       "      <td>10</td>\n",
       "      <td>1965</td>\n",
       "      <td>KIABIBARDO</td>\n",
       "      <td>1965-10-11</td>\n",
       "      <td>57</td>\n",
       "      <td>50-59</td>\n",
       "    </tr>\n",
       "    <tr>\n",
       "      <th>154657</th>\n",
       "      <td>M7076493</td>\n",
       "      <td>KIABISOUKRA</td>\n",
       "      <td>LA SOUKRAÂ</td>\n",
       "      <td>Femme</td>\n",
       "      <td>23</td>\n",
       "      <td>5</td>\n",
       "      <td>1979</td>\n",
       "      <td>KIABISOUKRA</td>\n",
       "      <td>1979-05-23</td>\n",
       "      <td>44</td>\n",
       "      <td>40-49</td>\n",
       "    </tr>\n",
       "    <tr>\n",
       "      <th>154661</th>\n",
       "      <td>74019819</td>\n",
       "      <td>AZURCITY</td>\n",
       "      <td>BEN AROUSÂ</td>\n",
       "      <td>Homme</td>\n",
       "      <td>7</td>\n",
       "      <td>1</td>\n",
       "      <td>2000</td>\n",
       "      <td>AZURCITY</td>\n",
       "      <td>2000-01-07</td>\n",
       "      <td>23</td>\n",
       "      <td>18-29</td>\n",
       "    </tr>\n",
       "  </tbody>\n",
       "</table>\n",
       "<p>39809 rows × 11 columns</p>\n",
       "</div>"
      ],
      "text/plain": [
       "       ID_client Etablissement de creation carte             Ville  Genre  \\\n",
       "0       M7300729                       TUNISCITY          HAMMAMET  Homme   \n",
       "17      70109180                     KIABISOUKRA     BORJ LOUZIRÂ   Homme   \n",
       "20      M7003503                     KIABISOUKRA  MUTUELLE VILLEÂ   Femme   \n",
       "28      M7059240                     KIABISOUKRA         MEGRINEÂ   Femme   \n",
       "30      M7319993                       TUNISCITY          ARIANAÂ   Homme   \n",
       "...          ...                             ...               ...    ...   \n",
       "154639  M7304219                       TUNISCITY         BIZERTEÂ   Femme   \n",
       "154646  72105187                     KIABI MANAR             TUNIS  Femme   \n",
       "154655  M7103787                      KIABIBARDO        LE BARDOÂ   Femme   \n",
       "154657  M7076493                     KIABISOUKRA       LA SOUKRAÂ   Femme   \n",
       "154661  74019819                        AZURCITY       BEN AROUSÂ   Homme   \n",
       "\n",
       "        Jour  Mois  Année Etablissement passage        DOB  Age  \\\n",
       "0         18     4   1986           KIABISOUKRA 1986-04-18   37   \n",
       "17         4     6   1984           KIABISOUKRA 1984-06-04   39   \n",
       "20        11    10   1976           KIABI MANAR 1976-10-11   46   \n",
       "28        28     3   1989              AZURCITY 1989-03-28   34   \n",
       "30         3     8   1977             TUNISCITY 1977-08-03   45   \n",
       "...      ...   ...    ...                   ...        ...  ...   \n",
       "154639    16     5   1981             TUNISCITY 1981-05-16   42   \n",
       "154646     7    10   1992           KIABI MANAR 1992-10-07   30   \n",
       "154655    11    10   1965            KIABIBARDO 1965-10-11   57   \n",
       "154657    23     5   1979           KIABISOUKRA 1979-05-23   44   \n",
       "154661     7     1   2000              AZURCITY 2000-01-07   23   \n",
       "\n",
       "       Catégorie d'âge  \n",
       "0                30-39  \n",
       "17               30-39  \n",
       "20               40-49  \n",
       "28               30-39  \n",
       "30               40-49  \n",
       "...                ...  \n",
       "154639           40-49  \n",
       "154646           30-39  \n",
       "154655           50-59  \n",
       "154657           40-49  \n",
       "154661           18-29  \n",
       "\n",
       "[39809 rows x 11 columns]"
      ]
     },
     "execution_count": 96,
     "metadata": {},
     "output_type": "execute_result"
    }
   ],
   "source": [
    "bornes = [0, 18, 30, 40, 50, 60, 70, float('inf')]\n",
    "labels = ['0-17', '18-29', '30-39', '40-49', '50-59', '60-69', '70+']\n",
    "\n",
    "# Ajouter la colonne \"Catégorie d'âge\" basée sur la colonne \"Âge\"\n",
    "client['Catégorie d\\'âge'] = pd.cut(client['Age'], bins=bornes, labels=labels, right=False)\n",
    "client"
   ]
  },
  {
   "cell_type": "code",
   "execution_count": 326,
   "metadata": {},
   "outputs": [
    {
     "data": {
      "text/html": [
       "<div>\n",
       "<style scoped>\n",
       "    .dataframe tbody tr th:only-of-type {\n",
       "        vertical-align: middle;\n",
       "    }\n",
       "\n",
       "    .dataframe tbody tr th {\n",
       "        vertical-align: top;\n",
       "    }\n",
       "\n",
       "    .dataframe thead th {\n",
       "        text-align: right;\n",
       "    }\n",
       "</style>\n",
       "<table border=\"1\" class=\"dataframe\">\n",
       "  <thead>\n",
       "    <tr style=\"text-align: right;\">\n",
       "      <th></th>\n",
       "      <th>Code_article</th>\n",
       "      <th>Collection</th>\n",
       "      <th>LibellÃ©_article</th>\n",
       "      <th>Groupe_article</th>\n",
       "      <th>catégorie_groupe</th>\n",
       "      <th>département article</th>\n",
       "      <th>DÃ©signation ligne</th>\n",
       "      <th>couleur</th>\n",
       "      <th>Taille</th>\n",
       "      <th>ID_couleur</th>\n",
       "    </tr>\n",
       "  </thead>\n",
       "  <tbody>\n",
       "    <tr>\n",
       "      <th>0</th>\n",
       "      <td>XN354</td>\n",
       "      <td>H20</td>\n",
       "      <td>T-SHIRT</td>\n",
       "      <td>GRKIDS</td>\n",
       "      <td>KIDSBOY</td>\n",
       "      <td>KIBTSHLS</td>\n",
       "      <td>T-SHIRT 8A - 8A GREY DINO - 38072</td>\n",
       "      <td>GREY DINO</td>\n",
       "      <td>8A</td>\n",
       "      <td>38072</td>\n",
       "    </tr>\n",
       "    <tr>\n",
       "      <th>1</th>\n",
       "      <td>XO790</td>\n",
       "      <td>H20</td>\n",
       "      <td>SOUS PULL</td>\n",
       "      <td>GRBABY</td>\n",
       "      <td>BABIES</td>\n",
       "      <td>BTSHIRTLS</td>\n",
       "      <td>SOUS PULL 18M - 18M REAL BLACK - 15701</td>\n",
       "      <td>REAL BLACK</td>\n",
       "      <td>18M</td>\n",
       "      <td>15701</td>\n",
       "    </tr>\n",
       "    <tr>\n",
       "      <th>2</th>\n",
       "      <td>XL400</td>\n",
       "      <td>H20</td>\n",
       "      <td>T-SHIRT</td>\n",
       "      <td>GRBABY</td>\n",
       "      <td>BABIES</td>\n",
       "      <td>BTSHIRTLS</td>\n",
       "      <td>T-SHIRT 18M - 18M RED VIE - 54140</td>\n",
       "      <td>RED VIE</td>\n",
       "      <td>18M</td>\n",
       "      <td>54140</td>\n",
       "    </tr>\n",
       "    <tr>\n",
       "      <th>3</th>\n",
       "      <td>XL409</td>\n",
       "      <td>H20</td>\n",
       "      <td>T-SHIRT</td>\n",
       "      <td>GRBABY</td>\n",
       "      <td>BABIES</td>\n",
       "      <td>BTSHIRTLS</td>\n",
       "      <td>T-SHIRT 18M - 18M PINK ETOIL - 53707</td>\n",
       "      <td>PINK ETOIL</td>\n",
       "      <td>18M</td>\n",
       "      <td>53707</td>\n",
       "    </tr>\n",
       "    <tr>\n",
       "      <th>4</th>\n",
       "      <td>XL409</td>\n",
       "      <td>H20</td>\n",
       "      <td>T-SHIRT</td>\n",
       "      <td>GRBABY</td>\n",
       "      <td>BABIES</td>\n",
       "      <td>BTSHIRTLS</td>\n",
       "      <td>T-SHIRT 18M - 18M ORANG ETOI - 53706</td>\n",
       "      <td>ORANG ETOI</td>\n",
       "      <td>18M</td>\n",
       "      <td>53706</td>\n",
       "    </tr>\n",
       "    <tr>\n",
       "      <th>5</th>\n",
       "      <td>XP308</td>\n",
       "      <td>H20</td>\n",
       "      <td>PULL</td>\n",
       "      <td>GRBABY</td>\n",
       "      <td>BABIES</td>\n",
       "      <td>BJUMPER</td>\n",
       "      <td>PULL 18M - 18M ROSE POU - 13763</td>\n",
       "      <td>ROSE POU</td>\n",
       "      <td>18M</td>\n",
       "      <td>13763</td>\n",
       "    </tr>\n",
       "    <tr>\n",
       "      <th>6</th>\n",
       "      <td>XO714</td>\n",
       "      <td>H20</td>\n",
       "      <td>COLLANTS</td>\n",
       "      <td>GRUNDERW</td>\n",
       "      <td>BABYUW</td>\n",
       "      <td>BSOCKS</td>\n",
       "      <td>COLLANTS 19/22 - 19/22 MIXED TAUP - 38779</td>\n",
       "      <td>MIXED TAUP</td>\n",
       "      <td>19/22</td>\n",
       "      <td>38779</td>\n",
       "    </tr>\n",
       "  </tbody>\n",
       "</table>\n",
       "</div>"
      ],
      "text/plain": [
       "  Code_article Collection LibellÃ©_article Groupe_article catégorie_groupe  \\\n",
       "0        XN354        H20          T-SHIRT         GRKIDS          KIDSBOY   \n",
       "1        XO790        H20        SOUS PULL         GRBABY           BABIES   \n",
       "2        XL400        H20          T-SHIRT         GRBABY           BABIES   \n",
       "3        XL409        H20          T-SHIRT         GRBABY           BABIES   \n",
       "4        XL409        H20          T-SHIRT         GRBABY           BABIES   \n",
       "5        XP308        H20             PULL         GRBABY           BABIES   \n",
       "6        XO714        H20         COLLANTS       GRUNDERW           BABYUW   \n",
       "\n",
       "  département article                         DÃ©signation ligne      couleur  \\\n",
       "0            KIBTSHLS          T-SHIRT 8A - 8A GREY DINO - 38072   GREY DINO    \n",
       "1           BTSHIRTLS     SOUS PULL 18M - 18M REAL BLACK - 15701  REAL BLACK    \n",
       "2           BTSHIRTLS          T-SHIRT 18M - 18M RED VIE - 54140     RED VIE    \n",
       "3           BTSHIRTLS       T-SHIRT 18M - 18M PINK ETOIL - 53707  PINK ETOIL    \n",
       "4           BTSHIRTLS       T-SHIRT 18M - 18M ORANG ETOI - 53706  ORANG ETOI    \n",
       "5             BJUMPER            PULL 18M - 18M ROSE POU - 13763    ROSE POU    \n",
       "6              BSOCKS  COLLANTS 19/22 - 19/22 MIXED TAUP - 38779  MIXED TAUP    \n",
       "\n",
       "  Taille ID_couleur  \n",
       "0     8A      38072  \n",
       "1    18M      15701  \n",
       "2    18M      54140  \n",
       "3    18M      53707  \n",
       "4    18M      53706  \n",
       "5    18M      13763  \n",
       "6  19/22      38779  "
      ]
     },
     "execution_count": 326,
     "metadata": {},
     "output_type": "execute_result"
    }
   ],
   "source": [
    "new = article['DÃ©signation ligne'].str.split(\"- \", n=2, expand = True)\n",
    "article[\"First col\"]=new[1]\n",
    "article[\"couleur\"]=article[\"First col\"].str.split(\" \",n=1, expand=True)[1]\n",
    "new_l = article['DÃ©signation ligne'].str.split(\"- \", n=2, expand = True)\n",
    "article[\"First col\"]=new_l[1]\n",
    "article[\"Taille\"]=article[\"First col\"].str.split(\" \",n=1, expand=True)[0]\n",
    "new_c = article['DÃ©signation ligne'].str.split(\"- \", n=2, expand = True)\n",
    "article[\"ID_couleur\"]=new_c[2]\n",
    "article=article.drop(['First col'],axis=1)\n",
    "article.head(7)"
   ]
  },
  {
   "cell_type": "code",
   "execution_count": 190,
   "metadata": {},
   "outputs": [],
   "source": [
    "détail_transaction['DateAchat'] = pd.to_datetime(détail_transaction['DateAchat'])\n",
    "détail_transaction['Jour_Semaine'] = détail_transaction['DateAchat'].dt.weekday\n",
    "jour_semaine_mapper = {0: 'Lundi', 1: 'Mardi', 2: 'Mercredi', 3: 'Jeudi', 4: 'Vendredi', 5: 'Samedi', 6: 'Dimanche'}\n",
    "détail_transaction['Jour_Semaine'] = détail_transaction['Jour_Semaine'].map(jour_semaine_mapper)"
   ]
  },
  {
   "cell_type": "code",
   "execution_count": 191,
   "metadata": {},
   "outputs": [
    {
     "data": {
      "text/html": [
       "<div>\n",
       "<style scoped>\n",
       "    .dataframe tbody tr th:only-of-type {\n",
       "        vertical-align: middle;\n",
       "    }\n",
       "\n",
       "    .dataframe tbody tr th {\n",
       "        vertical-align: top;\n",
       "    }\n",
       "\n",
       "    .dataframe thead th {\n",
       "        text-align: right;\n",
       "    }\n",
       "</style>\n",
       "<table border=\"1\" class=\"dataframe\">\n",
       "  <thead>\n",
       "    <tr style=\"text-align: right;\">\n",
       "      <th></th>\n",
       "      <th>NumÃ©ro_ticket</th>\n",
       "      <th>DateAchat</th>\n",
       "      <th>QuantitÃ©</th>\n",
       "      <th>prix_unit</th>\n",
       "      <th>Total_TTC</th>\n",
       "      <th>Etablissement passage</th>\n",
       "      <th>Jour_Semaine</th>\n",
       "    </tr>\n",
       "  </thead>\n",
       "  <tbody>\n",
       "    <tr>\n",
       "      <th>0</th>\n",
       "      <td>70769212</td>\n",
       "      <td>2020-11-01</td>\n",
       "      <td>1</td>\n",
       "      <td>22.0</td>\n",
       "      <td>22.0</td>\n",
       "      <td>(M70) KIABISOUKRA</td>\n",
       "      <td>Dimanche</td>\n",
       "    </tr>\n",
       "    <tr>\n",
       "      <th>1</th>\n",
       "      <td>70769212</td>\n",
       "      <td>2020-11-01</td>\n",
       "      <td>1</td>\n",
       "      <td>12.0</td>\n",
       "      <td>12.0</td>\n",
       "      <td>(M70) KIABISOUKRA</td>\n",
       "      <td>Dimanche</td>\n",
       "    </tr>\n",
       "    <tr>\n",
       "      <th>2</th>\n",
       "      <td>70769212</td>\n",
       "      <td>2020-11-01</td>\n",
       "      <td>1</td>\n",
       "      <td>9.0</td>\n",
       "      <td>9.0</td>\n",
       "      <td>(M70) KIABISOUKRA</td>\n",
       "      <td>Dimanche</td>\n",
       "    </tr>\n",
       "    <tr>\n",
       "      <th>3</th>\n",
       "      <td>70769212</td>\n",
       "      <td>2020-11-01</td>\n",
       "      <td>1</td>\n",
       "      <td>22.0</td>\n",
       "      <td>22.0</td>\n",
       "      <td>(M70) KIABISOUKRA</td>\n",
       "      <td>Dimanche</td>\n",
       "    </tr>\n",
       "    <tr>\n",
       "      <th>4</th>\n",
       "      <td>70769212</td>\n",
       "      <td>2020-11-01</td>\n",
       "      <td>1</td>\n",
       "      <td>22.0</td>\n",
       "      <td>22.0</td>\n",
       "      <td>(M70) KIABISOUKRA</td>\n",
       "      <td>Dimanche</td>\n",
       "    </tr>\n",
       "    <tr>\n",
       "      <th>...</th>\n",
       "      <td>...</td>\n",
       "      <td>...</td>\n",
       "      <td>...</td>\n",
       "      <td>...</td>\n",
       "      <td>...</td>\n",
       "      <td>...</td>\n",
       "      <td>...</td>\n",
       "    </tr>\n",
       "    <tr>\n",
       "      <th>154661</th>\n",
       "      <td>74066723</td>\n",
       "      <td>2020-12-15</td>\n",
       "      <td>1</td>\n",
       "      <td>55.0</td>\n",
       "      <td>55.0</td>\n",
       "      <td>(M74)AZURCITY</td>\n",
       "      <td>Mardi</td>\n",
       "    </tr>\n",
       "    <tr>\n",
       "      <th>154662</th>\n",
       "      <td>74066723</td>\n",
       "      <td>2020-12-15</td>\n",
       "      <td>1</td>\n",
       "      <td>55.0</td>\n",
       "      <td>55.0</td>\n",
       "      <td>(M74)AZURCITY</td>\n",
       "      <td>Mardi</td>\n",
       "    </tr>\n",
       "    <tr>\n",
       "      <th>154663</th>\n",
       "      <td>74066723</td>\n",
       "      <td>2020-12-15</td>\n",
       "      <td>1</td>\n",
       "      <td>55.0</td>\n",
       "      <td>55.0</td>\n",
       "      <td>(M74)AZURCITY</td>\n",
       "      <td>Mardi</td>\n",
       "    </tr>\n",
       "    <tr>\n",
       "      <th>154664</th>\n",
       "      <td>74066723</td>\n",
       "      <td>2020-12-15</td>\n",
       "      <td>1</td>\n",
       "      <td>95.0</td>\n",
       "      <td>95.0</td>\n",
       "      <td>(M74)AZURCITY</td>\n",
       "      <td>Mardi</td>\n",
       "    </tr>\n",
       "    <tr>\n",
       "      <th>154665</th>\n",
       "      <td>74066723</td>\n",
       "      <td>2020-12-15</td>\n",
       "      <td>1</td>\n",
       "      <td>95.0</td>\n",
       "      <td>95.0</td>\n",
       "      <td>(M74)AZURCITY</td>\n",
       "      <td>Mardi</td>\n",
       "    </tr>\n",
       "  </tbody>\n",
       "</table>\n",
       "<p>154666 rows × 7 columns</p>\n",
       "</div>"
      ],
      "text/plain": [
       "       NumÃ©ro_ticket  DateAchat  QuantitÃ©  prix_unit  Total_TTC  \\\n",
       "0            70769212 2020-11-01          1       22.0       22.0   \n",
       "1            70769212 2020-11-01          1       12.0       12.0   \n",
       "2            70769212 2020-11-01          1        9.0        9.0   \n",
       "3            70769212 2020-11-01          1       22.0       22.0   \n",
       "4            70769212 2020-11-01          1       22.0       22.0   \n",
       "...               ...        ...        ...        ...        ...   \n",
       "154661       74066723 2020-12-15          1       55.0       55.0   \n",
       "154662       74066723 2020-12-15          1       55.0       55.0   \n",
       "154663       74066723 2020-12-15          1       55.0       55.0   \n",
       "154664       74066723 2020-12-15          1       95.0       95.0   \n",
       "154665       74066723 2020-12-15          1       95.0       95.0   \n",
       "\n",
       "       Etablissement passage Jour_Semaine  \n",
       "0          (M70) KIABISOUKRA     Dimanche  \n",
       "1          (M70) KIABISOUKRA     Dimanche  \n",
       "2          (M70) KIABISOUKRA     Dimanche  \n",
       "3          (M70) KIABISOUKRA     Dimanche  \n",
       "4          (M70) KIABISOUKRA     Dimanche  \n",
       "...                      ...          ...  \n",
       "154661         (M74)AZURCITY        Mardi  \n",
       "154662         (M74)AZURCITY        Mardi  \n",
       "154663         (M74)AZURCITY        Mardi  \n",
       "154664         (M74)AZURCITY        Mardi  \n",
       "154665         (M74)AZURCITY        Mardi  \n",
       "\n",
       "[154666 rows x 7 columns]"
      ]
     },
     "execution_count": 191,
     "metadata": {},
     "output_type": "execute_result"
    }
   ],
   "source": [
    "détail_transaction"
   ]
  },
  {
   "cell_type": "markdown",
   "metadata": {},
   "source": [
    "# RFM"
   ]
  },
  {
   "cell_type": "code",
   "execution_count": 192,
   "metadata": {},
   "outputs": [
    {
     "data": {
      "text/plain": [
       "Index(['NumÃ©ro_ticket', 'DateAchat', 'QuantitÃ©', 'prix_unit', 'Total_TTC',\n",
       "       'Etablissement passage', 'Jour_Semaine'],\n",
       "      dtype='object')"
      ]
     },
     "execution_count": 192,
     "metadata": {},
     "output_type": "execute_result"
    }
   ],
   "source": [
    "\n",
    "\n",
    "détail_transaction.columns"
   ]
  },
  {
   "cell_type": "code",
   "execution_count": 193,
   "metadata": {},
   "outputs": [
    {
     "data": {
      "text/plain": [
       "Index(['Code_article', 'Collection', 'LibellÃ©_article', 'Groupe_article',\n",
       "       'catégorie_groupe', 'département article', 'DÃ©signation ligne'],\n",
       "      dtype='object')"
      ]
     },
     "execution_count": 193,
     "metadata": {},
     "output_type": "execute_result"
    }
   ],
   "source": [
    "article.columns"
   ]
  },
  {
   "cell_type": "code",
   "execution_count": 194,
   "metadata": {},
   "outputs": [
    {
     "data": {
      "text/plain": [
       "Index(['ID_client', 'Etablissement de creation carte', 'Ville', 'Genre',\n",
       "       'Jour', 'Mois', 'Année', 'Etablissement passage', 'DOB', 'Age',\n",
       "       'Catégorie d'âge'],\n",
       "      dtype='object')"
      ]
     },
     "execution_count": 194,
     "metadata": {},
     "output_type": "execute_result"
    }
   ],
   "source": [
    "client.columns"
   ]
  },
  {
   "cell_type": "code",
   "execution_count": 200,
   "metadata": {},
   "outputs": [
    {
     "data": {
      "text/html": [
       "<div>\n",
       "<style scoped>\n",
       "    .dataframe tbody tr th:only-of-type {\n",
       "        vertical-align: middle;\n",
       "    }\n",
       "\n",
       "    .dataframe tbody tr th {\n",
       "        vertical-align: top;\n",
       "    }\n",
       "\n",
       "    .dataframe thead th {\n",
       "        text-align: right;\n",
       "    }\n",
       "</style>\n",
       "<table border=\"1\" class=\"dataframe\">\n",
       "  <thead>\n",
       "    <tr style=\"text-align: right;\">\n",
       "      <th></th>\n",
       "      <th>NumÃ©ro_ticket</th>\n",
       "      <th>Client</th>\n",
       "      <th>DateAchat</th>\n",
       "      <th>Total_TTC</th>\n",
       "    </tr>\n",
       "  </thead>\n",
       "  <tbody>\n",
       "    <tr>\n",
       "      <th>0</th>\n",
       "      <td>70769212</td>\n",
       "      <td>M7300729</td>\n",
       "      <td>2020-11-01</td>\n",
       "      <td>22.0</td>\n",
       "    </tr>\n",
       "    <tr>\n",
       "      <th>1</th>\n",
       "      <td>70769212</td>\n",
       "      <td>M7300729</td>\n",
       "      <td>2020-11-01</td>\n",
       "      <td>12.0</td>\n",
       "    </tr>\n",
       "    <tr>\n",
       "      <th>2</th>\n",
       "      <td>70769212</td>\n",
       "      <td>M7300729</td>\n",
       "      <td>2020-11-01</td>\n",
       "      <td>9.0</td>\n",
       "    </tr>\n",
       "    <tr>\n",
       "      <th>3</th>\n",
       "      <td>70769212</td>\n",
       "      <td>M7300729</td>\n",
       "      <td>2020-11-01</td>\n",
       "      <td>22.0</td>\n",
       "    </tr>\n",
       "    <tr>\n",
       "      <th>4</th>\n",
       "      <td>70769212</td>\n",
       "      <td>M7300729</td>\n",
       "      <td>2020-11-01</td>\n",
       "      <td>22.0</td>\n",
       "    </tr>\n",
       "    <tr>\n",
       "      <th>...</th>\n",
       "      <td>...</td>\n",
       "      <td>...</td>\n",
       "      <td>...</td>\n",
       "      <td>...</td>\n",
       "    </tr>\n",
       "    <tr>\n",
       "      <th>154661</th>\n",
       "      <td>74066723</td>\n",
       "      <td>74019819</td>\n",
       "      <td>2020-12-15</td>\n",
       "      <td>55.0</td>\n",
       "    </tr>\n",
       "    <tr>\n",
       "      <th>154662</th>\n",
       "      <td>74066723</td>\n",
       "      <td>74019819</td>\n",
       "      <td>2020-12-15</td>\n",
       "      <td>55.0</td>\n",
       "    </tr>\n",
       "    <tr>\n",
       "      <th>154663</th>\n",
       "      <td>74066723</td>\n",
       "      <td>74019819</td>\n",
       "      <td>2020-12-15</td>\n",
       "      <td>55.0</td>\n",
       "    </tr>\n",
       "    <tr>\n",
       "      <th>154664</th>\n",
       "      <td>74066723</td>\n",
       "      <td>74019819</td>\n",
       "      <td>2020-12-15</td>\n",
       "      <td>95.0</td>\n",
       "    </tr>\n",
       "    <tr>\n",
       "      <th>154665</th>\n",
       "      <td>74066723</td>\n",
       "      <td>74019819</td>\n",
       "      <td>2020-12-15</td>\n",
       "      <td>95.0</td>\n",
       "    </tr>\n",
       "  </tbody>\n",
       "</table>\n",
       "<p>154666 rows × 4 columns</p>\n",
       "</div>"
      ],
      "text/plain": [
       "        NumÃ©ro_ticket    Client   DateAchat  Total_TTC\n",
       "0             70769212  M7300729  2020-11-01       22.0\n",
       "1             70769212  M7300729  2020-11-01       12.0\n",
       "2             70769212  M7300729  2020-11-01        9.0\n",
       "3             70769212  M7300729  2020-11-01       22.0\n",
       "4             70769212  M7300729  2020-11-01       22.0\n",
       "...                ...       ...         ...        ...\n",
       "154661        74066723  74019819  2020-12-15       55.0\n",
       "154662        74066723  74019819  2020-12-15       55.0\n",
       "154663        74066723  74019819  2020-12-15       55.0\n",
       "154664        74066723  74019819  2020-12-15       95.0\n",
       "154665        74066723  74019819  2020-12-15       95.0\n",
       "\n",
       "[154666 rows x 4 columns]"
      ]
     },
     "execution_count": 200,
     "metadata": {},
     "output_type": "execute_result"
    }
   ],
   "source": [
    "data=pd.concat([transaction['NumÃ©ro_ticket'],transaction['Client'],transaction['DateAchat'],transaction['Total_TTC']],axis=1)\n",
    "data"
   ]
  },
  {
   "cell_type": "code",
   "execution_count": 203,
   "metadata": {},
   "outputs": [],
   "source": [
    "from datetime import timedelta\n",
    "data['DateAchat'] = pd.to_datetime(data['DateAchat'])\n",
    "recency_date=data['DateAchat'].max() + timedelta(days=1)"
   ]
  },
  {
   "cell_type": "code",
   "execution_count": 206,
   "metadata": {},
   "outputs": [
    {
     "data": {
      "text/html": [
       "<div>\n",
       "<style scoped>\n",
       "    .dataframe tbody tr th:only-of-type {\n",
       "        vertical-align: middle;\n",
       "    }\n",
       "\n",
       "    .dataframe tbody tr th {\n",
       "        vertical-align: top;\n",
       "    }\n",
       "\n",
       "    .dataframe thead th {\n",
       "        text-align: right;\n",
       "    }\n",
       "</style>\n",
       "<table border=\"1\" class=\"dataframe\">\n",
       "  <thead>\n",
       "    <tr style=\"text-align: right;\">\n",
       "      <th></th>\n",
       "      <th>DateAchat</th>\n",
       "    </tr>\n",
       "    <tr>\n",
       "      <th>Client</th>\n",
       "      <th></th>\n",
       "    </tr>\n",
       "  </thead>\n",
       "  <tbody>\n",
       "    <tr>\n",
       "      <th>10009606</th>\n",
       "      <td>19</td>\n",
       "    </tr>\n",
       "    <tr>\n",
       "      <th>10014178</th>\n",
       "      <td>8</td>\n",
       "    </tr>\n",
       "    <tr>\n",
       "      <th>10020905</th>\n",
       "      <td>13</td>\n",
       "    </tr>\n",
       "    <tr>\n",
       "      <th>10808222</th>\n",
       "      <td>7</td>\n",
       "    </tr>\n",
       "    <tr>\n",
       "      <th>11114832</th>\n",
       "      <td>2</td>\n",
       "    </tr>\n",
       "  </tbody>\n",
       "</table>\n",
       "</div>"
      ],
      "text/plain": [
       "          DateAchat\n",
       "Client             \n",
       "10009606         19\n",
       "10014178          8\n",
       "10020905         13\n",
       "10808222          7\n",
       "11114832          2"
      ]
     },
     "execution_count": 206,
     "metadata": {},
     "output_type": "execute_result"
    }
   ],
   "source": [
    "recency=data.groupby('Client').agg({\"DateAchat\":lambda x:(recency_date - x.max()).days})\n",
    "recency.head()"
   ]
  },
  {
   "cell_type": "code",
   "execution_count": 207,
   "metadata": {},
   "outputs": [
    {
     "data": {
      "text/html": [
       "<div>\n",
       "<style scoped>\n",
       "    .dataframe tbody tr th:only-of-type {\n",
       "        vertical-align: middle;\n",
       "    }\n",
       "\n",
       "    .dataframe tbody tr th {\n",
       "        vertical-align: top;\n",
       "    }\n",
       "\n",
       "    .dataframe thead th {\n",
       "        text-align: right;\n",
       "    }\n",
       "</style>\n",
       "<table border=\"1\" class=\"dataframe\">\n",
       "  <thead>\n",
       "    <tr style=\"text-align: right;\">\n",
       "      <th></th>\n",
       "      <th>Client</th>\n",
       "      <th>Frequency</th>\n",
       "    </tr>\n",
       "  </thead>\n",
       "  <tbody>\n",
       "    <tr>\n",
       "      <th>0</th>\n",
       "      <td>10009606</td>\n",
       "      <td>4</td>\n",
       "    </tr>\n",
       "    <tr>\n",
       "      <th>1</th>\n",
       "      <td>10014178</td>\n",
       "      <td>4</td>\n",
       "    </tr>\n",
       "    <tr>\n",
       "      <th>2</th>\n",
       "      <td>10020905</td>\n",
       "      <td>10</td>\n",
       "    </tr>\n",
       "    <tr>\n",
       "      <th>3</th>\n",
       "      <td>10808222</td>\n",
       "      <td>16</td>\n",
       "    </tr>\n",
       "    <tr>\n",
       "      <th>4</th>\n",
       "      <td>11114832</td>\n",
       "      <td>13</td>\n",
       "    </tr>\n",
       "  </tbody>\n",
       "</table>\n",
       "</div>"
      ],
      "text/plain": [
       "     Client  Frequency\n",
       "0  10009606          4\n",
       "1  10014178          4\n",
       "2  10020905         10\n",
       "3  10808222         16\n",
       "4  11114832         13"
      ]
     },
     "execution_count": 207,
     "metadata": {},
     "output_type": "execute_result"
    }
   ],
   "source": [
    "frequency=data.groupby('Client')['DateAchat'].count().reset_index()\n",
    "frequency.columns = ['Client','Frequency']\n",
    "frequency.head()"
   ]
  },
  {
   "cell_type": "code",
   "execution_count": 208,
   "metadata": {},
   "outputs": [
    {
     "data": {
      "text/html": [
       "<div>\n",
       "<style scoped>\n",
       "    .dataframe tbody tr th:only-of-type {\n",
       "        vertical-align: middle;\n",
       "    }\n",
       "\n",
       "    .dataframe tbody tr th {\n",
       "        vertical-align: top;\n",
       "    }\n",
       "\n",
       "    .dataframe thead th {\n",
       "        text-align: right;\n",
       "    }\n",
       "</style>\n",
       "<table border=\"1\" class=\"dataframe\">\n",
       "  <thead>\n",
       "    <tr style=\"text-align: right;\">\n",
       "      <th></th>\n",
       "      <th>Total_TTC</th>\n",
       "    </tr>\n",
       "    <tr>\n",
       "      <th>Client</th>\n",
       "      <th></th>\n",
       "    </tr>\n",
       "  </thead>\n",
       "  <tbody>\n",
       "    <tr>\n",
       "      <th>10009606</th>\n",
       "      <td>97.4</td>\n",
       "    </tr>\n",
       "    <tr>\n",
       "      <th>10014178</th>\n",
       "      <td>79.7</td>\n",
       "    </tr>\n",
       "    <tr>\n",
       "      <th>10020905</th>\n",
       "      <td>151.2</td>\n",
       "    </tr>\n",
       "    <tr>\n",
       "      <th>10808222</th>\n",
       "      <td>402.8</td>\n",
       "    </tr>\n",
       "    <tr>\n",
       "      <th>11114832</th>\n",
       "      <td>209.1</td>\n",
       "    </tr>\n",
       "  </tbody>\n",
       "</table>\n",
       "</div>"
      ],
      "text/plain": [
       "          Total_TTC\n",
       "Client             \n",
       "10009606       97.4\n",
       "10014178       79.7\n",
       "10020905      151.2\n",
       "10808222      402.8\n",
       "11114832      209.1"
      ]
     },
     "execution_count": 208,
     "metadata": {},
     "output_type": "execute_result"
    }
   ],
   "source": [
    "monetary = data.groupby('Client').agg({\"Total_TTC\":\"sum\"})\n",
    "monetary.head()"
   ]
  },
  {
   "cell_type": "code",
   "execution_count": 211,
   "metadata": {},
   "outputs": [
    {
     "data": {
      "text/html": [
       "<div>\n",
       "<style scoped>\n",
       "    .dataframe tbody tr th:only-of-type {\n",
       "        vertical-align: middle;\n",
       "    }\n",
       "\n",
       "    .dataframe tbody tr th {\n",
       "        vertical-align: top;\n",
       "    }\n",
       "\n",
       "    .dataframe thead th {\n",
       "        text-align: right;\n",
       "    }\n",
       "</style>\n",
       "<table border=\"1\" class=\"dataframe\">\n",
       "  <thead>\n",
       "    <tr style=\"text-align: right;\">\n",
       "      <th></th>\n",
       "      <th>Client</th>\n",
       "      <th>Recency</th>\n",
       "      <th>Frequency</th>\n",
       "      <th>Monetary</th>\n",
       "    </tr>\n",
       "  </thead>\n",
       "  <tbody>\n",
       "    <tr>\n",
       "      <th>0</th>\n",
       "      <td>10009606</td>\n",
       "      <td>19</td>\n",
       "      <td>4</td>\n",
       "      <td>97.4</td>\n",
       "    </tr>\n",
       "    <tr>\n",
       "      <th>1</th>\n",
       "      <td>10014178</td>\n",
       "      <td>8</td>\n",
       "      <td>4</td>\n",
       "      <td>79.7</td>\n",
       "    </tr>\n",
       "    <tr>\n",
       "      <th>2</th>\n",
       "      <td>10020905</td>\n",
       "      <td>13</td>\n",
       "      <td>10</td>\n",
       "      <td>151.2</td>\n",
       "    </tr>\n",
       "    <tr>\n",
       "      <th>3</th>\n",
       "      <td>10808222</td>\n",
       "      <td>7</td>\n",
       "      <td>16</td>\n",
       "      <td>402.8</td>\n",
       "    </tr>\n",
       "    <tr>\n",
       "      <th>4</th>\n",
       "      <td>11114832</td>\n",
       "      <td>2</td>\n",
       "      <td>13</td>\n",
       "      <td>209.1</td>\n",
       "    </tr>\n",
       "  </tbody>\n",
       "</table>\n",
       "</div>"
      ],
      "text/plain": [
       "     Client  Recency  Frequency  Monetary\n",
       "0  10009606       19          4      97.4\n",
       "1  10014178        8          4      79.7\n",
       "2  10020905       13         10     151.2\n",
       "3  10808222        7         16     402.8\n",
       "4  11114832        2         13     209.1"
      ]
     },
     "execution_count": 211,
     "metadata": {},
     "output_type": "execute_result"
    }
   ],
   "source": [
    "RFM = recency.copy()\n",
    "RFM = RFM.merge(frequency, on='Client')\n",
    "RFM = RFM.merge(monetary, on='Client')\n",
    "RFM.rename(columns={\"DateAchat\":\"Recency\",\"Total_TTC\":\"Monetary\"}, inplace = True)\n",
    "RFM.head()"
   ]
  },
  {
   "cell_type": "code",
   "execution_count": 212,
   "metadata": {},
   "outputs": [
    {
     "data": {
      "text/html": [
       "<div>\n",
       "<style scoped>\n",
       "    .dataframe tbody tr th:only-of-type {\n",
       "        vertical-align: middle;\n",
       "    }\n",
       "\n",
       "    .dataframe tbody tr th {\n",
       "        vertical-align: top;\n",
       "    }\n",
       "\n",
       "    .dataframe thead th {\n",
       "        text-align: right;\n",
       "    }\n",
       "</style>\n",
       "<table border=\"1\" class=\"dataframe\">\n",
       "  <thead>\n",
       "    <tr style=\"text-align: right;\">\n",
       "      <th></th>\n",
       "      <th>Recency</th>\n",
       "      <th>Frequency</th>\n",
       "      <th>Monetary</th>\n",
       "    </tr>\n",
       "  </thead>\n",
       "  <tbody>\n",
       "    <tr>\n",
       "      <th>count</th>\n",
       "      <td>36391.000000</td>\n",
       "      <td>36391.000000</td>\n",
       "      <td>36391.000000</td>\n",
       "    </tr>\n",
       "    <tr>\n",
       "      <th>mean</th>\n",
       "      <td>20.229068</td>\n",
       "      <td>4.250117</td>\n",
       "      <td>166.339785</td>\n",
       "    </tr>\n",
       "    <tr>\n",
       "      <th>std</th>\n",
       "      <td>11.893154</td>\n",
       "      <td>4.977800</td>\n",
       "      <td>182.439060</td>\n",
       "    </tr>\n",
       "    <tr>\n",
       "      <th>min</th>\n",
       "      <td>1.000000</td>\n",
       "      <td>1.000000</td>\n",
       "      <td>4.000000</td>\n",
       "    </tr>\n",
       "    <tr>\n",
       "      <th>25%</th>\n",
       "      <td>11.000000</td>\n",
       "      <td>1.000000</td>\n",
       "      <td>59.000000</td>\n",
       "    </tr>\n",
       "    <tr>\n",
       "      <th>50%</th>\n",
       "      <td>18.000000</td>\n",
       "      <td>3.000000</td>\n",
       "      <td>111.000000</td>\n",
       "    </tr>\n",
       "    <tr>\n",
       "      <th>75%</th>\n",
       "      <td>29.000000</td>\n",
       "      <td>5.000000</td>\n",
       "      <td>207.000000</td>\n",
       "    </tr>\n",
       "    <tr>\n",
       "      <th>max</th>\n",
       "      <td>45.000000</td>\n",
       "      <td>110.000000</td>\n",
       "      <td>4236.200000</td>\n",
       "    </tr>\n",
       "  </tbody>\n",
       "</table>\n",
       "</div>"
      ],
      "text/plain": [
       "            Recency     Frequency      Monetary\n",
       "count  36391.000000  36391.000000  36391.000000\n",
       "mean      20.229068      4.250117    166.339785\n",
       "std       11.893154      4.977800    182.439060\n",
       "min        1.000000      1.000000      4.000000\n",
       "25%       11.000000      1.000000     59.000000\n",
       "50%       18.000000      3.000000    111.000000\n",
       "75%       29.000000      5.000000    207.000000\n",
       "max       45.000000    110.000000   4236.200000"
      ]
     },
     "execution_count": 212,
     "metadata": {},
     "output_type": "execute_result"
    }
   ],
   "source": [
    "RFM.describe()"
   ]
  },
  {
   "cell_type": "code",
   "execution_count": 223,
   "metadata": {},
   "outputs": [
    {
     "data": {
      "text/plain": [
       "<matplotlib.axes._subplots.AxesSubplot at 0x295e9d92100>"
      ]
     },
     "execution_count": 223,
     "metadata": {},
     "output_type": "execute_result"
    },
    {
     "data": {
      "image/png": "[encoded data removed]",
      "text/plain": [
       "<Figure size 1080x216 with 1 Axes>"
      ]
     },
     "metadata": {
      "needs_background": "light"
     },
     "output_type": "display_data"
    },
    {
     "data": {
      "image/png": "[encoded data removed]",
      "text/plain": [
       "<Figure size 1080x216 with 1 Axes>"
      ]
     },
     "metadata": {
      "needs_background": "light"
     },
     "output_type": "display_data"
    },
    {
     "data": {
      "image/png": "[encoded data removed]",
      "text/plain": [
       "<Figure size 1080x216 with 1 Axes>"
      ]
     },
     "metadata": {
      "needs_background": "light"
     },
     "output_type": "display_data"
    }
   ],
   "source": [
    "import seaborn as sns\n",
    "plt.figure(figsize=(15, 3))\n",
    "sns.distplot(RFM['Recency'],label='Recency')\n",
    "plt.figure(figsize=(15, 3))\n",
    "sns.distplot(RFM['Frequency'],label='Frequency')\n",
    "plt.figure(figsize=(15, 3))\n",
    "sns.distplot(RFM['Monetary'],label='Monetary')"
   ]
  },
  {
   "cell_type": "code",
   "execution_count": 226,
   "metadata": {},
   "outputs": [
    {
     "data": {
      "text/plain": [
       "{'Recency': {0.25: 11.0, 0.5: 18.0, 0.75: 29.0},\n",
       " 'Frequency': {0.25: 1.0, 0.5: 3.0, 0.75: 5.0},\n",
       " 'Monetary': {0.25: 59.0, 0.5: 111.0, 0.75: 207.0}}"
      ]
     },
     "execution_count": 226,
     "metadata": {},
     "output_type": "execute_result"
    }
   ],
   "source": [
    "quantiles = RFM[['Recency','Frequency','Monetary']].quantile([.25, .5, .75]).to_dict()\n",
    "quantiles"
   ]
  },
  {
   "cell_type": "code",
   "execution_count": 230,
   "metadata": {},
   "outputs": [],
   "source": [
    "def r_score(x):\n",
    "    if x <= quantiles['Recency'][.25]:\n",
    "        return 4\n",
    "    elif x <= quantiles['Recency'][.5]:\n",
    "        return 3\n",
    "    elif x <= quantiles['Recency'][.75]:\n",
    "        return 2\n",
    "    else :\n",
    "        return 1\n",
    "    \n",
    "def fm_score(x,c):\n",
    "    if x <= quantiles[c][.25]:\n",
    "        return 4\n",
    "    elif x <= quantiles[c][.5]:\n",
    "        return 3\n",
    "    elif x <= quantiles[c][.75]:\n",
    "        return 2\n",
    "    else :\n",
    "        return 1"
   ]
  },
  {
   "cell_type": "code",
   "execution_count": 231,
   "metadata": {},
   "outputs": [
    {
     "data": {
      "text/html": [
       "<div>\n",
       "<style scoped>\n",
       "    .dataframe tbody tr th:only-of-type {\n",
       "        vertical-align: middle;\n",
       "    }\n",
       "\n",
       "    .dataframe tbody tr th {\n",
       "        vertical-align: top;\n",
       "    }\n",
       "\n",
       "    .dataframe thead th {\n",
       "        text-align: right;\n",
       "    }\n",
       "</style>\n",
       "<table border=\"1\" class=\"dataframe\">\n",
       "  <thead>\n",
       "    <tr style=\"text-align: right;\">\n",
       "      <th></th>\n",
       "      <th>Client</th>\n",
       "      <th>Recency</th>\n",
       "      <th>Frequency</th>\n",
       "      <th>Monetary</th>\n",
       "      <th>R</th>\n",
       "      <th>F</th>\n",
       "      <th>M</th>\n",
       "    </tr>\n",
       "  </thead>\n",
       "  <tbody>\n",
       "    <tr>\n",
       "      <th>0</th>\n",
       "      <td>10009606</td>\n",
       "      <td>19</td>\n",
       "      <td>4</td>\n",
       "      <td>97.4</td>\n",
       "      <td>2</td>\n",
       "      <td>2</td>\n",
       "      <td>3</td>\n",
       "    </tr>\n",
       "    <tr>\n",
       "      <th>1</th>\n",
       "      <td>10014178</td>\n",
       "      <td>8</td>\n",
       "      <td>4</td>\n",
       "      <td>79.7</td>\n",
       "      <td>4</td>\n",
       "      <td>2</td>\n",
       "      <td>3</td>\n",
       "    </tr>\n",
       "    <tr>\n",
       "      <th>2</th>\n",
       "      <td>10020905</td>\n",
       "      <td>13</td>\n",
       "      <td>10</td>\n",
       "      <td>151.2</td>\n",
       "      <td>3</td>\n",
       "      <td>1</td>\n",
       "      <td>2</td>\n",
       "    </tr>\n",
       "    <tr>\n",
       "      <th>3</th>\n",
       "      <td>10808222</td>\n",
       "      <td>7</td>\n",
       "      <td>16</td>\n",
       "      <td>402.8</td>\n",
       "      <td>4</td>\n",
       "      <td>1</td>\n",
       "      <td>1</td>\n",
       "    </tr>\n",
       "    <tr>\n",
       "      <th>4</th>\n",
       "      <td>11114832</td>\n",
       "      <td>2</td>\n",
       "      <td>13</td>\n",
       "      <td>209.1</td>\n",
       "      <td>4</td>\n",
       "      <td>1</td>\n",
       "      <td>1</td>\n",
       "    </tr>\n",
       "  </tbody>\n",
       "</table>\n",
       "</div>"
      ],
      "text/plain": [
       "     Client  Recency  Frequency  Monetary  R  F  M\n",
       "0  10009606       19          4      97.4  2  2  3\n",
       "1  10014178        8          4      79.7  4  2  3\n",
       "2  10020905       13         10     151.2  3  1  2\n",
       "3  10808222        7         16     402.8  4  1  1\n",
       "4  11114832        2         13     209.1  4  1  1"
      ]
     },
     "execution_count": 231,
     "metadata": {},
     "output_type": "execute_result"
    }
   ],
   "source": [
    "RFM['R'] = RFM['Recency'].apply(lambda x: r_score(x))\n",
    "RFM['F'] = RFM['Frequency'].apply(lambda x: fm_score(x,'Frequency'))\n",
    "RFM['M'] = RFM['Monetary'].apply(lambda x: fm_score(x,'Monetary'))\n",
    "RFM.head()"
   ]
  },
  {
   "cell_type": "code",
   "execution_count": 232,
   "metadata": {},
   "outputs": [
    {
     "data": {
      "text/html": [
       "<div>\n",
       "<style scoped>\n",
       "    .dataframe tbody tr th:only-of-type {\n",
       "        vertical-align: middle;\n",
       "    }\n",
       "\n",
       "    .dataframe tbody tr th {\n",
       "        vertical-align: top;\n",
       "    }\n",
       "\n",
       "    .dataframe thead th {\n",
       "        text-align: right;\n",
       "    }\n",
       "</style>\n",
       "<table border=\"1\" class=\"dataframe\">\n",
       "  <thead>\n",
       "    <tr style=\"text-align: right;\">\n",
       "      <th></th>\n",
       "      <th>Client</th>\n",
       "      <th>Recency</th>\n",
       "      <th>Frequency</th>\n",
       "      <th>Monetary</th>\n",
       "      <th>R</th>\n",
       "      <th>F</th>\n",
       "      <th>M</th>\n",
       "      <th>RFM Score</th>\n",
       "    </tr>\n",
       "  </thead>\n",
       "  <tbody>\n",
       "    <tr>\n",
       "      <th>0</th>\n",
       "      <td>10009606</td>\n",
       "      <td>19</td>\n",
       "      <td>4</td>\n",
       "      <td>97.4</td>\n",
       "      <td>2</td>\n",
       "      <td>2</td>\n",
       "      <td>3</td>\n",
       "      <td>7</td>\n",
       "    </tr>\n",
       "    <tr>\n",
       "      <th>1</th>\n",
       "      <td>10014178</td>\n",
       "      <td>8</td>\n",
       "      <td>4</td>\n",
       "      <td>79.7</td>\n",
       "      <td>4</td>\n",
       "      <td>2</td>\n",
       "      <td>3</td>\n",
       "      <td>9</td>\n",
       "    </tr>\n",
       "    <tr>\n",
       "      <th>2</th>\n",
       "      <td>10020905</td>\n",
       "      <td>13</td>\n",
       "      <td>10</td>\n",
       "      <td>151.2</td>\n",
       "      <td>3</td>\n",
       "      <td>1</td>\n",
       "      <td>2</td>\n",
       "      <td>6</td>\n",
       "    </tr>\n",
       "    <tr>\n",
       "      <th>3</th>\n",
       "      <td>10808222</td>\n",
       "      <td>7</td>\n",
       "      <td>16</td>\n",
       "      <td>402.8</td>\n",
       "      <td>4</td>\n",
       "      <td>1</td>\n",
       "      <td>1</td>\n",
       "      <td>6</td>\n",
       "    </tr>\n",
       "    <tr>\n",
       "      <th>4</th>\n",
       "      <td>11114832</td>\n",
       "      <td>2</td>\n",
       "      <td>13</td>\n",
       "      <td>209.1</td>\n",
       "      <td>4</td>\n",
       "      <td>1</td>\n",
       "      <td>1</td>\n",
       "      <td>6</td>\n",
       "    </tr>\n",
       "  </tbody>\n",
       "</table>\n",
       "</div>"
      ],
      "text/plain": [
       "     Client  Recency  Frequency  Monetary  R  F  M  RFM Score\n",
       "0  10009606       19          4      97.4  2  2  3          7\n",
       "1  10014178        8          4      79.7  4  2  3          9\n",
       "2  10020905       13         10     151.2  3  1  2          6\n",
       "3  10808222        7         16     402.8  4  1  1          6\n",
       "4  11114832        2         13     209.1  4  1  1          6"
      ]
     },
     "execution_count": 232,
     "metadata": {},
     "output_type": "execute_result"
    }
   ],
   "source": [
    "RFM['RFM Score'] = RFM['R'] + RFM['F'] + RFM['M']\n",
    "RFM.head()"
   ]
  },
  {
   "cell_type": "code",
   "execution_count": 235,
   "metadata": {},
   "outputs": [
    {
     "data": {
      "text/html": [
       "<div>\n",
       "<style scoped>\n",
       "    .dataframe tbody tr th:only-of-type {\n",
       "        vertical-align: middle;\n",
       "    }\n",
       "\n",
       "    .dataframe tbody tr th {\n",
       "        vertical-align: top;\n",
       "    }\n",
       "\n",
       "    .dataframe thead th {\n",
       "        text-align: right;\n",
       "    }\n",
       "</style>\n",
       "<table border=\"1\" class=\"dataframe\">\n",
       "  <thead>\n",
       "    <tr style=\"text-align: right;\">\n",
       "      <th></th>\n",
       "      <th>Client</th>\n",
       "      <th>Recency</th>\n",
       "      <th>Frequency</th>\n",
       "      <th>Monetary</th>\n",
       "      <th>R</th>\n",
       "      <th>F</th>\n",
       "      <th>M</th>\n",
       "      <th>RFM Score</th>\n",
       "      <th>Segment</th>\n",
       "    </tr>\n",
       "  </thead>\n",
       "  <tbody>\n",
       "    <tr>\n",
       "      <th>0</th>\n",
       "      <td>10009606</td>\n",
       "      <td>19</td>\n",
       "      <td>4</td>\n",
       "      <td>97.4</td>\n",
       "      <td>2</td>\n",
       "      <td>2</td>\n",
       "      <td>3</td>\n",
       "      <td>7</td>\n",
       "      <td>Hibernating</td>\n",
       "    </tr>\n",
       "    <tr>\n",
       "      <th>1</th>\n",
       "      <td>10014178</td>\n",
       "      <td>8</td>\n",
       "      <td>4</td>\n",
       "      <td>79.7</td>\n",
       "      <td>4</td>\n",
       "      <td>2</td>\n",
       "      <td>3</td>\n",
       "      <td>9</td>\n",
       "      <td>Potential loyalists</td>\n",
       "    </tr>\n",
       "    <tr>\n",
       "      <th>2</th>\n",
       "      <td>10020905</td>\n",
       "      <td>13</td>\n",
       "      <td>10</td>\n",
       "      <td>151.2</td>\n",
       "      <td>3</td>\n",
       "      <td>1</td>\n",
       "      <td>2</td>\n",
       "      <td>6</td>\n",
       "      <td>Promising</td>\n",
       "    </tr>\n",
       "    <tr>\n",
       "      <th>3</th>\n",
       "      <td>10808222</td>\n",
       "      <td>7</td>\n",
       "      <td>16</td>\n",
       "      <td>402.8</td>\n",
       "      <td>4</td>\n",
       "      <td>1</td>\n",
       "      <td>1</td>\n",
       "      <td>6</td>\n",
       "      <td>New customers</td>\n",
       "    </tr>\n",
       "    <tr>\n",
       "      <th>4</th>\n",
       "      <td>11114832</td>\n",
       "      <td>2</td>\n",
       "      <td>13</td>\n",
       "      <td>209.1</td>\n",
       "      <td>4</td>\n",
       "      <td>1</td>\n",
       "      <td>1</td>\n",
       "      <td>6</td>\n",
       "      <td>New customers</td>\n",
       "    </tr>\n",
       "  </tbody>\n",
       "</table>\n",
       "</div>"
      ],
      "text/plain": [
       "     Client  Recency  Frequency  Monetary  R  F  M  RFM Score  \\\n",
       "0  10009606       19          4      97.4  2  2  3          7   \n",
       "1  10014178        8          4      79.7  4  2  3          9   \n",
       "2  10020905       13         10     151.2  3  1  2          6   \n",
       "3  10808222        7         16     402.8  4  1  1          6   \n",
       "4  11114832        2         13     209.1  4  1  1          6   \n",
       "\n",
       "               Segment  \n",
       "0          Hibernating  \n",
       "1  Potential loyalists  \n",
       "2            Promising  \n",
       "3        New customers  \n",
       "4        New customers  "
      ]
     },
     "execution_count": 235,
     "metadata": {},
     "output_type": "execute_result"
    }
   ],
   "source": [
    "segt_map = {\n",
    "    r'[1-2][1-2]' : 'Hibernating',\n",
    "    r'[1-2][2-3]' : 'At risk',\n",
    "    r'[1-2]4' : \"Can\\'t loose them\",\n",
    "    r'2[1-2]' : 'About to sleep',\n",
    "    r'22' : 'Need Attention',\n",
    "    r'[2-3][3-4]' : 'Loyal customers',\n",
    "    r'31' : 'Promising',\n",
    "    r'41' : 'New customers',\n",
    "    r'[3-4][1-2]' : 'Potential loyalists',\n",
    "    r'4[3-4]': 'Champions'\n",
    "}\n",
    "RFM['Segment'] = RFM['R'].map(str) + RFM['F'].map(str)\n",
    "RFM['Segment'] = RFM['Segment'].replace(segt_map, regex=True)\n",
    "RFM.head()"
   ]
  },
  {
   "cell_type": "code",
   "execution_count": 236,
   "metadata": {},
   "outputs": [
    {
     "data": {
      "text/plain": [
       "array(['Hibernating', 'Potential loyalists', 'Promising', 'New customers',\n",
       "       'Champions', 'Loyal customers', 'At risk', \"Can't loose them\"],\n",
       "      dtype=object)"
      ]
     },
     "execution_count": 236,
     "metadata": {},
     "output_type": "execute_result"
    }
   ],
   "source": [
    "RFM['Segment'].unique()"
   ]
  },
  {
   "cell_type": "code",
   "execution_count": 241,
   "metadata": {},
   "outputs": [
    {
     "name": "stderr",
     "output_type": "stream",
     "text": [
      "<ipython-input-241-10c863c121d8>:1: FutureWarning: Indexing with multiple keys (implicitly converted to a tuple of keys) will be deprecated, use a list instead.\n",
      "  RFM.groupby('Segment')['Recency','Frequency','Monetary'].mean()\n"
     ]
    },
    {
     "data": {
      "text/html": [
       "<div>\n",
       "<style scoped>\n",
       "    .dataframe tbody tr th:only-of-type {\n",
       "        vertical-align: middle;\n",
       "    }\n",
       "\n",
       "    .dataframe tbody tr th {\n",
       "        vertical-align: top;\n",
       "    }\n",
       "\n",
       "    .dataframe thead th {\n",
       "        text-align: right;\n",
       "    }\n",
       "</style>\n",
       "<table border=\"1\" class=\"dataframe\">\n",
       "  <thead>\n",
       "    <tr style=\"text-align: right;\">\n",
       "      <th></th>\n",
       "      <th>Recency</th>\n",
       "      <th>Frequency</th>\n",
       "      <th>Monetary</th>\n",
       "    </tr>\n",
       "    <tr>\n",
       "      <th>Segment</th>\n",
       "      <th></th>\n",
       "      <th></th>\n",
       "      <th></th>\n",
       "    </tr>\n",
       "  </thead>\n",
       "  <tbody>\n",
       "    <tr>\n",
       "      <th>At risk</th>\n",
       "      <td>30.688791</td>\n",
       "      <td>2.387086</td>\n",
       "      <td>101.440331</td>\n",
       "    </tr>\n",
       "    <tr>\n",
       "      <th>Can't loose them</th>\n",
       "      <td>30.616753</td>\n",
       "      <td>1.000000</td>\n",
       "      <td>56.643010</td>\n",
       "    </tr>\n",
       "    <tr>\n",
       "      <th>Champions</th>\n",
       "      <td>7.027988</td>\n",
       "      <td>1.782280</td>\n",
       "      <td>87.044231</td>\n",
       "    </tr>\n",
       "    <tr>\n",
       "      <th>Hibernating</th>\n",
       "      <td>29.606497</td>\n",
       "      <td>7.658505</td>\n",
       "      <td>267.689016</td>\n",
       "    </tr>\n",
       "    <tr>\n",
       "      <th>Loyal customers</th>\n",
       "      <td>15.839976</td>\n",
       "      <td>1.737569</td>\n",
       "      <td>91.148648</td>\n",
       "    </tr>\n",
       "    <tr>\n",
       "      <th>New customers</th>\n",
       "      <td>6.814665</td>\n",
       "      <td>11.441641</td>\n",
       "      <td>409.867645</td>\n",
       "    </tr>\n",
       "    <tr>\n",
       "      <th>Potential loyalists</th>\n",
       "      <td>10.659098</td>\n",
       "      <td>4.420701</td>\n",
       "      <td>181.172437</td>\n",
       "    </tr>\n",
       "    <tr>\n",
       "      <th>Promising</th>\n",
       "      <td>15.579190</td>\n",
       "      <td>10.543824</td>\n",
       "      <td>376.869472</td>\n",
       "    </tr>\n",
       "  </tbody>\n",
       "</table>\n",
       "</div>"
      ],
      "text/plain": [
       "                       Recency  Frequency    Monetary\n",
       "Segment                                              \n",
       "At risk              30.688791   2.387086  101.440331\n",
       "Can't loose them     30.616753   1.000000   56.643010\n",
       "Champions             7.027988   1.782280   87.044231\n",
       "Hibernating          29.606497   7.658505  267.689016\n",
       "Loyal customers      15.839976   1.737569   91.148648\n",
       "New customers         6.814665  11.441641  409.867645\n",
       "Potential loyalists  10.659098   4.420701  181.172437\n",
       "Promising            15.579190  10.543824  376.869472"
      ]
     },
     "execution_count": 241,
     "metadata": {},
     "output_type": "execute_result"
    }
   ],
   "source": [
    "RFM.groupby('Segment')['Recency','Frequency','Monetary'].mean()"
   ]
  },
  {
   "cell_type": "code",
   "execution_count": 244,
   "metadata": {},
   "outputs": [
    {
     "name": "stdout",
     "output_type": "stream",
     "text": [
      "Collecting squarify\n",
      "  Downloading squarify-0.4.3-py3-none-any.whl (4.3 kB)\n",
      "Installing collected packages: squarify\n",
      "Successfully installed squarify-0.4.3\n",
      "Note: you may need to restart the kernel to use updated packages.\n"
     ]
    }
   ],
   "source": [
    "pip install squarify"
   ]
  },
  {
   "cell_type": "code",
   "execution_count": 255,
   "metadata": {},
   "outputs": [
    {
     "data": {
      "text/plain": [
       "<matplotlib.axes._subplots.AxesSubplot at 0x295875c3940>"
      ]
     },
     "execution_count": 255,
     "metadata": {},
     "output_type": "execute_result"
    },
    {
     "data": {
      "image/png": "[encoded data removed]",
      "text/plain": [
       "<Figure size 576x576 with 1 Axes>"
      ]
     },
     "metadata": {
      "needs_background": "light"
     },
     "output_type": "display_data"
    }
   ],
   "source": [
    "import squarify\n",
    "modalite_counts = RFM['Segment'].value_counts()\n",
    "\n",
    "# Calculez les pourcentages pour chaque modalité\n",
    "total_observations = len(RFM)\n",
    "pourcentages = (modalite_counts / total_observations) * 100\n",
    "\n",
    "# Trier les modalités par ordre décroissant des pourcentages (facultatif)\n",
    "pourcentages = pourcentages.sort_values(ascending=False)\n",
    "\n",
    "# Créez le treemap\n",
    "plt.figure(figsize=(8, 8))\n",
    "colors = ['red', 'green', 'blue', 'orange', 'purple', 'yellow', 'cyan', 'magenta']\n",
    "squarify.plot(sizes=pourcentages, label=pourcentages.index, color=colors, alpha=0.7)"
   ]
  },
  {
   "cell_type": "code",
   "execution_count": 253,
   "metadata": {},
   "outputs": [
    {
     "data": {
      "text/html": [
       "<div>\n",
       "<style scoped>\n",
       "    .dataframe tbody tr th:only-of-type {\n",
       "        vertical-align: middle;\n",
       "    }\n",
       "\n",
       "    .dataframe tbody tr th {\n",
       "        vertical-align: top;\n",
       "    }\n",
       "\n",
       "    .dataframe thead th {\n",
       "        text-align: right;\n",
       "    }\n",
       "</style>\n",
       "<table border=\"1\" class=\"dataframe\">\n",
       "  <thead>\n",
       "    <tr style=\"text-align: right;\">\n",
       "      <th></th>\n",
       "      <th>Client</th>\n",
       "      <th>Recency</th>\n",
       "      <th>Frequency</th>\n",
       "      <th>Monetary</th>\n",
       "      <th>R</th>\n",
       "      <th>F</th>\n",
       "      <th>M</th>\n",
       "      <th>RFM Score</th>\n",
       "      <th>Segment</th>\n",
       "      <th>Pourcentage</th>\n",
       "    </tr>\n",
       "  </thead>\n",
       "  <tbody>\n",
       "    <tr>\n",
       "      <th>0</th>\n",
       "      <td>10009606</td>\n",
       "      <td>19</td>\n",
       "      <td>4</td>\n",
       "      <td>97.4</td>\n",
       "      <td>2</td>\n",
       "      <td>2</td>\n",
       "      <td>3</td>\n",
       "      <td>7</td>\n",
       "      <td>Hibernating</td>\n",
       "      <td>100.0</td>\n",
       "    </tr>\n",
       "    <tr>\n",
       "      <th>1</th>\n",
       "      <td>10014178</td>\n",
       "      <td>8</td>\n",
       "      <td>4</td>\n",
       "      <td>79.7</td>\n",
       "      <td>4</td>\n",
       "      <td>2</td>\n",
       "      <td>3</td>\n",
       "      <td>9</td>\n",
       "      <td>Potential loyalists</td>\n",
       "      <td>100.0</td>\n",
       "    </tr>\n",
       "    <tr>\n",
       "      <th>2</th>\n",
       "      <td>10020905</td>\n",
       "      <td>13</td>\n",
       "      <td>10</td>\n",
       "      <td>151.2</td>\n",
       "      <td>3</td>\n",
       "      <td>1</td>\n",
       "      <td>2</td>\n",
       "      <td>6</td>\n",
       "      <td>Promising</td>\n",
       "      <td>100.0</td>\n",
       "    </tr>\n",
       "    <tr>\n",
       "      <th>3</th>\n",
       "      <td>10808222</td>\n",
       "      <td>7</td>\n",
       "      <td>16</td>\n",
       "      <td>402.8</td>\n",
       "      <td>4</td>\n",
       "      <td>1</td>\n",
       "      <td>1</td>\n",
       "      <td>6</td>\n",
       "      <td>New customers</td>\n",
       "      <td>100.0</td>\n",
       "    </tr>\n",
       "    <tr>\n",
       "      <th>4</th>\n",
       "      <td>11114832</td>\n",
       "      <td>2</td>\n",
       "      <td>13</td>\n",
       "      <td>209.1</td>\n",
       "      <td>4</td>\n",
       "      <td>1</td>\n",
       "      <td>1</td>\n",
       "      <td>6</td>\n",
       "      <td>New customers</td>\n",
       "      <td>100.0</td>\n",
       "    </tr>\n",
       "  </tbody>\n",
       "</table>\n",
       "</div>"
      ],
      "text/plain": [
       "     Client  Recency  Frequency  Monetary  R  F  M  RFM Score  \\\n",
       "0  10009606       19          4      97.4  2  2  3          7   \n",
       "1  10014178        8          4      79.7  4  2  3          9   \n",
       "2  10020905       13         10     151.2  3  1  2          6   \n",
       "3  10808222        7         16     402.8  4  1  1          6   \n",
       "4  11114832        2         13     209.1  4  1  1          6   \n",
       "\n",
       "               Segment  Pourcentage  \n",
       "0          Hibernating        100.0  \n",
       "1  Potential loyalists        100.0  \n",
       "2            Promising        100.0  \n",
       "3        New customers        100.0  \n",
       "4        New customers        100.0  "
      ]
     },
     "execution_count": 253,
     "metadata": {},
     "output_type": "execute_result"
    }
   ],
   "source": [
    "RFM.head()"
   ]
  },
  {
   "cell_type": "code",
   "execution_count": 256,
   "metadata": {},
   "outputs": [
    {
     "data": {
      "text/plain": [
       "<BarContainer object of 8 artists>"
      ]
     },
     "execution_count": 256,
     "metadata": {},
     "output_type": "execute_result"
    },
    {
     "data": {
      "image/png": "[encoded data removed]",
      "text/plain": [
       "<Figure size 576x432 with 1 Axes>"
      ]
     },
     "metadata": {
      "needs_background": "light"
     },
     "output_type": "display_data"
    }
   ],
   "source": [
    "plt.figure(figsize=(8, 6))\n",
    "colors = ['red', 'green', 'blue', 'orange', 'purple', 'yellow', 'cyan', 'magenta']\n",
    "plt.barh(y=pourcentages.index, width=pourcentages.values, color=colors, alpha=0.7)\n"
   ]
  },
  {
   "cell_type": "code",
   "execution_count": 258,
   "metadata": {},
   "outputs": [
    {
     "data": {
      "text/plain": [
       "([<matplotlib.patches.Wedge at 0x295e9ee9b50>,\n",
       "  <matplotlib.patches.Wedge at 0x295e9ee9880>],\n",
       " [Text(-0.7446936797217086, 0.8095871314333877, 'Femme'),\n",
       "  Text(0.7446936797217089, -0.8095871314333876, 'Homme')],\n",
       " [Text(-0.4061965525754774, 0.4415929807818478, '73.7%'),\n",
       "  Text(0.4061965525754775, -0.4415929807818477, '26.3%')])"
      ]
     },
     "execution_count": 258,
     "metadata": {},
     "output_type": "execute_result"
    },
    {
     "data": {
      "image/png": "[encoded data removed]",
      "text/plain": [
       "<Figure size 432x288 with 1 Axes>"
      ]
     },
     "metadata": {},
     "output_type": "display_data"
    }
   ],
   "source": [
    "modalites = client['Genre'].value_counts(normalize=True) * 100\n",
    "plt.pie(modalites, labels=modalites.index, autopct='%1.1f%%')"
   ]
  },
  {
   "cell_type": "code",
   "execution_count": 260,
   "metadata": {},
   "outputs": [
    {
     "data": {
      "text/plain": [
       "count    39809.000000\n",
       "mean        40.371323\n",
       "std         12.738967\n",
       "min          2.000000\n",
       "25%         33.000000\n",
       "50%         38.000000\n",
       "75%         45.000000\n",
       "max        123.000000\n",
       "Name: Age, dtype: float64"
      ]
     },
     "execution_count": 260,
     "metadata": {},
     "output_type": "execute_result"
    }
   ],
   "source": [
    "client['Age'].describe()"
   ]
  },
  {
   "cell_type": "code",
   "execution_count": 262,
   "metadata": {},
   "outputs": [
    {
     "data": {
      "image/png": "[encoded data removed]",
      "text/plain": [
       "<Figure size 576x432 with 1 Axes>"
      ]
     },
     "metadata": {
      "needs_background": "light"
     },
     "output_type": "display_data"
    }
   ],
   "source": [
    "plt.figure(figsize=(8, 6))\n",
    "plt.scatter(x=client.index, y=client['Age'], color='blue', alpha=0.7)\n",
    "plt.show()"
   ]
  },
  {
   "cell_type": "code",
   "execution_count": 263,
   "metadata": {},
   "outputs": [
    {
     "data": {
      "text/plain": [
       "([<matplotlib.axis.XTick at 0x295ea092760>,\n",
       "  <matplotlib.axis.XTick at 0x295ea092e50>,\n",
       "  <matplotlib.axis.XTick at 0x295e9dd8370>,\n",
       "  <matplotlib.axis.XTick at 0x295eb22f1c0>,\n",
       "  <matplotlib.axis.XTick at 0x295eb22f340>,\n",
       "  <matplotlib.axis.XTick at 0x295eb22f9a0>,\n",
       "  <matplotlib.axis.XTick at 0x295eb21ad60>],\n",
       " [Text(0, 0, '30-39'),\n",
       "  Text(0, 0, '40-49'),\n",
       "  Text(0, 0, '18-29'),\n",
       "  Text(0, 0, '50-59'),\n",
       "  Text(0, 0, '60-69'),\n",
       "  Text(0, 0, '70+'),\n",
       "  Text(0, 0, '0-17')])"
      ]
     },
     "execution_count": 263,
     "metadata": {},
     "output_type": "execute_result"
    },
    {
     "data": {
      "image/png": "[encoded data removed]",
      "text/plain": [
       "<Figure size 864x432 with 1 Axes>"
      ]
     },
     "metadata": {
      "needs_background": "light"
     },
     "output_type": "display_data"
    }
   ],
   "source": [
    "modalites = client['Catégorie d\\'âge'].value_counts()\n",
    "\n",
    "# Créer l'histogramme\n",
    "\n",
    "couleurs = ['blue', 'green', 'red', 'yellow', 'purple', 'orange']\n",
    "\n",
    "# Créer une liste de positions pour les barres\n",
    "positions = np.arange(len(modalites))\n",
    "\n",
    "plt.figure(figsize=(12, 6))\n",
    "\n",
    "# Créer l'histogramme en personnalisant les couleurs et l'espacement entre les barres\n",
    "plt.bar(positions, modalites, color=couleurs,width=0.6)\n",
    "plt.xticks(positions, modalites.index)"
   ]
  },
  {
   "cell_type": "code",
   "execution_count": 327,
   "metadata": {},
   "outputs": [
    {
     "data": {
      "text/plain": [
       "count     28620\n",
       "unique      187\n",
       "top           M\n",
       "freq       1782\n",
       "Name: Taille, dtype: object"
      ]
     },
     "execution_count": 327,
     "metadata": {},
     "output_type": "execute_result"
    }
   ],
   "source": [
    "article['Taille'].describe()"
   ]
  },
  {
   "cell_type": "code",
   "execution_count": 329,
   "metadata": {},
   "outputs": [
    {
     "data": {
      "text/plain": [
       "count           28620\n",
       "unique           2608\n",
       "top       REAL BLACK \n",
       "freq             2520\n",
       "Name: couleur, dtype: object"
      ]
     },
     "execution_count": 329,
     "metadata": {},
     "output_type": "execute_result"
    }
   ],
   "source": [
    "article['couleur'].describe()"
   ]
  },
  {
   "cell_type": "code",
   "execution_count": 268,
   "metadata": {},
   "outputs": [
    {
     "data": {
      "text/plain": [
       "([<matplotlib.axis.XTick at 0x295e9a79820>,\n",
       "  <matplotlib.axis.XTick at 0x295e9a79c10>,\n",
       "  <matplotlib.axis.XTick at 0x295e9eb24f0>,\n",
       "  <matplotlib.axis.XTick at 0x295ea183f70>,\n",
       "  <matplotlib.axis.XTick at 0x295ea13a8e0>,\n",
       "  <matplotlib.axis.XTick at 0x295ea13a970>,\n",
       "  <matplotlib.axis.XTick at 0x295ea178190>],\n",
       " [Text(0, 0, 'Samedi'),\n",
       "  Text(0, 0, 'Dimanche'),\n",
       "  Text(0, 0, 'Vendredi'),\n",
       "  Text(0, 0, 'Lundi'),\n",
       "  Text(0, 0, 'Mercredi'),\n",
       "  Text(0, 0, 'Jeudi'),\n",
       "  Text(0, 0, 'Mardi')])"
      ]
     },
     "execution_count": 268,
     "metadata": {},
     "output_type": "execute_result"
    },
    {
     "data": {
      "image/png": "[encoded data removed]",
      "text/plain": [
       "<Figure size 864x432 with 1 Axes>"
      ]
     },
     "metadata": {
      "needs_background": "light"
     },
     "output_type": "display_data"
    }
   ],
   "source": [
    "modalites = détail_transaction['Jour_Semaine'].value_counts()\n",
    "\n",
    "# Créer l'histogramme\n",
    "\n",
    "couleurs = ['blue', 'green', 'red', 'yellow', 'purple', 'orange']\n",
    "\n",
    "# Créer une liste de positions pour les barres\n",
    "positions = np.arange(len(modalites))\n",
    "\n",
    "plt.figure(figsize=(12, 6))\n",
    "\n",
    "# Créer l'histogramme en personnalisant les couleurs et l'espacement entre les barres\n",
    "plt.bar(positions, modalites, color=couleurs,width=0.6)\n",
    "plt.xticks(positions, modalites.index)"
   ]
  },
  {
   "cell_type": "code",
   "execution_count": 269,
   "metadata": {},
   "outputs": [
    {
     "data": {
      "text/plain": [
       "154666"
      ]
     },
     "execution_count": 269,
     "metadata": {},
     "output_type": "execute_result"
    }
   ],
   "source": [
    "np.sum(transaction['Total_TTC']>0)"
   ]
  },
  {
   "cell_type": "code",
   "execution_count": 270,
   "metadata": {},
   "outputs": [
    {
     "data": {
      "text/plain": [
       "0"
      ]
     },
     "execution_count": 270,
     "metadata": {},
     "output_type": "execute_result"
    }
   ],
   "source": [
    "np.sum(transaction['Total_TTC']<=0)"
   ]
  },
  {
   "cell_type": "code",
   "execution_count": 272,
   "metadata": {},
   "outputs": [
    {
     "data": {
      "text/plain": [
       "array(['Homme', 'Femme'], dtype=object)"
      ]
     },
     "execution_count": 272,
     "metadata": {},
     "output_type": "execute_result"
    }
   ],
   "source": [
    "client[\"Genre\"].unique()"
   ]
  },
  {
   "cell_type": "code",
   "execution_count": 275,
   "metadata": {},
   "outputs": [
    {
     "data": {
      "image/png": "[encoded data removed]",
      "text/plain": [
       "<Figure size 720x432 with 1 Axes>"
      ]
     },
     "metadata": {
      "needs_background": "light"
     },
     "output_type": "display_data"
    }
   ],
   "source": [
    "# Créer un DataFrame pour chaque modalité\n",
    "df_modalite1 = client[client['Genre'] == 'Homme']\n",
    "df_modalite2 = client[client['Genre'] == 'Femme']\n",
    "\n",
    "# Obtenir les fréquences pour chaque modalité de Modalité2\n",
    "modalite1_counts = df_modalite1['Catégorie d\\'âge'].value_counts()\n",
    "modalite2_counts = df_modalite2['Catégorie d\\'âge'].value_counts()\n",
    "\n",
    "# Créer un graphique à barres groupées\n",
    "plt.figure(figsize=(10, 6))\n",
    "\n",
    "bar_width = 0.35\n",
    "index = range(len(modalite1_counts))\n",
    "\n",
    "plt.bar(index, modalite1_counts, bar_width, alpha=0.7, label='Homme')\n",
    "plt.bar([i + bar_width for i in index], modalite2_counts, bar_width, alpha=0.7, label='Femme')\n",
    "plt.xticks([i + bar_width/2 for i in index], modalite1_counts.index)\n",
    "plt.show()"
   ]
  },
  {
   "cell_type": "code",
   "execution_count": 276,
   "metadata": {},
   "outputs": [
    {
     "data": {
      "text/plain": [
       "array(['KIABISOUKRA', 'KIABI MANAR', 'AZURCITY', 'TUNISCITY',\n",
       "       'KIABIBARDO'], dtype=object)"
      ]
     },
     "execution_count": 276,
     "metadata": {},
     "output_type": "execute_result"
    }
   ],
   "source": [
    "client[\"Etablissement passage\"].unique()"
   ]
  },
  {
   "cell_type": "code",
   "execution_count": 311,
   "metadata": {},
   "outputs": [
    {
     "data": {
      "image/png": "[encoded data removed]",
      "text/plain": [
       "<Figure size 720x432 with 1 Axes>"
      ]
     },
     "metadata": {
      "needs_background": "light"
     },
     "output_type": "display_data"
    }
   ],
   "source": [
    "# Créer un DataFrame pour chaque modalité\n",
    "df_modalite1 = client[client['Etablissement passage'] == 'KIABISOUKRA']\n",
    "df_modalite2 = client[client['Etablissement passage'] == 'KIABI MANAR']\n",
    "df_modalite3 = client[client['Etablissement passage'] == 'AZURCITY']\n",
    "df_modalite4 = client[client['Etablissement passage'] == 'TUNISCITY']\n",
    "df_modalite5 = client[client['Etablissement passage'] == 'KIABIBARDO']\n",
    "\n",
    "# Obtenir les fréquences pour chaque modalité de Modalité2\n",
    "modalite1_counts = df_modalite1['Genre'].value_counts()\n",
    "modalite2_counts = df_modalite2['Genre'].value_counts()\n",
    "modalite3_counts = df_modalite3['Genre'].value_counts()\n",
    "modalite4_counts = df_modalite4['Genre'].value_counts()\n",
    "modalite5_counts = df_modalite5['Genre'].value_counts()\n",
    "\n",
    "# Créer un graphique à barres groupées\n",
    "plt.figure(figsize=(10, 6))\n",
    "\n",
    "bar_width = 0.15\n",
    "index = range(len(modalite1_counts))\n",
    "\n",
    "plt.bar(index, modalite1_counts, bar_width, alpha=0.7, label='KIABISOUKRA')\n",
    "plt.bar([i + bar_width for i in index], modalite2_counts, bar_width, alpha=0.7, label='KIABI MANAR')\n",
    "plt.bar([i + 2*bar_width for i in index], modalite3_counts, bar_width, alpha=0.7, label='AZURCITY')\n",
    "plt.bar([i + 3*bar_width for i in index], modalite3_counts, bar_width, alpha=0.7, label='TUNISCITY')\n",
    "plt.bar([i + 4*bar_width for i in index], modalite3_counts, bar_width, alpha=0.7, label='KIABIBARDO')\n",
    "plt.xticks([i + bar_width for i in index], modalite1_counts.index)\n",
    "plt.show()"
   ]
  },
  {
   "cell_type": "code",
   "execution_count": 314,
   "metadata": {},
   "outputs": [
    {
     "data": {
      "text/html": [
       "<div>\n",
       "<style scoped>\n",
       "    .dataframe tbody tr th:only-of-type {\n",
       "        vertical-align: middle;\n",
       "    }\n",
       "\n",
       "    .dataframe tbody tr th {\n",
       "        vertical-align: top;\n",
       "    }\n",
       "\n",
       "    .dataframe thead th {\n",
       "        text-align: right;\n",
       "    }\n",
       "</style>\n",
       "<table border=\"1\" class=\"dataframe\">\n",
       "  <thead>\n",
       "    <tr style=\"text-align: right;\">\n",
       "      <th></th>\n",
       "      <th>Total_TTC</th>\n",
       "    </tr>\n",
       "  </thead>\n",
       "  <tbody>\n",
       "    <tr>\n",
       "      <th>count</th>\n",
       "      <td>45.000000</td>\n",
       "    </tr>\n",
       "    <tr>\n",
       "      <th>mean</th>\n",
       "      <td>134517.135778</td>\n",
       "    </tr>\n",
       "    <tr>\n",
       "      <th>std</th>\n",
       "      <td>77226.646958</td>\n",
       "    </tr>\n",
       "    <tr>\n",
       "      <th>min</th>\n",
       "      <td>419.000000</td>\n",
       "    </tr>\n",
       "    <tr>\n",
       "      <th>25%</th>\n",
       "      <td>87328.500000</td>\n",
       "    </tr>\n",
       "    <tr>\n",
       "      <th>50%</th>\n",
       "      <td>101796.100000</td>\n",
       "    </tr>\n",
       "    <tr>\n",
       "      <th>75%</th>\n",
       "      <td>162453.550000</td>\n",
       "    </tr>\n",
       "    <tr>\n",
       "      <th>max</th>\n",
       "      <td>374506.550000</td>\n",
       "    </tr>\n",
       "  </tbody>\n",
       "</table>\n",
       "</div>"
      ],
      "text/plain": [
       "           Total_TTC\n",
       "count      45.000000\n",
       "mean   134517.135778\n",
       "std     77226.646958\n",
       "min       419.000000\n",
       "25%     87328.500000\n",
       "50%    101796.100000\n",
       "75%    162453.550000\n",
       "max    374506.550000"
      ]
     },
     "execution_count": 314,
     "metadata": {},
     "output_type": "execute_result"
    }
   ],
   "source": [
    "x = data.groupby('DateAchat').agg({\"Total_TTC\":\"sum\"})\n",
    "x.describe()"
   ]
  },
  {
   "cell_type": "code",
   "execution_count": 322,
   "metadata": {},
   "outputs": [
    {
     "data": {
      "text/html": [
       "<div>\n",
       "<style scoped>\n",
       "    .dataframe tbody tr th:only-of-type {\n",
       "        vertical-align: middle;\n",
       "    }\n",
       "\n",
       "    .dataframe tbody tr th {\n",
       "        vertical-align: top;\n",
       "    }\n",
       "\n",
       "    .dataframe thead th {\n",
       "        text-align: right;\n",
       "    }\n",
       "</style>\n",
       "<table border=\"1\" class=\"dataframe\">\n",
       "  <thead>\n",
       "    <tr style=\"text-align: right;\">\n",
       "      <th></th>\n",
       "      <th>Client</th>\n",
       "      <th>Recency</th>\n",
       "      <th>Frequency</th>\n",
       "      <th>Monetary</th>\n",
       "      <th>R</th>\n",
       "      <th>F</th>\n",
       "      <th>M</th>\n",
       "      <th>RFM Score</th>\n",
       "      <th>Segment</th>\n",
       "    </tr>\n",
       "  </thead>\n",
       "  <tbody>\n",
       "    <tr>\n",
       "      <th>0</th>\n",
       "      <td>10009606</td>\n",
       "      <td>19</td>\n",
       "      <td>4</td>\n",
       "      <td>97.4</td>\n",
       "      <td>2</td>\n",
       "      <td>2</td>\n",
       "      <td>3</td>\n",
       "      <td>7</td>\n",
       "      <td>Hibernating</td>\n",
       "    </tr>\n",
       "    <tr>\n",
       "      <th>1</th>\n",
       "      <td>10014178</td>\n",
       "      <td>8</td>\n",
       "      <td>4</td>\n",
       "      <td>79.7</td>\n",
       "      <td>4</td>\n",
       "      <td>2</td>\n",
       "      <td>3</td>\n",
       "      <td>9</td>\n",
       "      <td>Potential loyalists</td>\n",
       "    </tr>\n",
       "    <tr>\n",
       "      <th>2</th>\n",
       "      <td>10020905</td>\n",
       "      <td>13</td>\n",
       "      <td>10</td>\n",
       "      <td>151.2</td>\n",
       "      <td>3</td>\n",
       "      <td>1</td>\n",
       "      <td>2</td>\n",
       "      <td>6</td>\n",
       "      <td>Promising</td>\n",
       "    </tr>\n",
       "    <tr>\n",
       "      <th>3</th>\n",
       "      <td>10808222</td>\n",
       "      <td>7</td>\n",
       "      <td>16</td>\n",
       "      <td>402.8</td>\n",
       "      <td>4</td>\n",
       "      <td>1</td>\n",
       "      <td>1</td>\n",
       "      <td>6</td>\n",
       "      <td>New customers</td>\n",
       "    </tr>\n",
       "    <tr>\n",
       "      <th>4</th>\n",
       "      <td>11114832</td>\n",
       "      <td>2</td>\n",
       "      <td>13</td>\n",
       "      <td>209.1</td>\n",
       "      <td>4</td>\n",
       "      <td>1</td>\n",
       "      <td>1</td>\n",
       "      <td>6</td>\n",
       "      <td>New customers</td>\n",
       "    </tr>\n",
       "    <tr>\n",
       "      <th>...</th>\n",
       "      <td>...</td>\n",
       "      <td>...</td>\n",
       "      <td>...</td>\n",
       "      <td>...</td>\n",
       "      <td>...</td>\n",
       "      <td>...</td>\n",
       "      <td>...</td>\n",
       "      <td>...</td>\n",
       "      <td>...</td>\n",
       "    </tr>\n",
       "    <tr>\n",
       "      <th>36386</th>\n",
       "      <td>MM728979</td>\n",
       "      <td>10</td>\n",
       "      <td>4</td>\n",
       "      <td>227.0</td>\n",
       "      <td>4</td>\n",
       "      <td>2</td>\n",
       "      <td>1</td>\n",
       "      <td>7</td>\n",
       "      <td>Potential loyalists</td>\n",
       "    </tr>\n",
       "    <tr>\n",
       "      <th>36387</th>\n",
       "      <td>MM729303</td>\n",
       "      <td>9</td>\n",
       "      <td>17</td>\n",
       "      <td>308.0</td>\n",
       "      <td>4</td>\n",
       "      <td>1</td>\n",
       "      <td>1</td>\n",
       "      <td>6</td>\n",
       "      <td>New customers</td>\n",
       "    </tr>\n",
       "    <tr>\n",
       "      <th>36388</th>\n",
       "      <td>MM729529</td>\n",
       "      <td>11</td>\n",
       "      <td>1</td>\n",
       "      <td>29.0</td>\n",
       "      <td>4</td>\n",
       "      <td>4</td>\n",
       "      <td>4</td>\n",
       "      <td>12</td>\n",
       "      <td>Champions</td>\n",
       "    </tr>\n",
       "    <tr>\n",
       "      <th>36389</th>\n",
       "      <td>SC000004</td>\n",
       "      <td>4</td>\n",
       "      <td>52</td>\n",
       "      <td>2160.3</td>\n",
       "      <td>4</td>\n",
       "      <td>1</td>\n",
       "      <td>1</td>\n",
       "      <td>6</td>\n",
       "      <td>New customers</td>\n",
       "    </tr>\n",
       "    <tr>\n",
       "      <th>36390</th>\n",
       "      <td>SMSPRG17</td>\n",
       "      <td>3</td>\n",
       "      <td>3</td>\n",
       "      <td>39.0</td>\n",
       "      <td>4</td>\n",
       "      <td>3</td>\n",
       "      <td>4</td>\n",
       "      <td>11</td>\n",
       "      <td>Champions</td>\n",
       "    </tr>\n",
       "  </tbody>\n",
       "</table>\n",
       "<p>36391 rows × 9 columns</p>\n",
       "</div>"
      ],
      "text/plain": [
       "         Client  Recency  Frequency  Monetary  R  F  M  RFM Score  \\\n",
       "0      10009606       19          4      97.4  2  2  3          7   \n",
       "1      10014178        8          4      79.7  4  2  3          9   \n",
       "2      10020905       13         10     151.2  3  1  2          6   \n",
       "3      10808222        7         16     402.8  4  1  1          6   \n",
       "4      11114832        2         13     209.1  4  1  1          6   \n",
       "...         ...      ...        ...       ... .. .. ..        ...   \n",
       "36386  MM728979       10          4     227.0  4  2  1          7   \n",
       "36387  MM729303        9         17     308.0  4  1  1          6   \n",
       "36388  MM729529       11          1      29.0  4  4  4         12   \n",
       "36389  SC000004        4         52    2160.3  4  1  1          6   \n",
       "36390  SMSPRG17        3          3      39.0  4  3  4         11   \n",
       "\n",
       "                   Segment  \n",
       "0              Hibernating  \n",
       "1      Potential loyalists  \n",
       "2                Promising  \n",
       "3            New customers  \n",
       "4            New customers  \n",
       "...                    ...  \n",
       "36386  Potential loyalists  \n",
       "36387        New customers  \n",
       "36388            Champions  \n",
       "36389        New customers  \n",
       "36390            Champions  \n",
       "\n",
       "[36391 rows x 9 columns]"
      ]
     },
     "execution_count": 322,
     "metadata": {},
     "output_type": "execute_result"
    }
   ],
   "source": [
    "RFM.drop('Pourcentage', axis=1, inplace=True)\n",
    "RFM"
   ]
  },
  {
   "cell_type": "code",
   "execution_count": 323,
   "metadata": {},
   "outputs": [],
   "source": [
    "RFM.to_csv('RFM.csv', index=False)"
   ]
  },
  {
   "cell_type": "code",
   "execution_count": null,
   "metadata": {},
   "outputs": [],
   "source": []
  }
 ],
 "metadata": {
  "kernelspec": {
   "display_name": "Python 3 (ipykernel)",
   "language": "python",
   "name": "python3"
  },
  "language_info": {
   "codemirror_mode": {
    "name": "ipython",
    "version": 3
   },
   "file_extension": ".py",
   "mimetype": "text/x-python",
   "name": "python",
   "nbconvert_exporter": "python",
   "pygments_lexer": "ipython3",
   "version": "3.11.5"
  }
 },
 "nbformat": 4,
 "nbformat_minor": 4
}
